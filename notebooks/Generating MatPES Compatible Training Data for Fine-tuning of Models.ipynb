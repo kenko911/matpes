{
 "cells": [
  {
   "cell_type": "markdown",
   "id": "0",
   "metadata": {},
   "source": [
    "# Introduction\n",
    "\n",
    "This notebook shows how to use pymatgen to generate VASP inputs for MatPES-compatible calculations. This is very useful if you intend to generate additional training data to fine-tine MatPES models."
   ]
  },
  {
   "cell_type": "code",
   "execution_count": null,
   "id": "1",
   "metadata": {},
   "outputs": [],
   "source": [
    "from __future__ import annotations\n",
    "\n",
    "from pymatgen.core import Lattice, Structure\n",
    "from pymatgen.io.vasp.sets import MatPESStaticSet"
   ]
  },
  {
   "cell_type": "code",
   "execution_count": null,
   "id": "2",
   "metadata": {},
   "outputs": [],
   "source": [
    "example_structure = Structure.from_spacegroup(\"Im-3m\", Lattice.cubic(3), [\"Li\", \"Li\"], [[0, 0, 0], [0.5, 0.5, 0.5]])"
   ]
  },
  {
   "cell_type": "code",
   "execution_count": null,
   "id": "3",
   "metadata": {},
   "outputs": [
    {
     "name": "stdout",
     "output_type": "stream",
     "text": [
      "ALGO = Normal\n",
      "EDIFF = 1e-05\n",
      "ENAUG = 1360\n",
      "ENCUT = 680.0\n",
      "GGA = Pe\n",
      "ISMEAR = 0\n",
      "ISPIN = 2\n",
      "KSPACING = 0.22\n",
      "LAECHG = True\n",
      "LASPH = True\n",
      "LCHARG = True\n",
      "LMAXMIX = 6\n",
      "LMIXTAU = True\n",
      "LORBIT = 11\n",
      "LREAL = False\n",
      "LWAVE = False\n",
      "MAGMOM = 4*0.6\n",
      "NELM = 200\n",
      "NSW = 0\n",
      "PREC = Accurate\n",
      "SIGMA = 0.05\n",
      "\n"
     ]
    }
   ],
   "source": [
    "vis = MatPESStaticSet(example_structure, xc_functional=\"PBE\")\n",
    "print(vis.incar)"
   ]
  },
  {
   "cell_type": "markdown",
   "id": "4",
   "metadata": {},
   "source": [
    "Note the strict ENCUT and EDIFF used."
   ]
  },
  {
   "cell_type": "code",
   "execution_count": null,
   "id": "5",
   "metadata": {},
   "outputs": [],
   "source": [
    "# To write the input files to a directory, use the following line.\n",
    "# vis.write_input(\"Li\")"
   ]
  },
  {
   "cell_type": "markdown",
   "id": "6",
   "metadata": {},
   "source": [
    "Similarly, the r2SCAN data can be generated using the following code:"
   ]
  },
  {
   "cell_type": "code",
   "execution_count": null,
   "id": "7",
   "metadata": {},
   "outputs": [
    {
     "name": "stdout",
     "output_type": "stream",
     "text": [
      "ALGO = All\n",
      "EDIFF = 1e-05\n",
      "ENAUG = 1360\n",
      "ENCUT = 680.0\n",
      "ISMEAR = 0\n",
      "ISPIN = 2\n",
      "KSPACING = 0.22\n",
      "LAECHG = True\n",
      "LASPH = True\n",
      "LCHARG = True\n",
      "LMAXMIX = 6\n",
      "LMIXTAU = True\n",
      "LORBIT = 11\n",
      "LREAL = False\n",
      "LWAVE = False\n",
      "MAGMOM = 4*0.6\n",
      "METAGGA = R2scan\n",
      "NELM = 200\n",
      "NSW = 0\n",
      "PREC = Accurate\n",
      "SIGMA = 0.05\n",
      "\n"
     ]
    }
   ],
   "source": [
    "vis = MatPESStaticSet(example_structure, xc_functional=\"r2SCAN\")\n",
    "print(vis.incar)"
   ]
  }
 ],
 "metadata": {
  "kernelspec": {
   "display_name": "Python 3 (ipykernel)",
   "language": "python",
   "name": "python3"
  },
  "language_info": {
   "codemirror_mode": {
    "name": "ipython",
    "version": 3
   },
   "file_extension": ".py",
   "mimetype": "text/x-python",
   "name": "python",
   "nbconvert_exporter": "python",
   "pygments_lexer": "ipython3",
   "version": "3.11.10"
  }
 },
 "nbformat": 4,
 "nbformat_minor": 5
}
