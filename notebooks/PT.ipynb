{
 "cells": [
  {
   "cell_type": "code",
   "execution_count": null,
   "id": "0",
   "metadata": {},
   "outputs": [
    {
     "name": "stderr",
     "output_type": "stream",
     "text": [
      "/Users/shyue/repos/pymatgen/src/pymatgen/core/periodic_table.py:294: UserWarning:\n",
      "\n",
      "No Pauling electronegativity for He. Setting to NaN. This has no physical meaning, and is mainly done to avoid errors caused by the code expecting a float.\n",
      "\n",
      "/Users/shyue/repos/pymatgen/src/pymatgen/core/periodic_table.py:294: UserWarning:\n",
      "\n",
      "No Pauling electronegativity for Ne. Setting to NaN. This has no physical meaning, and is mainly done to avoid errors caused by the code expecting a float.\n",
      "\n",
      "/Users/shyue/repos/pymatgen/src/pymatgen/core/periodic_table.py:294: UserWarning:\n",
      "\n",
      "No Pauling electronegativity for Ar. Setting to NaN. This has no physical meaning, and is mainly done to avoid errors caused by the code expecting a float.\n",
      "\n",
      "/Users/shyue/repos/pymatgen/src/pymatgen/core/periodic_table.py:294: UserWarning:\n",
      "\n",
      "No Pauling electronegativity for Rf. Setting to NaN. This has no physical meaning, and is mainly done to avoid errors caused by the code expecting a float.\n",
      "\n",
      "/Users/shyue/repos/pymatgen/src/pymatgen/core/periodic_table.py:294: UserWarning:\n",
      "\n",
      "No Pauling electronegativity for Db. Setting to NaN. This has no physical meaning, and is mainly done to avoid errors caused by the code expecting a float.\n",
      "\n",
      "/Users/shyue/repos/pymatgen/src/pymatgen/core/periodic_table.py:294: UserWarning:\n",
      "\n",
      "No Pauling electronegativity for Sg. Setting to NaN. This has no physical meaning, and is mainly done to avoid errors caused by the code expecting a float.\n",
      "\n",
      "/Users/shyue/repos/pymatgen/src/pymatgen/core/periodic_table.py:294: UserWarning:\n",
      "\n",
      "No Pauling electronegativity for Bh. Setting to NaN. This has no physical meaning, and is mainly done to avoid errors caused by the code expecting a float.\n",
      "\n",
      "/Users/shyue/repos/pymatgen/src/pymatgen/core/periodic_table.py:294: UserWarning:\n",
      "\n",
      "No Pauling electronegativity for Hs. Setting to NaN. This has no physical meaning, and is mainly done to avoid errors caused by the code expecting a float.\n",
      "\n",
      "/Users/shyue/repos/pymatgen/src/pymatgen/core/periodic_table.py:294: UserWarning:\n",
      "\n",
      "No Pauling electronegativity for Mt. Setting to NaN. This has no physical meaning, and is mainly done to avoid errors caused by the code expecting a float.\n",
      "\n",
      "/Users/shyue/repos/pymatgen/src/pymatgen/core/periodic_table.py:294: UserWarning:\n",
      "\n",
      "No Pauling electronegativity for Ds. Setting to NaN. This has no physical meaning, and is mainly done to avoid errors caused by the code expecting a float.\n",
      "\n",
      "/Users/shyue/repos/pymatgen/src/pymatgen/core/periodic_table.py:294: UserWarning:\n",
      "\n",
      "No Pauling electronegativity for Rg. Setting to NaN. This has no physical meaning, and is mainly done to avoid errors caused by the code expecting a float.\n",
      "\n",
      "/Users/shyue/repos/pymatgen/src/pymatgen/core/periodic_table.py:294: UserWarning:\n",
      "\n",
      "No Pauling electronegativity for Cn. Setting to NaN. This has no physical meaning, and is mainly done to avoid errors caused by the code expecting a float.\n",
      "\n",
      "/Users/shyue/repos/pymatgen/src/pymatgen/core/periodic_table.py:294: UserWarning:\n",
      "\n",
      "No Pauling electronegativity for Nh. Setting to NaN. This has no physical meaning, and is mainly done to avoid errors caused by the code expecting a float.\n",
      "\n",
      "/Users/shyue/repos/pymatgen/src/pymatgen/core/periodic_table.py:294: UserWarning:\n",
      "\n",
      "No Pauling electronegativity for Fl. Setting to NaN. This has no physical meaning, and is mainly done to avoid errors caused by the code expecting a float.\n",
      "\n",
      "/Users/shyue/repos/pymatgen/src/pymatgen/core/periodic_table.py:294: UserWarning:\n",
      "\n",
      "No Pauling electronegativity for Mc. Setting to NaN. This has no physical meaning, and is mainly done to avoid errors caused by the code expecting a float.\n",
      "\n",
      "/Users/shyue/repos/pymatgen/src/pymatgen/core/periodic_table.py:294: UserWarning:\n",
      "\n",
      "No Pauling electronegativity for Lv. Setting to NaN. This has no physical meaning, and is mainly done to avoid errors caused by the code expecting a float.\n",
      "\n",
      "/Users/shyue/repos/pymatgen/src/pymatgen/core/periodic_table.py:294: UserWarning:\n",
      "\n",
      "No Pauling electronegativity for Ts. Setting to NaN. This has no physical meaning, and is mainly done to avoid errors caused by the code expecting a float.\n",
      "\n",
      "/Users/shyue/repos/pymatgen/src/pymatgen/core/periodic_table.py:294: UserWarning:\n",
      "\n",
      "No Pauling electronegativity for Og. Setting to NaN. This has no physical meaning, and is mainly done to avoid errors caused by the code expecting a float.\n",
      "\n"
     ]
    }
   ],
   "source": [
    "from __future__ import annotations\n",
    "\n",
    "import pandas as pd\n",
    "import plotly.express as px\n",
    "from pymatgen.core.periodic_table import Element\n",
    "\n",
    "\n",
    "# Define periodic table data\n",
    "def get_period(el):\n",
    "    if el.is_actinoid or el.is_lanthanoid:\n",
    "        return el.row + 3\n",
    "    return el.row\n",
    "\n",
    "\n",
    "def get_group(el):\n",
    "    if el.is_actinoid:\n",
    "        return el.group + el.Z - 89\n",
    "    if el.is_lanthanoid:\n",
    "        return el.group + el.Z - 57\n",
    "    return el.group\n",
    "\n",
    "\n",
    "def get_category(el):\n",
    "    if el.Z > 92:\n",
    "        return \"transuranic\"\n",
    "    for cat in [\"alkali\", \"alkaline\", \"actinoid\", \"lanthanoid\", \"halogen\", \"noble_gas\", \"metal\", \"chalcogen\"]:\n",
    "        if getattr(el, f\"is_{cat}\"):\n",
    "            return cat\n",
    "    return \"\"\n",
    "\n",
    "\n",
    "df = pd.DataFrame(\n",
    "    [\n",
    "        {\n",
    "            \"symbol\": el.symbol,\n",
    "            \"name\": el.long_name,\n",
    "            \"Z\": el.Z,\n",
    "            \"X\": el.X,\n",
    "            \"group\": get_group(el),\n",
    "            \"period\": get_period(el),\n",
    "            \"category\": get_category(el),\n",
    "        }\n",
    "        for el in Element\n",
    "    ]\n",
    ")"
   ]
  },
  {
   "cell_type": "code",
   "execution_count": null,
   "id": "1",
   "metadata": {},
   "outputs": [
    {
     "data": {
      "application/vnd.plotly.v1+json": {
       "config": {
        "plotlyServerURL": "https://plot.ly"
       },
       "data": [
        {
         "customdata": [
          [
           1,
           "Hydrogen",
           "<br>1<br>H<br>",
           2.2
          ],
          [
           1,
           "Deuterium",
           "<br>1<br>H<br>",
           2.2
          ],
          [
           1,
           "Tritium",
           "<br>1<br>H<br>",
           2.2
          ],
          [
           2,
           "Helium",
           "<br>2<br>He<br>",
           null
          ],
          [
           3,
           "Lithium",
           "<br>3<br>Li<br>",
           0.98
          ],
          [
           4,
           "Beryllium",
           "<br>4<br>Be<br>",
           1.57
          ],
          [
           5,
           "Boron",
           "<br>5<br>B<br>",
           2.04
          ],
          [
           6,
           "Carbon",
           "<br>6<br>C<br>",
           2.55
          ],
          [
           7,
           "Nitrogen",
           "<br>7<br>N<br>",
           3.04
          ],
          [
           8,
           "Oxygen",
           "<br>8<br>O<br>",
           3.44
          ],
          [
           9,
           "Fluorine",
           "<br>9<br>F<br>",
           3.98
          ],
          [
           10,
           "Neon",
           "<br>10<br>Ne<br>",
           null
          ],
          [
           11,
           "Sodium",
           "<br>11<br>Na<br>",
           0.93
          ],
          [
           12,
           "Magnesium",
           "<br>12<br>Mg<br>",
           1.31
          ],
          [
           13,
           "Aluminum",
           "<br>13<br>Al<br>",
           1.61
          ],
          [
           14,
           "Silicon",
           "<br>14<br>Si<br>",
           1.9
          ],
          [
           15,
           "Phosphorus",
           "<br>15<br>P<br>",
           2.19
          ],
          [
           16,
           "Sulfur",
           "<br>16<br>S<br>",
           2.58
          ],
          [
           17,
           "Chlorine",
           "<br>17<br>Cl<br>",
           3.16
          ],
          [
           18,
           "Argon",
           "<br>18<br>Ar<br>",
           null
          ],
          [
           19,
           "Potassium",
           "<br>19<br>K<br>",
           0.82
          ],
          [
           20,
           "Calcium",
           "<br>20<br>Ca<br>",
           1
          ],
          [
           21,
           "Scandium",
           "<br>21<br>Sc<br>",
           1.36
          ],
          [
           22,
           "Titanium",
           "<br>22<br>Ti<br>",
           1.54
          ],
          [
           23,
           "Vanadium",
           "<br>23<br>V<br>",
           1.63
          ],
          [
           24,
           "Chromium",
           "<br>24<br>Cr<br>",
           1.66
          ],
          [
           25,
           "Manganese",
           "<br>25<br>Mn<br>",
           1.55
          ],
          [
           26,
           "Iron",
           "<br>26<br>Fe<br>",
           1.83
          ],
          [
           27,
           "Cobalt",
           "<br>27<br>Co<br>",
           1.88
          ],
          [
           28,
           "Nickel",
           "<br>28<br>Ni<br>",
           1.91
          ],
          [
           29,
           "Copper",
           "<br>29<br>Cu<br>",
           1.9
          ],
          [
           30,
           "Zinc",
           "<br>30<br>Zn<br>",
           1.65
          ],
          [
           31,
           "Gallium",
           "<br>31<br>Ga<br>",
           1.81
          ],
          [
           32,
           "Germanium",
           "<br>32<br>Ge<br>",
           2.01
          ],
          [
           33,
           "Arsenic",
           "<br>33<br>As<br>",
           2.18
          ],
          [
           34,
           "Selenium",
           "<br>34<br>Se<br>",
           2.55
          ],
          [
           35,
           "Bromine",
           "<br>35<br>Br<br>",
           2.96
          ],
          [
           36,
           "Krypton",
           "<br>36<br>Kr<br>",
           3
          ],
          [
           37,
           "Rubidium",
           "<br>37<br>Rb<br>",
           0.82
          ],
          [
           38,
           "Strontium",
           "<br>38<br>Sr<br>",
           0.95
          ],
          [
           39,
           "Yttrium",
           "<br>39<br>Y<br>",
           1.22
          ],
          [
           40,
           "Zirconium",
           "<br>40<br>Zr<br>",
           1.33
          ],
          [
           41,
           "Niobium",
           "<br>41<br>Nb<br>",
           1.6
          ],
          [
           42,
           "Molybdenum",
           "<br>42<br>Mo<br>",
           2.16
          ],
          [
           43,
           "Technetium",
           "<br>43<br>Tc<br>",
           1.9
          ],
          [
           44,
           "Ruthenium",
           "<br>44<br>Ru<br>",
           2.2
          ],
          [
           45,
           "Rhodium",
           "<br>45<br>Rh<br>",
           2.28
          ],
          [
           46,
           "Palladium",
           "<br>46<br>Pd<br>",
           2.2
          ],
          [
           47,
           "Silver",
           "<br>47<br>Ag<br>",
           1.93
          ],
          [
           48,
           "Cadmium",
           "<br>48<br>Cd<br>",
           1.69
          ],
          [
           49,
           "Indium",
           "<br>49<br>In<br>",
           1.78
          ],
          [
           50,
           "Tin",
           "<br>50<br>Sn<br>",
           1.96
          ],
          [
           51,
           "Antimony",
           "<br>51<br>Sb<br>",
           2.05
          ],
          [
           52,
           "Tellurium",
           "<br>52<br>Te<br>",
           2.1
          ],
          [
           53,
           "Iodine",
           "<br>53<br>I<br>",
           2.66
          ],
          [
           54,
           "Xenon",
           "<br>54<br>Xe<br>",
           2.6
          ],
          [
           55,
           "Cesium",
           "<br>55<br>Cs<br>",
           0.79
          ],
          [
           56,
           "Barium",
           "<br>56<br>Ba<br>",
           0.89
          ],
          [
           57,
           "Lanthanum",
           "<br>57<br>La<br>",
           1.1
          ],
          [
           58,
           "Cerium",
           "<br>58<br>Ce<br>",
           1.12
          ],
          [
           59,
           "Praseodymium",
           "<br>59<br>Pr<br>",
           1.13
          ],
          [
           60,
           "Neodymium",
           "<br>60<br>Nd<br>",
           1.14
          ],
          [
           61,
           "Promethium",
           "<br>61<br>Pm<br>",
           1.13
          ],
          [
           62,
           "Samarium",
           "<br>62<br>Sm<br>",
           1.17
          ],
          [
           63,
           "Europium",
           "<br>63<br>Eu<br>",
           1.2
          ],
          [
           64,
           "Gadolinium",
           "<br>64<br>Gd<br>",
           1.2
          ],
          [
           65,
           "Terbium",
           "<br>65<br>Tb<br>",
           1.1
          ],
          [
           66,
           "Dysprosium",
           "<br>66<br>Dy<br>",
           1.22
          ],
          [
           67,
           "Holmium",
           "<br>67<br>Ho<br>",
           1.23
          ],
          [
           68,
           "Erbium",
           "<br>68<br>Er<br>",
           1.24
          ],
          [
           69,
           "Thulium",
           "<br>69<br>Tm<br>",
           1.25
          ],
          [
           70,
           "Ytterbium",
           "<br>70<br>Yb<br>",
           1.1
          ],
          [
           71,
           "Lutetium",
           "<br>71<br>Lu<br>",
           1.27
          ],
          [
           72,
           "Hafnium",
           "<br>72<br>Hf<br>",
           1.3
          ],
          [
           73,
           "Tantalum",
           "<br>73<br>Ta<br>",
           1.5
          ],
          [
           74,
           "Tungsten",
           "<br>74<br>W<br>",
           2.36
          ],
          [
           75,
           "Rhenium",
           "<br>75<br>Re<br>",
           1.9
          ],
          [
           76,
           "Osmium",
           "<br>76<br>Os<br>",
           2.2
          ],
          [
           77,
           "Iridium",
           "<br>77<br>Ir<br>",
           2.2
          ],
          [
           78,
           "Platinum",
           "<br>78<br>Pt<br>",
           2.28
          ],
          [
           79,
           "Gold",
           "<br>79<br>Au<br>",
           2.54
          ],
          [
           80,
           "Mercury",
           "<br>80<br>Hg<br>",
           2
          ],
          [
           81,
           "Thallium",
           "<br>81<br>Tl<br>",
           1.62
          ],
          [
           82,
           "Lead",
           "<br>82<br>Pb<br>",
           2.33
          ],
          [
           83,
           "Bismuth",
           "<br>83<br>Bi<br>",
           2.02
          ],
          [
           84,
           "Polonium",
           "<br>84<br>Po<br>",
           2
          ],
          [
           85,
           "Astatine",
           "<br>85<br>At<br>",
           2.2
          ],
          [
           86,
           "Radon",
           "<br>86<br>Rn<br>",
           2.2
          ],
          [
           87,
           "Francium",
           "<br>87<br>Fr<br>",
           0.7
          ],
          [
           88,
           "Radium",
           "<br>88<br>Ra<br>",
           0.9
          ],
          [
           89,
           "Actinium",
           "<br>89<br>Ac<br>",
           1.1
          ],
          [
           90,
           "Thorium",
           "<br>90<br>Th<br>",
           1.3
          ],
          [
           91,
           "Protactinium",
           "<br>91<br>Pa<br>",
           1.5
          ],
          [
           92,
           "Uranium",
           "<br>92<br>U<br>",
           1.38
          ],
          [
           93,
           "Neptunium",
           "<br>93<br>Np<br>",
           1.36
          ],
          [
           94,
           "Plutonium",
           "<br>94<br>Pu<br>",
           1.28
          ],
          [
           95,
           "Americium",
           "<br>95<br>Am<br>",
           1.3
          ],
          [
           96,
           "Curium",
           "<br>96<br>Cm<br>",
           1.3
          ],
          [
           97,
           "Berkelium",
           "<br>97<br>Bk<br>",
           1.3
          ],
          [
           98,
           "Californium",
           "<br>98<br>Cf<br>",
           1.3
          ],
          [
           99,
           "Einsteinium",
           "<br>99<br>Es<br>",
           1.3
          ],
          [
           100,
           "Fermium",
           "<br>100<br>Fm<br>",
           1.3
          ],
          [
           101,
           "Mendelevium",
           "<br>101<br>Md<br>",
           1.3
          ],
          [
           102,
           "Nobelium",
           "<br>102<br>No<br>",
           1.3
          ],
          [
           103,
           "Lawrencium",
           "<br>103<br>Lr<br>",
           1.3
          ],
          [
           104,
           "Rutherfordium",
           "<br>104<br>Rf<br>",
           null
          ],
          [
           105,
           "Dubnium",
           "<br>105<br>Db<br>",
           null
          ],
          [
           106,
           "Seaborgium",
           "<br>106<br>Sg<br>",
           null
          ],
          [
           107,
           "Bohrium",
           "<br>107<br>Bh<br>",
           null
          ],
          [
           108,
           "Hassium",
           "<br>108<br>Hs<br>",
           null
          ],
          [
           109,
           "Meitnerium",
           "<br>109<br>Mt<br>",
           null
          ],
          [
           110,
           "Darmstadtium",
           "<br>110<br>Ds<br>",
           null
          ],
          [
           111,
           "Roentgenium",
           "<br>111<br>Rg<br>",
           null
          ],
          [
           112,
           "Copernicium",
           "<br>112<br>Cn<br>",
           null
          ],
          [
           113,
           "Nihonium",
           "<br>113<br>Nh<br>",
           null
          ],
          [
           114,
           "Flerovium",
           "<br>114<br>Fl<br>",
           null
          ],
          [
           115,
           "Moscovium",
           "<br>115<br>Mc<br>",
           null
          ],
          [
           116,
           "Livermorium",
           "<br>116<br>Lv<br>",
           null
          ],
          [
           117,
           "Tennessine",
           "<br>117<br>Ts<br>",
           null
          ],
          [
           118,
           "Oganesson",
           "<br>118<br>Og<br>",
           null
          ]
         ],
         "hovertemplate": "<b>%{hovertext}</b><br><br><extra></extra>",
         "hovertext": [
          2.2,
          2.2,
          2.2,
          null,
          0.98,
          1.57,
          2.04,
          2.55,
          3.04,
          3.44,
          3.98,
          null,
          0.93,
          1.31,
          1.61,
          1.9,
          2.19,
          2.58,
          3.16,
          null,
          0.82,
          1,
          1.36,
          1.54,
          1.63,
          1.66,
          1.55,
          1.83,
          1.88,
          1.91,
          1.9,
          1.65,
          1.81,
          2.01,
          2.18,
          2.55,
          2.96,
          3,
          0.82,
          0.95,
          1.22,
          1.33,
          1.6,
          2.16,
          1.9,
          2.2,
          2.28,
          2.2,
          1.93,
          1.69,
          1.78,
          1.96,
          2.05,
          2.1,
          2.66,
          2.6,
          0.79,
          0.89,
          1.1,
          1.12,
          1.13,
          1.14,
          1.13,
          1.17,
          1.2,
          1.2,
          1.1,
          1.22,
          1.23,
          1.24,
          1.25,
          1.1,
          1.27,
          1.3,
          1.5,
          2.36,
          1.9,
          2.2,
          2.2,
          2.28,
          2.54,
          2,
          1.62,
          2.33,
          2.02,
          2,
          2.2,
          2.2,
          0.7,
          0.9,
          1.1,
          1.3,
          1.5,
          1.38,
          1.36,
          1.28,
          1.3,
          1.3,
          1.3,
          1.3,
          1.3,
          1.3,
          1.3,
          1.3,
          1.3,
          null,
          null,
          null,
          null,
          null,
          null,
          null,
          null,
          null,
          null,
          null,
          null,
          null,
          null,
          null
         ],
         "legendgroup": "",
         "marker": {
          "color": [
           2.2,
           2.2,
           2.2,
           null,
           0.98,
           1.57,
           2.04,
           2.55,
           3.04,
           3.44,
           3.98,
           null,
           0.93,
           1.31,
           1.61,
           1.9,
           2.19,
           2.58,
           3.16,
           null,
           0.82,
           1,
           1.36,
           1.54,
           1.63,
           1.66,
           1.55,
           1.83,
           1.88,
           1.91,
           1.9,
           1.65,
           1.81,
           2.01,
           2.18,
           2.55,
           2.96,
           3,
           0.82,
           0.95,
           1.22,
           1.33,
           1.6,
           2.16,
           1.9,
           2.2,
           2.28,
           2.2,
           1.93,
           1.69,
           1.78,
           1.96,
           2.05,
           2.1,
           2.66,
           2.6,
           0.79,
           0.89,
           1.1,
           1.12,
           1.13,
           1.14,
           1.13,
           1.17,
           1.2,
           1.2,
           1.1,
           1.22,
           1.23,
           1.24,
           1.25,
           1.1,
           1.27,
           1.3,
           1.5,
           2.36,
           1.9,
           2.2,
           2.2,
           2.28,
           2.54,
           2,
           1.62,
           2.33,
           2.02,
           2,
           2.2,
           2.2,
           0.7,
           0.9,
           1.1,
           1.3,
           1.5,
           1.38,
           1.36,
           1.28,
           1.3,
           1.3,
           1.3,
           1.3,
           1.3,
           1.3,
           1.3,
           1.3,
           1.3,
           null,
           null,
           null,
           null,
           null,
           null,
           null,
           null,
           null,
           null,
           null,
           null,
           null,
           null,
           null
          ],
          "coloraxis": "coloraxis",
          "line": {
           "color": "black",
           "width": 1
          },
          "size": 40,
          "symbol": "square"
         },
         "mode": "markers+text",
         "name": "",
         "orientation": "v",
         "showlegend": false,
         "text": [
          "<br>1<br>H<br>",
          "<br>1<br>H<br>",
          "<br>1<br>H<br>",
          "<br>2<br>He<br>",
          "<br>3<br>Li<br>",
          "<br>4<br>Be<br>",
          "<br>5<br>B<br>",
          "<br>6<br>C<br>",
          "<br>7<br>N<br>",
          "<br>8<br>O<br>",
          "<br>9<br>F<br>",
          "<br>10<br>Ne<br>",
          "<br>11<br>Na<br>",
          "<br>12<br>Mg<br>",
          "<br>13<br>Al<br>",
          "<br>14<br>Si<br>",
          "<br>15<br>P<br>",
          "<br>16<br>S<br>",
          "<br>17<br>Cl<br>",
          "<br>18<br>Ar<br>",
          "<br>19<br>K<br>",
          "<br>20<br>Ca<br>",
          "<br>21<br>Sc<br>",
          "<br>22<br>Ti<br>",
          "<br>23<br>V<br>",
          "<br>24<br>Cr<br>",
          "<br>25<br>Mn<br>",
          "<br>26<br>Fe<br>",
          "<br>27<br>Co<br>",
          "<br>28<br>Ni<br>",
          "<br>29<br>Cu<br>",
          "<br>30<br>Zn<br>",
          "<br>31<br>Ga<br>",
          "<br>32<br>Ge<br>",
          "<br>33<br>As<br>",
          "<br>34<br>Se<br>",
          "<br>35<br>Br<br>",
          "<br>36<br>Kr<br>",
          "<br>37<br>Rb<br>",
          "<br>38<br>Sr<br>",
          "<br>39<br>Y<br>",
          "<br>40<br>Zr<br>",
          "<br>41<br>Nb<br>",
          "<br>42<br>Mo<br>",
          "<br>43<br>Tc<br>",
          "<br>44<br>Ru<br>",
          "<br>45<br>Rh<br>",
          "<br>46<br>Pd<br>",
          "<br>47<br>Ag<br>",
          "<br>48<br>Cd<br>",
          "<br>49<br>In<br>",
          "<br>50<br>Sn<br>",
          "<br>51<br>Sb<br>",
          "<br>52<br>Te<br>",
          "<br>53<br>I<br>",
          "<br>54<br>Xe<br>",
          "<br>55<br>Cs<br>",
          "<br>56<br>Ba<br>",
          "<br>57<br>La<br>",
          "<br>58<br>Ce<br>",
          "<br>59<br>Pr<br>",
          "<br>60<br>Nd<br>",
          "<br>61<br>Pm<br>",
          "<br>62<br>Sm<br>",
          "<br>63<br>Eu<br>",
          "<br>64<br>Gd<br>",
          "<br>65<br>Tb<br>",
          "<br>66<br>Dy<br>",
          "<br>67<br>Ho<br>",
          "<br>68<br>Er<br>",
          "<br>69<br>Tm<br>",
          "<br>70<br>Yb<br>",
          "<br>71<br>Lu<br>",
          "<br>72<br>Hf<br>",
          "<br>73<br>Ta<br>",
          "<br>74<br>W<br>",
          "<br>75<br>Re<br>",
          "<br>76<br>Os<br>",
          "<br>77<br>Ir<br>",
          "<br>78<br>Pt<br>",
          "<br>79<br>Au<br>",
          "<br>80<br>Hg<br>",
          "<br>81<br>Tl<br>",
          "<br>82<br>Pb<br>",
          "<br>83<br>Bi<br>",
          "<br>84<br>Po<br>",
          "<br>85<br>At<br>",
          "<br>86<br>Rn<br>",
          "<br>87<br>Fr<br>",
          "<br>88<br>Ra<br>",
          "<br>89<br>Ac<br>",
          "<br>90<br>Th<br>",
          "<br>91<br>Pa<br>",
          "<br>92<br>U<br>",
          "<br>93<br>Np<br>",
          "<br>94<br>Pu<br>",
          "<br>95<br>Am<br>",
          "<br>96<br>Cm<br>",
          "<br>97<br>Bk<br>",
          "<br>98<br>Cf<br>",
          "<br>99<br>Es<br>",
          "<br>100<br>Fm<br>",
          "<br>101<br>Md<br>",
          "<br>102<br>No<br>",
          "<br>103<br>Lr<br>",
          "<br>104<br>Rf<br>",
          "<br>105<br>Db<br>",
          "<br>106<br>Sg<br>",
          "<br>107<br>Bh<br>",
          "<br>108<br>Hs<br>",
          "<br>109<br>Mt<br>",
          "<br>110<br>Ds<br>",
          "<br>111<br>Rg<br>",
          "<br>112<br>Cn<br>",
          "<br>113<br>Nh<br>",
          "<br>114<br>Fl<br>",
          "<br>115<br>Mc<br>",
          "<br>116<br>Lv<br>",
          "<br>117<br>Ts<br>",
          "<br>118<br>Og<br>"
         ],
         "type": "scatter",
         "x": [
          1,
          1,
          1,
          18,
          1,
          2,
          13,
          14,
          15,
          16,
          17,
          18,
          1,
          2,
          13,
          14,
          15,
          16,
          17,
          18,
          1,
          2,
          3,
          4,
          5,
          6,
          7,
          8,
          9,
          10,
          11,
          12,
          13,
          14,
          15,
          16,
          17,
          18,
          1,
          2,
          3,
          4,
          5,
          6,
          7,
          8,
          9,
          10,
          11,
          12,
          13,
          14,
          15,
          16,
          17,
          18,
          1,
          2,
          3,
          4,
          5,
          6,
          7,
          8,
          9,
          10,
          11,
          12,
          13,
          14,
          15,
          16,
          17,
          4,
          5,
          6,
          7,
          8,
          9,
          10,
          11,
          12,
          13,
          14,
          15,
          16,
          17,
          18,
          1,
          2,
          3,
          4,
          5,
          6,
          7,
          8,
          9,
          10,
          11,
          12,
          13,
          14,
          15,
          16,
          17,
          4,
          5,
          6,
          7,
          8,
          9,
          10,
          11,
          12,
          13,
          14,
          15,
          16,
          17,
          18
         ],
         "xaxis": "x",
         "y": [
          1,
          1,
          1,
          1,
          2,
          2,
          2,
          2,
          2,
          2,
          2,
          2,
          3,
          3,
          3,
          3,
          3,
          3,
          3,
          3,
          4,
          4,
          4,
          4,
          4,
          4,
          4,
          4,
          4,
          4,
          4,
          4,
          4,
          4,
          4,
          4,
          4,
          4,
          5,
          5,
          5,
          5,
          5,
          5,
          5,
          5,
          5,
          5,
          5,
          5,
          5,
          5,
          5,
          5,
          5,
          5,
          6,
          6,
          9,
          9,
          9,
          9,
          9,
          9,
          9,
          9,
          9,
          9,
          9,
          9,
          9,
          9,
          9,
          6,
          6,
          6,
          6,
          6,
          6,
          6,
          6,
          6,
          6,
          6,
          6,
          6,
          6,
          6,
          7,
          7,
          10,
          10,
          10,
          10,
          10,
          10,
          10,
          10,
          10,
          10,
          10,
          10,
          10,
          10,
          10,
          7,
          7,
          7,
          7,
          7,
          7,
          7,
          7,
          7,
          7,
          7,
          7,
          7,
          7,
          7
         ],
         "yaxis": "y"
        }
       ],
       "layout": {
        "coloraxis": {
         "colorbar": {
          "title": {
           "text": "X"
          }
         },
         "colorscale": [
          [
           0,
           "#0d0887"
          ],
          [
           0.1111111111111111,
           "#46039f"
          ],
          [
           0.2222222222222222,
           "#7201a8"
          ],
          [
           0.3333333333333333,
           "#9c179e"
          ],
          [
           0.4444444444444444,
           "#bd3786"
          ],
          [
           0.5555555555555556,
           "#d8576b"
          ],
          [
           0.6666666666666666,
           "#ed7953"
          ],
          [
           0.7777777777777778,
           "#fb9f3a"
          ],
          [
           0.8888888888888888,
           "#fdca26"
          ],
          [
           1,
           "#f0f921"
          ]
         ]
        },
        "height": 650,
        "legend": {
         "tracegroupgap": 0
        },
        "margin": {
         "t": 60
        },
        "plot_bgcolor": "white",
        "showlegend": false,
        "template": {
         "data": {
          "bar": [
           {
            "error_x": {
             "color": "#2a3f5f"
            },
            "error_y": {
             "color": "#2a3f5f"
            },
            "marker": {
             "line": {
              "color": "#E5ECF6",
              "width": 0.5
             },
             "pattern": {
              "fillmode": "overlay",
              "size": 10,
              "solidity": 0.2
             }
            },
            "type": "bar"
           }
          ],
          "barpolar": [
           {
            "marker": {
             "line": {
              "color": "#E5ECF6",
              "width": 0.5
             },
             "pattern": {
              "fillmode": "overlay",
              "size": 10,
              "solidity": 0.2
             }
            },
            "type": "barpolar"
           }
          ],
          "carpet": [
           {
            "aaxis": {
             "endlinecolor": "#2a3f5f",
             "gridcolor": "white",
             "linecolor": "white",
             "minorgridcolor": "white",
             "startlinecolor": "#2a3f5f"
            },
            "baxis": {
             "endlinecolor": "#2a3f5f",
             "gridcolor": "white",
             "linecolor": "white",
             "minorgridcolor": "white",
             "startlinecolor": "#2a3f5f"
            },
            "type": "carpet"
           }
          ],
          "choropleth": [
           {
            "colorbar": {
             "outlinewidth": 0,
             "ticks": ""
            },
            "type": "choropleth"
           }
          ],
          "contour": [
           {
            "colorbar": {
             "outlinewidth": 0,
             "ticks": ""
            },
            "colorscale": [
             [
              0,
              "#0d0887"
             ],
             [
              0.1111111111111111,
              "#46039f"
             ],
             [
              0.2222222222222222,
              "#7201a8"
             ],
             [
              0.3333333333333333,
              "#9c179e"
             ],
             [
              0.4444444444444444,
              "#bd3786"
             ],
             [
              0.5555555555555556,
              "#d8576b"
             ],
             [
              0.6666666666666666,
              "#ed7953"
             ],
             [
              0.7777777777777778,
              "#fb9f3a"
             ],
             [
              0.8888888888888888,
              "#fdca26"
             ],
             [
              1,
              "#f0f921"
             ]
            ],
            "type": "contour"
           }
          ],
          "contourcarpet": [
           {
            "colorbar": {
             "outlinewidth": 0,
             "ticks": ""
            },
            "type": "contourcarpet"
           }
          ],
          "heatmap": [
           {
            "colorbar": {
             "outlinewidth": 0,
             "ticks": ""
            },
            "colorscale": [
             [
              0,
              "#0d0887"
             ],
             [
              0.1111111111111111,
              "#46039f"
             ],
             [
              0.2222222222222222,
              "#7201a8"
             ],
             [
              0.3333333333333333,
              "#9c179e"
             ],
             [
              0.4444444444444444,
              "#bd3786"
             ],
             [
              0.5555555555555556,
              "#d8576b"
             ],
             [
              0.6666666666666666,
              "#ed7953"
             ],
             [
              0.7777777777777778,
              "#fb9f3a"
             ],
             [
              0.8888888888888888,
              "#fdca26"
             ],
             [
              1,
              "#f0f921"
             ]
            ],
            "type": "heatmap"
           }
          ],
          "heatmapgl": [
           {
            "colorbar": {
             "outlinewidth": 0,
             "ticks": ""
            },
            "colorscale": [
             [
              0,
              "#0d0887"
             ],
             [
              0.1111111111111111,
              "#46039f"
             ],
             [
              0.2222222222222222,
              "#7201a8"
             ],
             [
              0.3333333333333333,
              "#9c179e"
             ],
             [
              0.4444444444444444,
              "#bd3786"
             ],
             [
              0.5555555555555556,
              "#d8576b"
             ],
             [
              0.6666666666666666,
              "#ed7953"
             ],
             [
              0.7777777777777778,
              "#fb9f3a"
             ],
             [
              0.8888888888888888,
              "#fdca26"
             ],
             [
              1,
              "#f0f921"
             ]
            ],
            "type": "heatmapgl"
           }
          ],
          "histogram": [
           {
            "marker": {
             "pattern": {
              "fillmode": "overlay",
              "size": 10,
              "solidity": 0.2
             }
            },
            "type": "histogram"
           }
          ],
          "histogram2d": [
           {
            "colorbar": {
             "outlinewidth": 0,
             "ticks": ""
            },
            "colorscale": [
             [
              0,
              "#0d0887"
             ],
             [
              0.1111111111111111,
              "#46039f"
             ],
             [
              0.2222222222222222,
              "#7201a8"
             ],
             [
              0.3333333333333333,
              "#9c179e"
             ],
             [
              0.4444444444444444,
              "#bd3786"
             ],
             [
              0.5555555555555556,
              "#d8576b"
             ],
             [
              0.6666666666666666,
              "#ed7953"
             ],
             [
              0.7777777777777778,
              "#fb9f3a"
             ],
             [
              0.8888888888888888,
              "#fdca26"
             ],
             [
              1,
              "#f0f921"
             ]
            ],
            "type": "histogram2d"
           }
          ],
          "histogram2dcontour": [
           {
            "colorbar": {
             "outlinewidth": 0,
             "ticks": ""
            },
            "colorscale": [
             [
              0,
              "#0d0887"
             ],
             [
              0.1111111111111111,
              "#46039f"
             ],
             [
              0.2222222222222222,
              "#7201a8"
             ],
             [
              0.3333333333333333,
              "#9c179e"
             ],
             [
              0.4444444444444444,
              "#bd3786"
             ],
             [
              0.5555555555555556,
              "#d8576b"
             ],
             [
              0.6666666666666666,
              "#ed7953"
             ],
             [
              0.7777777777777778,
              "#fb9f3a"
             ],
             [
              0.8888888888888888,
              "#fdca26"
             ],
             [
              1,
              "#f0f921"
             ]
            ],
            "type": "histogram2dcontour"
           }
          ],
          "mesh3d": [
           {
            "colorbar": {
             "outlinewidth": 0,
             "ticks": ""
            },
            "type": "mesh3d"
           }
          ],
          "parcoords": [
           {
            "line": {
             "colorbar": {
              "outlinewidth": 0,
              "ticks": ""
             }
            },
            "type": "parcoords"
           }
          ],
          "pie": [
           {
            "automargin": true,
            "type": "pie"
           }
          ],
          "scatter": [
           {
            "fillpattern": {
             "fillmode": "overlay",
             "size": 10,
             "solidity": 0.2
            },
            "type": "scatter"
           }
          ],
          "scatter3d": [
           {
            "line": {
             "colorbar": {
              "outlinewidth": 0,
              "ticks": ""
             }
            },
            "marker": {
             "colorbar": {
              "outlinewidth": 0,
              "ticks": ""
             }
            },
            "type": "scatter3d"
           }
          ],
          "scattercarpet": [
           {
            "marker": {
             "colorbar": {
              "outlinewidth": 0,
              "ticks": ""
             }
            },
            "type": "scattercarpet"
           }
          ],
          "scattergeo": [
           {
            "marker": {
             "colorbar": {
              "outlinewidth": 0,
              "ticks": ""
             }
            },
            "type": "scattergeo"
           }
          ],
          "scattergl": [
           {
            "marker": {
             "colorbar": {
              "outlinewidth": 0,
              "ticks": ""
             }
            },
            "type": "scattergl"
           }
          ],
          "scattermapbox": [
           {
            "marker": {
             "colorbar": {
              "outlinewidth": 0,
              "ticks": ""
             }
            },
            "type": "scattermapbox"
           }
          ],
          "scatterpolar": [
           {
            "marker": {
             "colorbar": {
              "outlinewidth": 0,
              "ticks": ""
             }
            },
            "type": "scatterpolar"
           }
          ],
          "scatterpolargl": [
           {
            "marker": {
             "colorbar": {
              "outlinewidth": 0,
              "ticks": ""
             }
            },
            "type": "scatterpolargl"
           }
          ],
          "scatterternary": [
           {
            "marker": {
             "colorbar": {
              "outlinewidth": 0,
              "ticks": ""
             }
            },
            "type": "scatterternary"
           }
          ],
          "surface": [
           {
            "colorbar": {
             "outlinewidth": 0,
             "ticks": ""
            },
            "colorscale": [
             [
              0,
              "#0d0887"
             ],
             [
              0.1111111111111111,
              "#46039f"
             ],
             [
              0.2222222222222222,
              "#7201a8"
             ],
             [
              0.3333333333333333,
              "#9c179e"
             ],
             [
              0.4444444444444444,
              "#bd3786"
             ],
             [
              0.5555555555555556,
              "#d8576b"
             ],
             [
              0.6666666666666666,
              "#ed7953"
             ],
             [
              0.7777777777777778,
              "#fb9f3a"
             ],
             [
              0.8888888888888888,
              "#fdca26"
             ],
             [
              1,
              "#f0f921"
             ]
            ],
            "type": "surface"
           }
          ],
          "table": [
           {
            "cells": {
             "fill": {
              "color": "#EBF0F8"
             },
             "line": {
              "color": "white"
             }
            },
            "header": {
             "fill": {
              "color": "#C8D4E3"
             },
             "line": {
              "color": "white"
             }
            },
            "type": "table"
           }
          ]
         },
         "layout": {
          "annotationdefaults": {
           "arrowcolor": "#2a3f5f",
           "arrowhead": 0,
           "arrowwidth": 1
          },
          "autotypenumbers": "strict",
          "coloraxis": {
           "colorbar": {
            "outlinewidth": 0,
            "ticks": ""
           }
          },
          "colorscale": {
           "diverging": [
            [
             0,
             "#8e0152"
            ],
            [
             0.1,
             "#c51b7d"
            ],
            [
             0.2,
             "#de77ae"
            ],
            [
             0.3,
             "#f1b6da"
            ],
            [
             0.4,
             "#fde0ef"
            ],
            [
             0.5,
             "#f7f7f7"
            ],
            [
             0.6,
             "#e6f5d0"
            ],
            [
             0.7,
             "#b8e186"
            ],
            [
             0.8,
             "#7fbc41"
            ],
            [
             0.9,
             "#4d9221"
            ],
            [
             1,
             "#276419"
            ]
           ],
           "sequential": [
            [
             0,
             "#0d0887"
            ],
            [
             0.1111111111111111,
             "#46039f"
            ],
            [
             0.2222222222222222,
             "#7201a8"
            ],
            [
             0.3333333333333333,
             "#9c179e"
            ],
            [
             0.4444444444444444,
             "#bd3786"
            ],
            [
             0.5555555555555556,
             "#d8576b"
            ],
            [
             0.6666666666666666,
             "#ed7953"
            ],
            [
             0.7777777777777778,
             "#fb9f3a"
            ],
            [
             0.8888888888888888,
             "#fdca26"
            ],
            [
             1,
             "#f0f921"
            ]
           ],
           "sequentialminus": [
            [
             0,
             "#0d0887"
            ],
            [
             0.1111111111111111,
             "#46039f"
            ],
            [
             0.2222222222222222,
             "#7201a8"
            ],
            [
             0.3333333333333333,
             "#9c179e"
            ],
            [
             0.4444444444444444,
             "#bd3786"
            ],
            [
             0.5555555555555556,
             "#d8576b"
            ],
            [
             0.6666666666666666,
             "#ed7953"
            ],
            [
             0.7777777777777778,
             "#fb9f3a"
            ],
            [
             0.8888888888888888,
             "#fdca26"
            ],
            [
             1,
             "#f0f921"
            ]
           ]
          },
          "colorway": [
           "#636efa",
           "#EF553B",
           "#00cc96",
           "#ab63fa",
           "#FFA15A",
           "#19d3f3",
           "#FF6692",
           "#B6E880",
           "#FF97FF",
           "#FECB52"
          ],
          "font": {
           "color": "#2a3f5f"
          },
          "geo": {
           "bgcolor": "white",
           "lakecolor": "white",
           "landcolor": "#E5ECF6",
           "showlakes": true,
           "showland": true,
           "subunitcolor": "white"
          },
          "hoverlabel": {
           "align": "left"
          },
          "hovermode": "closest",
          "mapbox": {
           "style": "light"
          },
          "paper_bgcolor": "white",
          "plot_bgcolor": "#E5ECF6",
          "polar": {
           "angularaxis": {
            "gridcolor": "white",
            "linecolor": "white",
            "ticks": ""
           },
           "bgcolor": "#E5ECF6",
           "radialaxis": {
            "gridcolor": "white",
            "linecolor": "white",
            "ticks": ""
           }
          },
          "scene": {
           "xaxis": {
            "backgroundcolor": "#E5ECF6",
            "gridcolor": "white",
            "gridwidth": 2,
            "linecolor": "white",
            "showbackground": true,
            "ticks": "",
            "zerolinecolor": "white"
           },
           "yaxis": {
            "backgroundcolor": "#E5ECF6",
            "gridcolor": "white",
            "gridwidth": 2,
            "linecolor": "white",
            "showbackground": true,
            "ticks": "",
            "zerolinecolor": "white"
           },
           "zaxis": {
            "backgroundcolor": "#E5ECF6",
            "gridcolor": "white",
            "gridwidth": 2,
            "linecolor": "white",
            "showbackground": true,
            "ticks": "",
            "zerolinecolor": "white"
           }
          },
          "shapedefaults": {
           "line": {
            "color": "#2a3f5f"
           }
          },
          "ternary": {
           "aaxis": {
            "gridcolor": "white",
            "linecolor": "white",
            "ticks": ""
           },
           "baxis": {
            "gridcolor": "white",
            "linecolor": "white",
            "ticks": ""
           },
           "bgcolor": "#E5ECF6",
           "caxis": {
            "gridcolor": "white",
            "linecolor": "white",
            "ticks": ""
           }
          },
          "title": {
           "x": 0.05
          },
          "xaxis": {
           "automargin": true,
           "gridcolor": "white",
           "linecolor": "white",
           "ticks": "",
           "title": {
            "standoff": 15
           },
           "zerolinecolor": "white",
           "zerolinewidth": 2
          },
          "yaxis": {
           "automargin": true,
           "gridcolor": "white",
           "linecolor": "white",
           "ticks": "",
           "title": {
            "standoff": 15
           },
           "zerolinecolor": "white",
           "zerolinewidth": 2
          }
         }
        },
        "title": {
         "text": "Interactive Periodic Table"
        },
        "width": 1100,
        "xaxis": {
         "anchor": "y",
         "autorange": true,
         "domain": [
          0,
          1
         ],
         "dtick": 1,
         "range": [
          -0.551413881748072,
          19.551413881748072
         ],
         "title": {
          "text": "Group"
         },
         "type": "linear"
        },
        "yaxis": {
         "anchor": "x",
         "autorange": true,
         "domain": [
          0,
          1
         ],
         "dtick": 1,
         "range": [
          11.11124694376528,
          -0.1112469437652812
         ],
         "title": {
          "text": "Period"
         },
         "type": "linear"
        }
       }
      },
      "image/png": "[encoded data removed]",
      "text/html": [
       "<div>                            <div id=\"9c1d0e20-4e8a-482b-8a2e-3f1851f644ff\" class=\"plotly-graph-div\" style=\"height:650px; width:1100px;\"></div>            <script type=\"text/javascript\">                require([\"plotly\"], function(Plotly) {                    window.PLOTLYENV=window.PLOTLYENV || {};                                    if (document.getElementById(\"9c1d0e20-4e8a-482b-8a2e-3f1851f644ff\")) {                    Plotly.newPlot(                        \"9c1d0e20-4e8a-482b-8a2e-3f1851f644ff\",                        [{\"customdata\":[[1,\"Hydrogen\",\"\\u003cbr\\u003e1\\u003cbr\\u003eH\\u003cbr\\u003e\",2.2],[1,\"Deuterium\",\"\\u003cbr\\u003e1\\u003cbr\\u003eH\\u003cbr\\u003e\",2.2],[1,\"Tritium\",\"\\u003cbr\\u003e1\\u003cbr\\u003eH\\u003cbr\\u003e\",2.2],[2,\"Helium\",\"\\u003cbr\\u003e2\\u003cbr\\u003eHe\\u003cbr\\u003e\",null],[3,\"Lithium\",\"\\u003cbr\\u003e3\\u003cbr\\u003eLi\\u003cbr\\u003e\",0.98],[4,\"Beryllium\",\"\\u003cbr\\u003e4\\u003cbr\\u003eBe\\u003cbr\\u003e\",1.57],[5,\"Boron\",\"\\u003cbr\\u003e5\\u003cbr\\u003eB\\u003cbr\\u003e\",2.04],[6,\"Carbon\",\"\\u003cbr\\u003e6\\u003cbr\\u003eC\\u003cbr\\u003e\",2.55],[7,\"Nitrogen\",\"\\u003cbr\\u003e7\\u003cbr\\u003eN\\u003cbr\\u003e\",3.04],[8,\"Oxygen\",\"\\u003cbr\\u003e8\\u003cbr\\u003eO\\u003cbr\\u003e\",3.44],[9,\"Fluorine\",\"\\u003cbr\\u003e9\\u003cbr\\u003eF\\u003cbr\\u003e\",3.98],[10,\"Neon\",\"\\u003cbr\\u003e10\\u003cbr\\u003eNe\\u003cbr\\u003e\",null],[11,\"Sodium\",\"\\u003cbr\\u003e11\\u003cbr\\u003eNa\\u003cbr\\u003e\",0.93],[12,\"Magnesium\",\"\\u003cbr\\u003e12\\u003cbr\\u003eMg\\u003cbr\\u003e\",1.31],[13,\"Aluminum\",\"\\u003cbr\\u003e13\\u003cbr\\u003eAl\\u003cbr\\u003e\",1.61],[14,\"Silicon\",\"\\u003cbr\\u003e14\\u003cbr\\u003eSi\\u003cbr\\u003e\",1.9],[15,\"Phosphorus\",\"\\u003cbr\\u003e15\\u003cbr\\u003eP\\u003cbr\\u003e\",2.19],[16,\"Sulfur\",\"\\u003cbr\\u003e16\\u003cbr\\u003eS\\u003cbr\\u003e\",2.58],[17,\"Chlorine\",\"\\u003cbr\\u003e17\\u003cbr\\u003eCl\\u003cbr\\u003e\",3.16],[18,\"Argon\",\"\\u003cbr\\u003e18\\u003cbr\\u003eAr\\u003cbr\\u003e\",null],[19,\"Potassium\",\"\\u003cbr\\u003e19\\u003cbr\\u003eK\\u003cbr\\u003e\",0.82],[20,\"Calcium\",\"\\u003cbr\\u003e20\\u003cbr\\u003eCa\\u003cbr\\u003e\",1.0],[21,\"Scandium\",\"\\u003cbr\\u003e21\\u003cbr\\u003eSc\\u003cbr\\u003e\",1.36],[22,\"Titanium\",\"\\u003cbr\\u003e22\\u003cbr\\u003eTi\\u003cbr\\u003e\",1.54],[23,\"Vanadium\",\"\\u003cbr\\u003e23\\u003cbr\\u003eV\\u003cbr\\u003e\",1.63],[24,\"Chromium\",\"\\u003cbr\\u003e24\\u003cbr\\u003eCr\\u003cbr\\u003e\",1.66],[25,\"Manganese\",\"\\u003cbr\\u003e25\\u003cbr\\u003eMn\\u003cbr\\u003e\",1.55],[26,\"Iron\",\"\\u003cbr\\u003e26\\u003cbr\\u003eFe\\u003cbr\\u003e\",1.83],[27,\"Cobalt\",\"\\u003cbr\\u003e27\\u003cbr\\u003eCo\\u003cbr\\u003e\",1.88],[28,\"Nickel\",\"\\u003cbr\\u003e28\\u003cbr\\u003eNi\\u003cbr\\u003e\",1.91],[29,\"Copper\",\"\\u003cbr\\u003e29\\u003cbr\\u003eCu\\u003cbr\\u003e\",1.9],[30,\"Zinc\",\"\\u003cbr\\u003e30\\u003cbr\\u003eZn\\u003cbr\\u003e\",1.65],[31,\"Gallium\",\"\\u003cbr\\u003e31\\u003cbr\\u003eGa\\u003cbr\\u003e\",1.81],[32,\"Germanium\",\"\\u003cbr\\u003e32\\u003cbr\\u003eGe\\u003cbr\\u003e\",2.01],[33,\"Arsenic\",\"\\u003cbr\\u003e33\\u003cbr\\u003eAs\\u003cbr\\u003e\",2.18],[34,\"Selenium\",\"\\u003cbr\\u003e34\\u003cbr\\u003eSe\\u003cbr\\u003e\",2.55],[35,\"Bromine\",\"\\u003cbr\\u003e35\\u003cbr\\u003eBr\\u003cbr\\u003e\",2.96],[36,\"Krypton\",\"\\u003cbr\\u003e36\\u003cbr\\u003eKr\\u003cbr\\u003e\",3.0],[37,\"Rubidium\",\"\\u003cbr\\u003e37\\u003cbr\\u003eRb\\u003cbr\\u003e\",0.82],[38,\"Strontium\",\"\\u003cbr\\u003e38\\u003cbr\\u003eSr\\u003cbr\\u003e\",0.95],[39,\"Yttrium\",\"\\u003cbr\\u003e39\\u003cbr\\u003eY\\u003cbr\\u003e\",1.22],[40,\"Zirconium\",\"\\u003cbr\\u003e40\\u003cbr\\u003eZr\\u003cbr\\u003e\",1.33],[41,\"Niobium\",\"\\u003cbr\\u003e41\\u003cbr\\u003eNb\\u003cbr\\u003e\",1.6],[42,\"Molybdenum\",\"\\u003cbr\\u003e42\\u003cbr\\u003eMo\\u003cbr\\u003e\",2.16],[43,\"Technetium\",\"\\u003cbr\\u003e43\\u003cbr\\u003eTc\\u003cbr\\u003e\",1.9],[44,\"Ruthenium\",\"\\u003cbr\\u003e44\\u003cbr\\u003eRu\\u003cbr\\u003e\",2.2],[45,\"Rhodium\",\"\\u003cbr\\u003e45\\u003cbr\\u003eRh\\u003cbr\\u003e\",2.28],[46,\"Palladium\",\"\\u003cbr\\u003e46\\u003cbr\\u003ePd\\u003cbr\\u003e\",2.2],[47,\"Silver\",\"\\u003cbr\\u003e47\\u003cbr\\u003eAg\\u003cbr\\u003e\",1.93],[48,\"Cadmium\",\"\\u003cbr\\u003e48\\u003cbr\\u003eCd\\u003cbr\\u003e\",1.69],[49,\"Indium\",\"\\u003cbr\\u003e49\\u003cbr\\u003eIn\\u003cbr\\u003e\",1.78],[50,\"Tin\",\"\\u003cbr\\u003e50\\u003cbr\\u003eSn\\u003cbr\\u003e\",1.96],[51,\"Antimony\",\"\\u003cbr\\u003e51\\u003cbr\\u003eSb\\u003cbr\\u003e\",2.05],[52,\"Tellurium\",\"\\u003cbr\\u003e52\\u003cbr\\u003eTe\\u003cbr\\u003e\",2.1],[53,\"Iodine\",\"\\u003cbr\\u003e53\\u003cbr\\u003eI\\u003cbr\\u003e\",2.66],[54,\"Xenon\",\"\\u003cbr\\u003e54\\u003cbr\\u003eXe\\u003cbr\\u003e\",2.6],[55,\"Cesium\",\"\\u003cbr\\u003e55\\u003cbr\\u003eCs\\u003cbr\\u003e\",0.79],[56,\"Barium\",\"\\u003cbr\\u003e56\\u003cbr\\u003eBa\\u003cbr\\u003e\",0.89],[57,\"Lanthanum\",\"\\u003cbr\\u003e57\\u003cbr\\u003eLa\\u003cbr\\u003e\",1.1],[58,\"Cerium\",\"\\u003cbr\\u003e58\\u003cbr\\u003eCe\\u003cbr\\u003e\",1.12],[59,\"Praseodymium\",\"\\u003cbr\\u003e59\\u003cbr\\u003ePr\\u003cbr\\u003e\",1.13],[60,\"Neodymium\",\"\\u003cbr\\u003e60\\u003cbr\\u003eNd\\u003cbr\\u003e\",1.14],[61,\"Promethium\",\"\\u003cbr\\u003e61\\u003cbr\\u003ePm\\u003cbr\\u003e\",1.13],[62,\"Samarium\",\"\\u003cbr\\u003e62\\u003cbr\\u003eSm\\u003cbr\\u003e\",1.17],[63,\"Europium\",\"\\u003cbr\\u003e63\\u003cbr\\u003eEu\\u003cbr\\u003e\",1.2],[64,\"Gadolinium\",\"\\u003cbr\\u003e64\\u003cbr\\u003eGd\\u003cbr\\u003e\",1.2],[65,\"Terbium\",\"\\u003cbr\\u003e65\\u003cbr\\u003eTb\\u003cbr\\u003e\",1.1],[66,\"Dysprosium\",\"\\u003cbr\\u003e66\\u003cbr\\u003eDy\\u003cbr\\u003e\",1.22],[67,\"Holmium\",\"\\u003cbr\\u003e67\\u003cbr\\u003eHo\\u003cbr\\u003e\",1.23],[68,\"Erbium\",\"\\u003cbr\\u003e68\\u003cbr\\u003eEr\\u003cbr\\u003e\",1.24],[69,\"Thulium\",\"\\u003cbr\\u003e69\\u003cbr\\u003eTm\\u003cbr\\u003e\",1.25],[70,\"Ytterbium\",\"\\u003cbr\\u003e70\\u003cbr\\u003eYb\\u003cbr\\u003e\",1.1],[71,\"Lutetium\",\"\\u003cbr\\u003e71\\u003cbr\\u003eLu\\u003cbr\\u003e\",1.27],[72,\"Hafnium\",\"\\u003cbr\\u003e72\\u003cbr\\u003eHf\\u003cbr\\u003e\",1.3],[73,\"Tantalum\",\"\\u003cbr\\u003e73\\u003cbr\\u003eTa\\u003cbr\\u003e\",1.5],[74,\"Tungsten\",\"\\u003cbr\\u003e74\\u003cbr\\u003eW\\u003cbr\\u003e\",2.36],[75,\"Rhenium\",\"\\u003cbr\\u003e75\\u003cbr\\u003eRe\\u003cbr\\u003e\",1.9],[76,\"Osmium\",\"\\u003cbr\\u003e76\\u003cbr\\u003eOs\\u003cbr\\u003e\",2.2],[77,\"Iridium\",\"\\u003cbr\\u003e77\\u003cbr\\u003eIr\\u003cbr\\u003e\",2.2],[78,\"Platinum\",\"\\u003cbr\\u003e78\\u003cbr\\u003ePt\\u003cbr\\u003e\",2.28],[79,\"Gold\",\"\\u003cbr\\u003e79\\u003cbr\\u003eAu\\u003cbr\\u003e\",2.54],[80,\"Mercury\",\"\\u003cbr\\u003e80\\u003cbr\\u003eHg\\u003cbr\\u003e\",2.0],[81,\"Thallium\",\"\\u003cbr\\u003e81\\u003cbr\\u003eTl\\u003cbr\\u003e\",1.62],[82,\"Lead\",\"\\u003cbr\\u003e82\\u003cbr\\u003ePb\\u003cbr\\u003e\",2.33],[83,\"Bismuth\",\"\\u003cbr\\u003e83\\u003cbr\\u003eBi\\u003cbr\\u003e\",2.02],[84,\"Polonium\",\"\\u003cbr\\u003e84\\u003cbr\\u003ePo\\u003cbr\\u003e\",2.0],[85,\"Astatine\",\"\\u003cbr\\u003e85\\u003cbr\\u003eAt\\u003cbr\\u003e\",2.2],[86,\"Radon\",\"\\u003cbr\\u003e86\\u003cbr\\u003eRn\\u003cbr\\u003e\",2.2],[87,\"Francium\",\"\\u003cbr\\u003e87\\u003cbr\\u003eFr\\u003cbr\\u003e\",0.7],[88,\"Radium\",\"\\u003cbr\\u003e88\\u003cbr\\u003eRa\\u003cbr\\u003e\",0.9],[89,\"Actinium\",\"\\u003cbr\\u003e89\\u003cbr\\u003eAc\\u003cbr\\u003e\",1.1],[90,\"Thorium\",\"\\u003cbr\\u003e90\\u003cbr\\u003eTh\\u003cbr\\u003e\",1.3],[91,\"Protactinium\",\"\\u003cbr\\u003e91\\u003cbr\\u003ePa\\u003cbr\\u003e\",1.5],[92,\"Uranium\",\"\\u003cbr\\u003e92\\u003cbr\\u003eU\\u003cbr\\u003e\",1.38],[93,\"Neptunium\",\"\\u003cbr\\u003e93\\u003cbr\\u003eNp\\u003cbr\\u003e\",1.36],[94,\"Plutonium\",\"\\u003cbr\\u003e94\\u003cbr\\u003ePu\\u003cbr\\u003e\",1.28],[95,\"Americium\",\"\\u003cbr\\u003e95\\u003cbr\\u003eAm\\u003cbr\\u003e\",1.3],[96,\"Curium\",\"\\u003cbr\\u003e96\\u003cbr\\u003eCm\\u003cbr\\u003e\",1.3],[97,\"Berkelium\",\"\\u003cbr\\u003e97\\u003cbr\\u003eBk\\u003cbr\\u003e\",1.3],[98,\"Californium\",\"\\u003cbr\\u003e98\\u003cbr\\u003eCf\\u003cbr\\u003e\",1.3],[99,\"Einsteinium\",\"\\u003cbr\\u003e99\\u003cbr\\u003eEs\\u003cbr\\u003e\",1.3],[100,\"Fermium\",\"\\u003cbr\\u003e100\\u003cbr\\u003eFm\\u003cbr\\u003e\",1.3],[101,\"Mendelevium\",\"\\u003cbr\\u003e101\\u003cbr\\u003eMd\\u003cbr\\u003e\",1.3],[102,\"Nobelium\",\"\\u003cbr\\u003e102\\u003cbr\\u003eNo\\u003cbr\\u003e\",1.3],[103,\"Lawrencium\",\"\\u003cbr\\u003e103\\u003cbr\\u003eLr\\u003cbr\\u003e\",1.3],[104,\"Rutherfordium\",\"\\u003cbr\\u003e104\\u003cbr\\u003eRf\\u003cbr\\u003e\",null],[105,\"Dubnium\",\"\\u003cbr\\u003e105\\u003cbr\\u003eDb\\u003cbr\\u003e\",null],[106,\"Seaborgium\",\"\\u003cbr\\u003e106\\u003cbr\\u003eSg\\u003cbr\\u003e\",null],[107,\"Bohrium\",\"\\u003cbr\\u003e107\\u003cbr\\u003eBh\\u003cbr\\u003e\",null],[108,\"Hassium\",\"\\u003cbr\\u003e108\\u003cbr\\u003eHs\\u003cbr\\u003e\",null],[109,\"Meitnerium\",\"\\u003cbr\\u003e109\\u003cbr\\u003eMt\\u003cbr\\u003e\",null],[110,\"Darmstadtium\",\"\\u003cbr\\u003e110\\u003cbr\\u003eDs\\u003cbr\\u003e\",null],[111,\"Roentgenium\",\"\\u003cbr\\u003e111\\u003cbr\\u003eRg\\u003cbr\\u003e\",null],[112,\"Copernicium\",\"\\u003cbr\\u003e112\\u003cbr\\u003eCn\\u003cbr\\u003e\",null],[113,\"Nihonium\",\"\\u003cbr\\u003e113\\u003cbr\\u003eNh\\u003cbr\\u003e\",null],[114,\"Flerovium\",\"\\u003cbr\\u003e114\\u003cbr\\u003eFl\\u003cbr\\u003e\",null],[115,\"Moscovium\",\"\\u003cbr\\u003e115\\u003cbr\\u003eMc\\u003cbr\\u003e\",null],[116,\"Livermorium\",\"\\u003cbr\\u003e116\\u003cbr\\u003eLv\\u003cbr\\u003e\",null],[117,\"Tennessine\",\"\\u003cbr\\u003e117\\u003cbr\\u003eTs\\u003cbr\\u003e\",null],[118,\"Oganesson\",\"\\u003cbr\\u003e118\\u003cbr\\u003eOg\\u003cbr\\u003e\",null]],\"hovertemplate\":\"\\u003cb\\u003e%{hovertext}\\u003c\\u002fb\\u003e\\u003cbr\\u003e\\u003cbr\\u003e\\u003cextra\\u003e\\u003c\\u002fextra\\u003e\",\"hovertext\":[2.2,2.2,2.2,null,0.98,1.57,2.04,2.55,3.04,3.44,3.98,null,0.93,1.31,1.61,1.9,2.19,2.58,3.16,null,0.82,1.0,1.36,1.54,1.63,1.66,1.55,1.83,1.88,1.91,1.9,1.65,1.81,2.01,2.18,2.55,2.96,3.0,0.82,0.95,1.22,1.33,1.6,2.16,1.9,2.2,2.28,2.2,1.93,1.69,1.78,1.96,2.05,2.1,2.66,2.6,0.79,0.89,1.1,1.12,1.13,1.14,1.13,1.17,1.2,1.2,1.1,1.22,1.23,1.24,1.25,1.1,1.27,1.3,1.5,2.36,1.9,2.2,2.2,2.28,2.54,2.0,1.62,2.33,2.02,2.0,2.2,2.2,0.7,0.9,1.1,1.3,1.5,1.38,1.36,1.28,1.3,1.3,1.3,1.3,1.3,1.3,1.3,1.3,1.3,null,null,null,null,null,null,null,null,null,null,null,null,null,null,null],\"legendgroup\":\"\",\"marker\":{\"color\":[2.2,2.2,2.2,null,0.98,1.57,2.04,2.55,3.04,3.44,3.98,null,0.93,1.31,1.61,1.9,2.19,2.58,3.16,null,0.82,1.0,1.36,1.54,1.63,1.66,1.55,1.83,1.88,1.91,1.9,1.65,1.81,2.01,2.18,2.55,2.96,3.0,0.82,0.95,1.22,1.33,1.6,2.16,1.9,2.2,2.28,2.2,1.93,1.69,1.78,1.96,2.05,2.1,2.66,2.6,0.79,0.89,1.1,1.12,1.13,1.14,1.13,1.17,1.2,1.2,1.1,1.22,1.23,1.24,1.25,1.1,1.27,1.3,1.5,2.36,1.9,2.2,2.2,2.28,2.54,2.0,1.62,2.33,2.02,2.0,2.2,2.2,0.7,0.9,1.1,1.3,1.5,1.38,1.36,1.28,1.3,1.3,1.3,1.3,1.3,1.3,1.3,1.3,1.3,null,null,null,null,null,null,null,null,null,null,null,null,null,null,null],\"coloraxis\":\"coloraxis\",\"symbol\":\"square\",\"line\":{\"color\":\"black\",\"width\":1},\"size\":40},\"mode\":\"markers+text\",\"name\":\"\",\"orientation\":\"v\",\"showlegend\":false,\"text\":[\"\\u003cbr\\u003e1\\u003cbr\\u003eH\\u003cbr\\u003e\",\"\\u003cbr\\u003e1\\u003cbr\\u003eH\\u003cbr\\u003e\",\"\\u003cbr\\u003e1\\u003cbr\\u003eH\\u003cbr\\u003e\",\"\\u003cbr\\u003e2\\u003cbr\\u003eHe\\u003cbr\\u003e\",\"\\u003cbr\\u003e3\\u003cbr\\u003eLi\\u003cbr\\u003e\",\"\\u003cbr\\u003e4\\u003cbr\\u003eBe\\u003cbr\\u003e\",\"\\u003cbr\\u003e5\\u003cbr\\u003eB\\u003cbr\\u003e\",\"\\u003cbr\\u003e6\\u003cbr\\u003eC\\u003cbr\\u003e\",\"\\u003cbr\\u003e7\\u003cbr\\u003eN\\u003cbr\\u003e\",\"\\u003cbr\\u003e8\\u003cbr\\u003eO\\u003cbr\\u003e\",\"\\u003cbr\\u003e9\\u003cbr\\u003eF\\u003cbr\\u003e\",\"\\u003cbr\\u003e10\\u003cbr\\u003eNe\\u003cbr\\u003e\",\"\\u003cbr\\u003e11\\u003cbr\\u003eNa\\u003cbr\\u003e\",\"\\u003cbr\\u003e12\\u003cbr\\u003eMg\\u003cbr\\u003e\",\"\\u003cbr\\u003e13\\u003cbr\\u003eAl\\u003cbr\\u003e\",\"\\u003cbr\\u003e14\\u003cbr\\u003eSi\\u003cbr\\u003e\",\"\\u003cbr\\u003e15\\u003cbr\\u003eP\\u003cbr\\u003e\",\"\\u003cbr\\u003e16\\u003cbr\\u003eS\\u003cbr\\u003e\",\"\\u003cbr\\u003e17\\u003cbr\\u003eCl\\u003cbr\\u003e\",\"\\u003cbr\\u003e18\\u003cbr\\u003eAr\\u003cbr\\u003e\",\"\\u003cbr\\u003e19\\u003cbr\\u003eK\\u003cbr\\u003e\",\"\\u003cbr\\u003e20\\u003cbr\\u003eCa\\u003cbr\\u003e\",\"\\u003cbr\\u003e21\\u003cbr\\u003eSc\\u003cbr\\u003e\",\"\\u003cbr\\u003e22\\u003cbr\\u003eTi\\u003cbr\\u003e\",\"\\u003cbr\\u003e23\\u003cbr\\u003eV\\u003cbr\\u003e\",\"\\u003cbr\\u003e24\\u003cbr\\u003eCr\\u003cbr\\u003e\",\"\\u003cbr\\u003e25\\u003cbr\\u003eMn\\u003cbr\\u003e\",\"\\u003cbr\\u003e26\\u003cbr\\u003eFe\\u003cbr\\u003e\",\"\\u003cbr\\u003e27\\u003cbr\\u003eCo\\u003cbr\\u003e\",\"\\u003cbr\\u003e28\\u003cbr\\u003eNi\\u003cbr\\u003e\",\"\\u003cbr\\u003e29\\u003cbr\\u003eCu\\u003cbr\\u003e\",\"\\u003cbr\\u003e30\\u003cbr\\u003eZn\\u003cbr\\u003e\",\"\\u003cbr\\u003e31\\u003cbr\\u003eGa\\u003cbr\\u003e\",\"\\u003cbr\\u003e32\\u003cbr\\u003eGe\\u003cbr\\u003e\",\"\\u003cbr\\u003e33\\u003cbr\\u003eAs\\u003cbr\\u003e\",\"\\u003cbr\\u003e34\\u003cbr\\u003eSe\\u003cbr\\u003e\",\"\\u003cbr\\u003e35\\u003cbr\\u003eBr\\u003cbr\\u003e\",\"\\u003cbr\\u003e36\\u003cbr\\u003eKr\\u003cbr\\u003e\",\"\\u003cbr\\u003e37\\u003cbr\\u003eRb\\u003cbr\\u003e\",\"\\u003cbr\\u003e38\\u003cbr\\u003eSr\\u003cbr\\u003e\",\"\\u003cbr\\u003e39\\u003cbr\\u003eY\\u003cbr\\u003e\",\"\\u003cbr\\u003e40\\u003cbr\\u003eZr\\u003cbr\\u003e\",\"\\u003cbr\\u003e41\\u003cbr\\u003eNb\\u003cbr\\u003e\",\"\\u003cbr\\u003e42\\u003cbr\\u003eMo\\u003cbr\\u003e\",\"\\u003cbr\\u003e43\\u003cbr\\u003eTc\\u003cbr\\u003e\",\"\\u003cbr\\u003e44\\u003cbr\\u003eRu\\u003cbr\\u003e\",\"\\u003cbr\\u003e45\\u003cbr\\u003eRh\\u003cbr\\u003e\",\"\\u003cbr\\u003e46\\u003cbr\\u003ePd\\u003cbr\\u003e\",\"\\u003cbr\\u003e47\\u003cbr\\u003eAg\\u003cbr\\u003e\",\"\\u003cbr\\u003e48\\u003cbr\\u003eCd\\u003cbr\\u003e\",\"\\u003cbr\\u003e49\\u003cbr\\u003eIn\\u003cbr\\u003e\",\"\\u003cbr\\u003e50\\u003cbr\\u003eSn\\u003cbr\\u003e\",\"\\u003cbr\\u003e51\\u003cbr\\u003eSb\\u003cbr\\u003e\",\"\\u003cbr\\u003e52\\u003cbr\\u003eTe\\u003cbr\\u003e\",\"\\u003cbr\\u003e53\\u003cbr\\u003eI\\u003cbr\\u003e\",\"\\u003cbr\\u003e54\\u003cbr\\u003eXe\\u003cbr\\u003e\",\"\\u003cbr\\u003e55\\u003cbr\\u003eCs\\u003cbr\\u003e\",\"\\u003cbr\\u003e56\\u003cbr\\u003eBa\\u003cbr\\u003e\",\"\\u003cbr\\u003e57\\u003cbr\\u003eLa\\u003cbr\\u003e\",\"\\u003cbr\\u003e58\\u003cbr\\u003eCe\\u003cbr\\u003e\",\"\\u003cbr\\u003e59\\u003cbr\\u003ePr\\u003cbr\\u003e\",\"\\u003cbr\\u003e60\\u003cbr\\u003eNd\\u003cbr\\u003e\",\"\\u003cbr\\u003e61\\u003cbr\\u003ePm\\u003cbr\\u003e\",\"\\u003cbr\\u003e62\\u003cbr\\u003eSm\\u003cbr\\u003e\",\"\\u003cbr\\u003e63\\u003cbr\\u003eEu\\u003cbr\\u003e\",\"\\u003cbr\\u003e64\\u003cbr\\u003eGd\\u003cbr\\u003e\",\"\\u003cbr\\u003e65\\u003cbr\\u003eTb\\u003cbr\\u003e\",\"\\u003cbr\\u003e66\\u003cbr\\u003eDy\\u003cbr\\u003e\",\"\\u003cbr\\u003e67\\u003cbr\\u003eHo\\u003cbr\\u003e\",\"\\u003cbr\\u003e68\\u003cbr\\u003eEr\\u003cbr\\u003e\",\"\\u003cbr\\u003e69\\u003cbr\\u003eTm\\u003cbr\\u003e\",\"\\u003cbr\\u003e70\\u003cbr\\u003eYb\\u003cbr\\u003e\",\"\\u003cbr\\u003e71\\u003cbr\\u003eLu\\u003cbr\\u003e\",\"\\u003cbr\\u003e72\\u003cbr\\u003eHf\\u003cbr\\u003e\",\"\\u003cbr\\u003e73\\u003cbr\\u003eTa\\u003cbr\\u003e\",\"\\u003cbr\\u003e74\\u003cbr\\u003eW\\u003cbr\\u003e\",\"\\u003cbr\\u003e75\\u003cbr\\u003eRe\\u003cbr\\u003e\",\"\\u003cbr\\u003e76\\u003cbr\\u003eOs\\u003cbr\\u003e\",\"\\u003cbr\\u003e77\\u003cbr\\u003eIr\\u003cbr\\u003e\",\"\\u003cbr\\u003e78\\u003cbr\\u003ePt\\u003cbr\\u003e\",\"\\u003cbr\\u003e79\\u003cbr\\u003eAu\\u003cbr\\u003e\",\"\\u003cbr\\u003e80\\u003cbr\\u003eHg\\u003cbr\\u003e\",\"\\u003cbr\\u003e81\\u003cbr\\u003eTl\\u003cbr\\u003e\",\"\\u003cbr\\u003e82\\u003cbr\\u003ePb\\u003cbr\\u003e\",\"\\u003cbr\\u003e83\\u003cbr\\u003eBi\\u003cbr\\u003e\",\"\\u003cbr\\u003e84\\u003cbr\\u003ePo\\u003cbr\\u003e\",\"\\u003cbr\\u003e85\\u003cbr\\u003eAt\\u003cbr\\u003e\",\"\\u003cbr\\u003e86\\u003cbr\\u003eRn\\u003cbr\\u003e\",\"\\u003cbr\\u003e87\\u003cbr\\u003eFr\\u003cbr\\u003e\",\"\\u003cbr\\u003e88\\u003cbr\\u003eRa\\u003cbr\\u003e\",\"\\u003cbr\\u003e89\\u003cbr\\u003eAc\\u003cbr\\u003e\",\"\\u003cbr\\u003e90\\u003cbr\\u003eTh\\u003cbr\\u003e\",\"\\u003cbr\\u003e91\\u003cbr\\u003ePa\\u003cbr\\u003e\",\"\\u003cbr\\u003e92\\u003cbr\\u003eU\\u003cbr\\u003e\",\"\\u003cbr\\u003e93\\u003cbr\\u003eNp\\u003cbr\\u003e\",\"\\u003cbr\\u003e94\\u003cbr\\u003ePu\\u003cbr\\u003e\",\"\\u003cbr\\u003e95\\u003cbr\\u003eAm\\u003cbr\\u003e\",\"\\u003cbr\\u003e96\\u003cbr\\u003eCm\\u003cbr\\u003e\",\"\\u003cbr\\u003e97\\u003cbr\\u003eBk\\u003cbr\\u003e\",\"\\u003cbr\\u003e98\\u003cbr\\u003eCf\\u003cbr\\u003e\",\"\\u003cbr\\u003e99\\u003cbr\\u003eEs\\u003cbr\\u003e\",\"\\u003cbr\\u003e100\\u003cbr\\u003eFm\\u003cbr\\u003e\",\"\\u003cbr\\u003e101\\u003cbr\\u003eMd\\u003cbr\\u003e\",\"\\u003cbr\\u003e102\\u003cbr\\u003eNo\\u003cbr\\u003e\",\"\\u003cbr\\u003e103\\u003cbr\\u003eLr\\u003cbr\\u003e\",\"\\u003cbr\\u003e104\\u003cbr\\u003eRf\\u003cbr\\u003e\",\"\\u003cbr\\u003e105\\u003cbr\\u003eDb\\u003cbr\\u003e\",\"\\u003cbr\\u003e106\\u003cbr\\u003eSg\\u003cbr\\u003e\",\"\\u003cbr\\u003e107\\u003cbr\\u003eBh\\u003cbr\\u003e\",\"\\u003cbr\\u003e108\\u003cbr\\u003eHs\\u003cbr\\u003e\",\"\\u003cbr\\u003e109\\u003cbr\\u003eMt\\u003cbr\\u003e\",\"\\u003cbr\\u003e110\\u003cbr\\u003eDs\\u003cbr\\u003e\",\"\\u003cbr\\u003e111\\u003cbr\\u003eRg\\u003cbr\\u003e\",\"\\u003cbr\\u003e112\\u003cbr\\u003eCn\\u003cbr\\u003e\",\"\\u003cbr\\u003e113\\u003cbr\\u003eNh\\u003cbr\\u003e\",\"\\u003cbr\\u003e114\\u003cbr\\u003eFl\\u003cbr\\u003e\",\"\\u003cbr\\u003e115\\u003cbr\\u003eMc\\u003cbr\\u003e\",\"\\u003cbr\\u003e116\\u003cbr\\u003eLv\\u003cbr\\u003e\",\"\\u003cbr\\u003e117\\u003cbr\\u003eTs\\u003cbr\\u003e\",\"\\u003cbr\\u003e118\\u003cbr\\u003eOg\\u003cbr\\u003e\"],\"x\":[1,1,1,18,1,2,13,14,15,16,17,18,1,2,13,14,15,16,17,18,1,2,3,4,5,6,7,8,9,10,11,12,13,14,15,16,17,18,1,2,3,4,5,6,7,8,9,10,11,12,13,14,15,16,17,18,1,2,3,4,5,6,7,8,9,10,11,12,13,14,15,16,17,4,5,6,7,8,9,10,11,12,13,14,15,16,17,18,1,2,3,4,5,6,7,8,9,10,11,12,13,14,15,16,17,4,5,6,7,8,9,10,11,12,13,14,15,16,17,18],\"xaxis\":\"x\",\"y\":[1,1,1,1,2,2,2,2,2,2,2,2,3,3,3,3,3,3,3,3,4,4,4,4,4,4,4,4,4,4,4,4,4,4,4,4,4,4,5,5,5,5,5,5,5,5,5,5,5,5,5,5,5,5,5,5,6,6,9,9,9,9,9,9,9,9,9,9,9,9,9,9,9,6,6,6,6,6,6,6,6,6,6,6,6,6,6,6,7,7,10,10,10,10,10,10,10,10,10,10,10,10,10,10,10,7,7,7,7,7,7,7,7,7,7,7,7,7,7,7],\"yaxis\":\"y\",\"type\":\"scatter\"}],                        {\"template\":{\"data\":{\"histogram2dcontour\":[{\"type\":\"histogram2dcontour\",\"colorbar\":{\"outlinewidth\":0,\"ticks\":\"\"},\"colorscale\":[[0.0,\"#0d0887\"],[0.1111111111111111,\"#46039f\"],[0.2222222222222222,\"#7201a8\"],[0.3333333333333333,\"#9c179e\"],[0.4444444444444444,\"#bd3786\"],[0.5555555555555556,\"#d8576b\"],[0.6666666666666666,\"#ed7953\"],[0.7777777777777778,\"#fb9f3a\"],[0.8888888888888888,\"#fdca26\"],[1.0,\"#f0f921\"]]}],\"choropleth\":[{\"type\":\"choropleth\",\"colorbar\":{\"outlinewidth\":0,\"ticks\":\"\"}}],\"histogram2d\":[{\"type\":\"histogram2d\",\"colorbar\":{\"outlinewidth\":0,\"ticks\":\"\"},\"colorscale\":[[0.0,\"#0d0887\"],[0.1111111111111111,\"#46039f\"],[0.2222222222222222,\"#7201a8\"],[0.3333333333333333,\"#9c179e\"],[0.4444444444444444,\"#bd3786\"],[0.5555555555555556,\"#d8576b\"],[0.6666666666666666,\"#ed7953\"],[0.7777777777777778,\"#fb9f3a\"],[0.8888888888888888,\"#fdca26\"],[1.0,\"#f0f921\"]]}],\"heatmap\":[{\"type\":\"heatmap\",\"colorbar\":{\"outlinewidth\":0,\"ticks\":\"\"},\"colorscale\":[[0.0,\"#0d0887\"],[0.1111111111111111,\"#46039f\"],[0.2222222222222222,\"#7201a8\"],[0.3333333333333333,\"#9c179e\"],[0.4444444444444444,\"#bd3786\"],[0.5555555555555556,\"#d8576b\"],[0.6666666666666666,\"#ed7953\"],[0.7777777777777778,\"#fb9f3a\"],[0.8888888888888888,\"#fdca26\"],[1.0,\"#f0f921\"]]}],\"heatmapgl\":[{\"type\":\"heatmapgl\",\"colorbar\":{\"outlinewidth\":0,\"ticks\":\"\"},\"colorscale\":[[0.0,\"#0d0887\"],[0.1111111111111111,\"#46039f\"],[0.2222222222222222,\"#7201a8\"],[0.3333333333333333,\"#9c179e\"],[0.4444444444444444,\"#bd3786\"],[0.5555555555555556,\"#d8576b\"],[0.6666666666666666,\"#ed7953\"],[0.7777777777777778,\"#fb9f3a\"],[0.8888888888888888,\"#fdca26\"],[1.0,\"#f0f921\"]]}],\"contourcarpet\":[{\"type\":\"contourcarpet\",\"colorbar\":{\"outlinewidth\":0,\"ticks\":\"\"}}],\"contour\":[{\"type\":\"contour\",\"colorbar\":{\"outlinewidth\":0,\"ticks\":\"\"},\"colorscale\":[[0.0,\"#0d0887\"],[0.1111111111111111,\"#46039f\"],[0.2222222222222222,\"#7201a8\"],[0.3333333333333333,\"#9c179e\"],[0.4444444444444444,\"#bd3786\"],[0.5555555555555556,\"#d8576b\"],[0.6666666666666666,\"#ed7953\"],[0.7777777777777778,\"#fb9f3a\"],[0.8888888888888888,\"#fdca26\"],[1.0,\"#f0f921\"]]}],\"surface\":[{\"type\":\"surface\",\"colorbar\":{\"outlinewidth\":0,\"ticks\":\"\"},\"colorscale\":[[0.0,\"#0d0887\"],[0.1111111111111111,\"#46039f\"],[0.2222222222222222,\"#7201a8\"],[0.3333333333333333,\"#9c179e\"],[0.4444444444444444,\"#bd3786\"],[0.5555555555555556,\"#d8576b\"],[0.6666666666666666,\"#ed7953\"],[0.7777777777777778,\"#fb9f3a\"],[0.8888888888888888,\"#fdca26\"],[1.0,\"#f0f921\"]]}],\"mesh3d\":[{\"type\":\"mesh3d\",\"colorbar\":{\"outlinewidth\":0,\"ticks\":\"\"}}],\"scatter\":[{\"fillpattern\":{\"fillmode\":\"overlay\",\"size\":10,\"solidity\":0.2},\"type\":\"scatter\"}],\"parcoords\":[{\"type\":\"parcoords\",\"line\":{\"colorbar\":{\"outlinewidth\":0,\"ticks\":\"\"}}}],\"scatterpolargl\":[{\"type\":\"scatterpolargl\",\"marker\":{\"colorbar\":{\"outlinewidth\":0,\"ticks\":\"\"}}}],\"bar\":[{\"error_x\":{\"color\":\"#2a3f5f\"},\"error_y\":{\"color\":\"#2a3f5f\"},\"marker\":{\"line\":{\"color\":\"#E5ECF6\",\"width\":0.5},\"pattern\":{\"fillmode\":\"overlay\",\"size\":10,\"solidity\":0.2}},\"type\":\"bar\"}],\"scattergeo\":[{\"type\":\"scattergeo\",\"marker\":{\"colorbar\":{\"outlinewidth\":0,\"ticks\":\"\"}}}],\"scatterpolar\":[{\"type\":\"scatterpolar\",\"marker\":{\"colorbar\":{\"outlinewidth\":0,\"ticks\":\"\"}}}],\"histogram\":[{\"marker\":{\"pattern\":{\"fillmode\":\"overlay\",\"size\":10,\"solidity\":0.2}},\"type\":\"histogram\"}],\"scattergl\":[{\"type\":\"scattergl\",\"marker\":{\"colorbar\":{\"outlinewidth\":0,\"ticks\":\"\"}}}],\"scatter3d\":[{\"type\":\"scatter3d\",\"line\":{\"colorbar\":{\"outlinewidth\":0,\"ticks\":\"\"}},\"marker\":{\"colorbar\":{\"outlinewidth\":0,\"ticks\":\"\"}}}],\"scattermapbox\":[{\"type\":\"scattermapbox\",\"marker\":{\"colorbar\":{\"outlinewidth\":0,\"ticks\":\"\"}}}],\"scatterternary\":[{\"type\":\"scatterternary\",\"marker\":{\"colorbar\":{\"outlinewidth\":0,\"ticks\":\"\"}}}],\"scattercarpet\":[{\"type\":\"scattercarpet\",\"marker\":{\"colorbar\":{\"outlinewidth\":0,\"ticks\":\"\"}}}],\"carpet\":[{\"aaxis\":{\"endlinecolor\":\"#2a3f5f\",\"gridcolor\":\"white\",\"linecolor\":\"white\",\"minorgridcolor\":\"white\",\"startlinecolor\":\"#2a3f5f\"},\"baxis\":{\"endlinecolor\":\"#2a3f5f\",\"gridcolor\":\"white\",\"linecolor\":\"white\",\"minorgridcolor\":\"white\",\"startlinecolor\":\"#2a3f5f\"},\"type\":\"carpet\"}],\"table\":[{\"cells\":{\"fill\":{\"color\":\"#EBF0F8\"},\"line\":{\"color\":\"white\"}},\"header\":{\"fill\":{\"color\":\"#C8D4E3\"},\"line\":{\"color\":\"white\"}},\"type\":\"table\"}],\"barpolar\":[{\"marker\":{\"line\":{\"color\":\"#E5ECF6\",\"width\":0.5},\"pattern\":{\"fillmode\":\"overlay\",\"size\":10,\"solidity\":0.2}},\"type\":\"barpolar\"}],\"pie\":[{\"automargin\":true,\"type\":\"pie\"}]},\"layout\":{\"autotypenumbers\":\"strict\",\"colorway\":[\"#636efa\",\"#EF553B\",\"#00cc96\",\"#ab63fa\",\"#FFA15A\",\"#19d3f3\",\"#FF6692\",\"#B6E880\",\"#FF97FF\",\"#FECB52\"],\"font\":{\"color\":\"#2a3f5f\"},\"hovermode\":\"closest\",\"hoverlabel\":{\"align\":\"left\"},\"paper_bgcolor\":\"white\",\"plot_bgcolor\":\"#E5ECF6\",\"polar\":{\"bgcolor\":\"#E5ECF6\",\"angularaxis\":{\"gridcolor\":\"white\",\"linecolor\":\"white\",\"ticks\":\"\"},\"radialaxis\":{\"gridcolor\":\"white\",\"linecolor\":\"white\",\"ticks\":\"\"}},\"ternary\":{\"bgcolor\":\"#E5ECF6\",\"aaxis\":{\"gridcolor\":\"white\",\"linecolor\":\"white\",\"ticks\":\"\"},\"baxis\":{\"gridcolor\":\"white\",\"linecolor\":\"white\",\"ticks\":\"\"},\"caxis\":{\"gridcolor\":\"white\",\"linecolor\":\"white\",\"ticks\":\"\"}},\"coloraxis\":{\"colorbar\":{\"outlinewidth\":0,\"ticks\":\"\"}},\"colorscale\":{\"sequential\":[[0.0,\"#0d0887\"],[0.1111111111111111,\"#46039f\"],[0.2222222222222222,\"#7201a8\"],[0.3333333333333333,\"#9c179e\"],[0.4444444444444444,\"#bd3786\"],[0.5555555555555556,\"#d8576b\"],[0.6666666666666666,\"#ed7953\"],[0.7777777777777778,\"#fb9f3a\"],[0.8888888888888888,\"#fdca26\"],[1.0,\"#f0f921\"]],\"sequentialminus\":[[0.0,\"#0d0887\"],[0.1111111111111111,\"#46039f\"],[0.2222222222222222,\"#7201a8\"],[0.3333333333333333,\"#9c179e\"],[0.4444444444444444,\"#bd3786\"],[0.5555555555555556,\"#d8576b\"],[0.6666666666666666,\"#ed7953\"],[0.7777777777777778,\"#fb9f3a\"],[0.8888888888888888,\"#fdca26\"],[1.0,\"#f0f921\"]],\"diverging\":[[0,\"#8e0152\"],[0.1,\"#c51b7d\"],[0.2,\"#de77ae\"],[0.3,\"#f1b6da\"],[0.4,\"#fde0ef\"],[0.5,\"#f7f7f7\"],[0.6,\"#e6f5d0\"],[0.7,\"#b8e186\"],[0.8,\"#7fbc41\"],[0.9,\"#4d9221\"],[1,\"#276419\"]]},\"xaxis\":{\"gridcolor\":\"white\",\"linecolor\":\"white\",\"ticks\":\"\",\"title\":{\"standoff\":15},\"zerolinecolor\":\"white\",\"automargin\":true,\"zerolinewidth\":2},\"yaxis\":{\"gridcolor\":\"white\",\"linecolor\":\"white\",\"ticks\":\"\",\"title\":{\"standoff\":15},\"zerolinecolor\":\"white\",\"automargin\":true,\"zerolinewidth\":2},\"scene\":{\"xaxis\":{\"backgroundcolor\":\"#E5ECF6\",\"gridcolor\":\"white\",\"linecolor\":\"white\",\"showbackground\":true,\"ticks\":\"\",\"zerolinecolor\":\"white\",\"gridwidth\":2},\"yaxis\":{\"backgroundcolor\":\"#E5ECF6\",\"gridcolor\":\"white\",\"linecolor\":\"white\",\"showbackground\":true,\"ticks\":\"\",\"zerolinecolor\":\"white\",\"gridwidth\":2},\"zaxis\":{\"backgroundcolor\":\"#E5ECF6\",\"gridcolor\":\"white\",\"linecolor\":\"white\",\"showbackground\":true,\"ticks\":\"\",\"zerolinecolor\":\"white\",\"gridwidth\":2}},\"shapedefaults\":{\"line\":{\"color\":\"#2a3f5f\"}},\"annotationdefaults\":{\"arrowcolor\":\"#2a3f5f\",\"arrowhead\":0,\"arrowwidth\":1},\"geo\":{\"bgcolor\":\"white\",\"landcolor\":\"#E5ECF6\",\"subunitcolor\":\"white\",\"showland\":true,\"showlakes\":true,\"lakecolor\":\"white\"},\"title\":{\"x\":0.05},\"mapbox\":{\"style\":\"light\"}}},\"xaxis\":{\"anchor\":\"y\",\"domain\":[0.0,1.0],\"title\":{\"text\":\"Group\"},\"dtick\":1},\"yaxis\":{\"anchor\":\"x\",\"domain\":[0.0,1.0],\"title\":{\"text\":\"Period\"},\"dtick\":1,\"autorange\":\"reversed\"},\"coloraxis\":{\"colorbar\":{\"title\":{\"text\":\"X\"}},\"colorscale\":[[0.0,\"#0d0887\"],[0.1111111111111111,\"#46039f\"],[0.2222222222222222,\"#7201a8\"],[0.3333333333333333,\"#9c179e\"],[0.4444444444444444,\"#bd3786\"],[0.5555555555555556,\"#d8576b\"],[0.6666666666666666,\"#ed7953\"],[0.7777777777777778,\"#fb9f3a\"],[0.8888888888888888,\"#fdca26\"],[1.0,\"#f0f921\"]]},\"legend\":{\"tracegroupgap\":0},\"margin\":{\"t\":60},\"title\":{\"text\":\"Interactive Periodic Table\"},\"showlegend\":false,\"plot_bgcolor\":\"white\",\"width\":1100,\"height\":650},                        {\"responsive\": true}                    ).then(function(){\n",
       "                            \n",
       "var gd = document.getElementById('9c1d0e20-4e8a-482b-8a2e-3f1851f644ff');\n",
       "var x = new MutationObserver(function (mutations, observer) {{\n",
       "        var display = window.getComputedStyle(gd).display;\n",
       "        if (!display || display === 'none') {{\n",
       "            console.log([gd, 'removed!']);\n",
       "            Plotly.purge(gd);\n",
       "            observer.disconnect();\n",
       "        }}\n",
       "}});\n",
       "\n",
       "// Listen for the removal of the full notebook cells\n",
       "var notebookContainer = gd.closest('#notebook-container');\n",
       "if (notebookContainer) {{\n",
       "    x.observe(notebookContainer, {childList: true});\n",
       "}}\n",
       "\n",
       "// Listen for the clearing of the current output cell\n",
       "var outputEl = gd.closest('.output');\n",
       "if (outputEl) {{\n",
       "    x.observe(outputEl, {childList: true});\n",
       "}}\n",
       "\n",
       "                        })                };                });            </script>        </div>"
      ]
     },
     "metadata": {},
     "output_type": "display_data"
    }
   ],
   "source": [
    "# Define color mapping for categories\n",
    "category_colors = {\n",
    "    \"metalloid\": \"lightblue\",\n",
    "    \"noble_gas\": \"lightgreen\",\n",
    "    \"alkali\": \"pink\",\n",
    "    \"alkaline\": \"orange\",\n",
    "    \"metal\": \"yellow\",\n",
    "    \"chalcogen\": \"purple\",\n",
    "    \"halogen\": \"purple\",\n",
    "    \"actinoid\": \"lightgray\",\n",
    "    \"lanthanoid\": \"lightcoral\",\n",
    "    \"transuranic\": \"grey\",\n",
    "    \"\": \"lightgrey\",\n",
    "}\n",
    "\n",
    "# Create hover text for each element\n",
    "df[\"label\"] = df.apply(lambda row: f\"<br>{row['Z']}<br>{row['symbol']}<br>\", axis=1)\n",
    "\n",
    "# Create the plot\n",
    "fig = px.scatter(\n",
    "    df,\n",
    "    x=\"group\",\n",
    "    y=\"period\",\n",
    "    color=\"X\",\n",
    "    text=\"label\",\n",
    "    hover_name=\"X\",\n",
    "    hover_data={\"Z\": False, \"name\": False, \"label\": False, \"X\": False, \"group\": False, \"period\": False},\n",
    ")\n",
    "\n",
    "fig.update_traces(marker=dict(symbol=\"square\", size=40, line=dict(color=\"black\", width=1)))\n",
    "\n",
    "\n",
    "# Update layout\n",
    "fig.update_layout(\n",
    "    title=\"Interactive Periodic Table\",\n",
    "    xaxis=dict(title=\"Group\", dtick=1),\n",
    "    yaxis=dict(title=\"Period\", dtick=1, autorange=\"reversed\"),\n",
    "    showlegend=False,\n",
    "    plot_bgcolor=\"white\",\n",
    "    width=1100,\n",
    "    height=650,\n",
    ")\n",
    "\n",
    "# Show the plot\n",
    "fig.show()"
   ]
  },
  {
   "cell_type": "code",
   "execution_count": null,
   "id": "2",
   "metadata": {},
   "outputs": [],
   "source": [
    "print(df.to_string())"
   ]
  }
 ],
 "metadata": {
  "kernelspec": {
   "display_name": "Python 3 (ipykernel)",
   "language": "python",
   "name": "python3"
  },
  "language_info": {
   "codemirror_mode": {
    "name": "ipython",
    "version": 3
   },
   "file_extension": ".py",
   "mimetype": "text/x-python",
   "name": "python",
   "nbconvert_exporter": "python",
   "pygments_lexer": "ipython3",
   "version": "3.11.10"
  }
 },
 "nbformat": 4,
 "nbformat_minor": 5
}
