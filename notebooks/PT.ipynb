{
 "cells": [
  {
   "cell_type": "code",
   "execution_count": 67,
   "id": "0aa14301-34e8-4c54-b625-c1c52b8f84e2",
   "metadata": {},
   "outputs": [],
   "source": [
    "import plotly.graph_objects as go\n",
    "import pandas as pd\n",
    "from pymatgen.core.periodic_table import Element, _pt_data\n",
    "# Define periodic table data\n",
    "def get_period(el):\n",
    "    if el.is_actinoid or el.is_lanthanoid:\n",
    "        return el.row + 3\n",
    "    return el.row \n",
    "\n",
    "def get_group(el):\n",
    "    if el.is_actinoid:\n",
    "        return el.group + el.Z - 89\n",
    "    if el.is_lanthanoid:\n",
    "        return el.group + el.Z - 57\n",
    "    return el.group\n",
    "\n",
    "def get_category(el):\n",
    "    if el.Z > 92:\n",
    "        return \"transuranic\"\n",
    "    for cat in [\"alkali\", \"alkaline\", \"actinoid\", \"lanthanoid\", \"halogen\", \"noble_gas\", \"metal\", \"chalcogen\"]:\n",
    "        if getattr(el, f\"is_{cat}\"):\n",
    "            return cat\n",
    "    return \"\"\n",
    "    \n",
    "df = pd.DataFrame([{\"Symbol\": el.symbol, \"Name\": el.long_name, \"AtomicNumber\": el.Z, \"Group\": get_group(el), \"Period\": get_period(el), \"Category\": get_category(el)} for el in Element])"
   ]
  },
  {
   "cell_type": "code",
   "execution_count": null,
   "id": "f920a76c-8fdb-44ab-8411-199ad5c29021",
   "metadata": {},
   "outputs": [],
   "source": [
    "\n",
    "data = {\n",
    "    \"Symbol\": [\n",
    "        \"H\", \"He\", \"Li\", \"Be\", \"B\", \"C\", \"N\", \"O\", \"F\", \"Ne\", \"Na\", \"Mg\", \"Al\", \"Si\", \"P\", \"S\", \"Cl\", \"Ar\",\n",
    "        \"K\", \"Ca\", \"Sc\", \"Ti\", \"V\", \"Cr\", \"Mn\", \"Fe\", \"Co\", \"Ni\", \"Cu\", \"Zn\", \"Ga\", \"Ge\", \"As\", \"Se\", \"Br\", \"Kr\"\n",
    "    ],\n",
    "    \"Name\": [\n",
    "        \"Hydrogen\", \"Helium\", \"Lithium\", \"Beryllium\", \"Boron\", \"Carbon\", \"Nitrogen\", \"Oxygen\", \"Fluorine\", \"Neon\",\n",
    "        \"Sodium\", \"Magnesium\", \"Aluminium\", \"Silicon\", \"Phosphorus\", \"Sulfur\", \"Chlorine\", \"Argon\",\n",
    "        \"Potassium\", \"Calcium\", \"Scandium\", \"Titanium\", \"Vanadium\", \"Chromium\", \"Manganese\", \"Iron\", \"Cobalt\",\n",
    "        \"Nickel\", \"Copper\", \"Zinc\", \"Gallium\", \"Germanium\", \"Arsenic\", \"Selenium\", \"Bromine\", \"Krypton\"\n",
    "    ],\n",
    "    \"AtomicNumber\": [\n",
    "        1, 2, 3, 4, 5, 6, 7, 8, 9, 10, 11, 12, 13, 14, 15, 16, 17, 18, 19, 20, 21, 22, 23, 24, 25, 26, 27, 28, 29, 30, \n",
    "        31, 32, 33, 34, 35, 36\n",
    "    ],\n",
    "    \"Group\": [\n",
    "        1, 18, 1, 2, 13, 14, 15, 16, 17, 18, 1, 2, 13, 14, 15, 16, 17, 18, 1, 2, 3, 4, 5, 6, 7, 8, 9, 10, 11, 12, 13, \n",
    "        14, 15, 16, 17, 18\n",
    "    ],\n",
    "    \"Period\": [\n",
    "        1, 1, 2, 2, 2, 2, 2, 2, 2, 2, 3, 3, 3, 3, 3, 3, 3, 3, 4, 4, 4, 4, 4, 4, 4, 4, 4, 4, 4, 4, 4, 4, 4, 4, 4, 4\n",
    "    ],\n",
    "    \"Category\": [\n",
    "        \"Nonmetal\", \"Noble gas\", \"Alkali metal\", \"Alkaline earth metal\", \"Metalloid\", \"Nonmetal\", \"Nonmetal\", \"Nonmetal\",\n",
    "        \"Halogen\", \"Noble gas\", \"Alkali metal\", \"Alkaline earth metal\", \"Post-transition metal\", \"Metalloid\", \"Nonmetal\",\n",
    "        \"Nonmetal\", \"Halogen\", \"Noble gas\", \"Alkali metal\", \"Alkaline earth metal\", \"Transition metal\", \"Transition metal\",\n",
    "        \"Transition metal\", \"Transition metal\", \"Transition metal\", \"Transition metal\", \"Transition metal\", \n",
    "        \"Transition metal\", \"Transition metal\", \"Transition metal\", \"Post-transition metal\", \"Metalloid\", \"Metalloid\",\n",
    "        \"Nonmetal\", \"Halogen\", \"Noble gas\"\n",
    "    ]\n",
    "}"
   ]
  },
  {
   "cell_type": "code",
   "execution_count": 30,
   "id": "76de7f7e-7491-4465-be43-7e94583957e6",
   "metadata": {},
   "outputs": [
    {
     "data": {
      "text/plain": [
       "False"
      ]
     },
     "execution_count": 30,
     "metadata": {},
     "output_type": "execute_result"
    }
   ],
   "source": [
    "Element.H.is_"
   ]
  },
  {
   "cell_type": "code",
   "execution_count": 6,
   "id": "105b0d44-fa33-487e-81d9-b9ad52b4d429",
   "metadata": {},
   "outputs": [
    {
     "data": {
      "text/plain": [
       "18"
      ]
     },
     "execution_count": 6,
     "metadata": {},
     "output_type": "execute_result"
    }
   ],
   "source": []
  },
  {
   "cell_type": "code",
   "execution_count": 68,
   "id": "b37c8b5c-2341-4c99-bd45-4fc67464c579",
   "metadata": {},
   "outputs": [
    {
     "data": {
      "application/vnd.plotly.v1+json": {
       "config": {
        "plotlyServerURL": "https://plot.ly"
       },
       "data": [
        {
         "hoverinfo": "text",
         "hovertext": "Name: Hydrogen<br>Atomic Number: 1",
         "marker": {
          "color": "lightgrey",
          "line": {
           "color": "black",
           "width": 1
          },
          "size": 40,
          "symbol": "square"
         },
         "mode": "markers+text",
         "text": "H",
         "type": "scatter",
         "x": [
          1
         ],
         "y": [
          1
         ]
        },
        {
         "hoverinfo": "text",
         "hovertext": "Name: Deuterium<br>Atomic Number: 1",
         "marker": {
          "color": "lightgrey",
          "line": {
           "color": "black",
           "width": 1
          },
          "size": 40,
          "symbol": "square"
         },
         "mode": "markers+text",
         "text": "H",
         "type": "scatter",
         "x": [
          1
         ],
         "y": [
          1
         ]
        },
        {
         "hoverinfo": "text",
         "hovertext": "Name: Tritium<br>Atomic Number: 1",
         "marker": {
          "color": "lightgrey",
          "line": {
           "color": "black",
           "width": 1
          },
          "size": 40,
          "symbol": "square"
         },
         "mode": "markers+text",
         "text": "H",
         "type": "scatter",
         "x": [
          1
         ],
         "y": [
          1
         ]
        },
        {
         "hoverinfo": "text",
         "hovertext": "Name: Helium<br>Atomic Number: 2",
         "marker": {
          "color": "lightgreen",
          "line": {
           "color": "black",
           "width": 1
          },
          "size": 40,
          "symbol": "square"
         },
         "mode": "markers+text",
         "text": "He",
         "type": "scatter",
         "x": [
          18
         ],
         "y": [
          1
         ]
        },
        {
         "hoverinfo": "text",
         "hovertext": "Name: Lithium<br>Atomic Number: 3",
         "marker": {
          "color": "pink",
          "line": {
           "color": "black",
           "width": 1
          },
          "size": 40,
          "symbol": "square"
         },
         "mode": "markers+text",
         "text": "Li",
         "type": "scatter",
         "x": [
          1
         ],
         "y": [
          2
         ]
        },
        {
         "hoverinfo": "text",
         "hovertext": "Name: Beryllium<br>Atomic Number: 4",
         "marker": {
          "color": "orange",
          "line": {
           "color": "black",
           "width": 1
          },
          "size": 40,
          "symbol": "square"
         },
         "mode": "markers+text",
         "text": "Be",
         "type": "scatter",
         "x": [
          2
         ],
         "y": [
          2
         ]
        },
        {
         "hoverinfo": "text",
         "hovertext": "Name: Boron<br>Atomic Number: 5",
         "marker": {
          "color": "lightgrey",
          "line": {
           "color": "black",
           "width": 1
          },
          "size": 40,
          "symbol": "square"
         },
         "mode": "markers+text",
         "text": "B",
         "type": "scatter",
         "x": [
          13
         ],
         "y": [
          2
         ]
        },
        {
         "hoverinfo": "text",
         "hovertext": "Name: Carbon<br>Atomic Number: 6",
         "marker": {
          "color": "lightgrey",
          "line": {
           "color": "black",
           "width": 1
          },
          "size": 40,
          "symbol": "square"
         },
         "mode": "markers+text",
         "text": "C",
         "type": "scatter",
         "x": [
          14
         ],
         "y": [
          2
         ]
        },
        {
         "hoverinfo": "text",
         "hovertext": "Name: Nitrogen<br>Atomic Number: 7",
         "marker": {
          "color": "lightgrey",
          "line": {
           "color": "black",
           "width": 1
          },
          "size": 40,
          "symbol": "square"
         },
         "mode": "markers+text",
         "text": "N",
         "type": "scatter",
         "x": [
          15
         ],
         "y": [
          2
         ]
        },
        {
         "hoverinfo": "text",
         "hovertext": "Name: Oxygen<br>Atomic Number: 8",
         "marker": {
          "color": "purple",
          "line": {
           "color": "black",
           "width": 1
          },
          "size": 40,
          "symbol": "square"
         },
         "mode": "markers+text",
         "text": "O",
         "type": "scatter",
         "x": [
          16
         ],
         "y": [
          2
         ]
        },
        {
         "hoverinfo": "text",
         "hovertext": "Name: Fluorine<br>Atomic Number: 9",
         "marker": {
          "color": "purple",
          "line": {
           "color": "black",
           "width": 1
          },
          "size": 40,
          "symbol": "square"
         },
         "mode": "markers+text",
         "text": "F",
         "type": "scatter",
         "x": [
          17
         ],
         "y": [
          2
         ]
        },
        {
         "hoverinfo": "text",
         "hovertext": "Name: Neon<br>Atomic Number: 10",
         "marker": {
          "color": "lightgreen",
          "line": {
           "color": "black",
           "width": 1
          },
          "size": 40,
          "symbol": "square"
         },
         "mode": "markers+text",
         "text": "Ne",
         "type": "scatter",
         "x": [
          18
         ],
         "y": [
          2
         ]
        },
        {
         "hoverinfo": "text",
         "hovertext": "Name: Sodium<br>Atomic Number: 11",
         "marker": {
          "color": "pink",
          "line": {
           "color": "black",
           "width": 1
          },
          "size": 40,
          "symbol": "square"
         },
         "mode": "markers+text",
         "text": "Na",
         "type": "scatter",
         "x": [
          1
         ],
         "y": [
          3
         ]
        },
        {
         "hoverinfo": "text",
         "hovertext": "Name: Magnesium<br>Atomic Number: 12",
         "marker": {
          "color": "orange",
          "line": {
           "color": "black",
           "width": 1
          },
          "size": 40,
          "symbol": "square"
         },
         "mode": "markers+text",
         "text": "Mg",
         "type": "scatter",
         "x": [
          2
         ],
         "y": [
          3
         ]
        },
        {
         "hoverinfo": "text",
         "hovertext": "Name: Aluminum<br>Atomic Number: 13",
         "marker": {
          "color": "yellow",
          "line": {
           "color": "black",
           "width": 1
          },
          "size": 40,
          "symbol": "square"
         },
         "mode": "markers+text",
         "text": "Al",
         "type": "scatter",
         "x": [
          13
         ],
         "y": [
          3
         ]
        },
        {
         "hoverinfo": "text",
         "hovertext": "Name: Silicon<br>Atomic Number: 14",
         "marker": {
          "color": "lightgrey",
          "line": {
           "color": "black",
           "width": 1
          },
          "size": 40,
          "symbol": "square"
         },
         "mode": "markers+text",
         "text": "Si",
         "type": "scatter",
         "x": [
          14
         ],
         "y": [
          3
         ]
        },
        {
         "hoverinfo": "text",
         "hovertext": "Name: Phosphorus<br>Atomic Number: 15",
         "marker": {
          "color": "lightgrey",
          "line": {
           "color": "black",
           "width": 1
          },
          "size": 40,
          "symbol": "square"
         },
         "mode": "markers+text",
         "text": "P",
         "type": "scatter",
         "x": [
          15
         ],
         "y": [
          3
         ]
        },
        {
         "hoverinfo": "text",
         "hovertext": "Name: Sulfur<br>Atomic Number: 16",
         "marker": {
          "color": "purple",
          "line": {
           "color": "black",
           "width": 1
          },
          "size": 40,
          "symbol": "square"
         },
         "mode": "markers+text",
         "text": "S",
         "type": "scatter",
         "x": [
          16
         ],
         "y": [
          3
         ]
        },
        {
         "hoverinfo": "text",
         "hovertext": "Name: Chlorine<br>Atomic Number: 17",
         "marker": {
          "color": "purple",
          "line": {
           "color": "black",
           "width": 1
          },
          "size": 40,
          "symbol": "square"
         },
         "mode": "markers+text",
         "text": "Cl",
         "type": "scatter",
         "x": [
          17
         ],
         "y": [
          3
         ]
        },
        {
         "hoverinfo": "text",
         "hovertext": "Name: Argon<br>Atomic Number: 18",
         "marker": {
          "color": "lightgreen",
          "line": {
           "color": "black",
           "width": 1
          },
          "size": 40,
          "symbol": "square"
         },
         "mode": "markers+text",
         "text": "Ar",
         "type": "scatter",
         "x": [
          18
         ],
         "y": [
          3
         ]
        },
        {
         "hoverinfo": "text",
         "hovertext": "Name: Potassium<br>Atomic Number: 19",
         "marker": {
          "color": "pink",
          "line": {
           "color": "black",
           "width": 1
          },
          "size": 40,
          "symbol": "square"
         },
         "mode": "markers+text",
         "text": "K",
         "type": "scatter",
         "x": [
          1
         ],
         "y": [
          4
         ]
        },
        {
         "hoverinfo": "text",
         "hovertext": "Name: Calcium<br>Atomic Number: 20",
         "marker": {
          "color": "orange",
          "line": {
           "color": "black",
           "width": 1
          },
          "size": 40,
          "symbol": "square"
         },
         "mode": "markers+text",
         "text": "Ca",
         "type": "scatter",
         "x": [
          2
         ],
         "y": [
          4
         ]
        },
        {
         "hoverinfo": "text",
         "hovertext": "Name: Scandium<br>Atomic Number: 21",
         "marker": {
          "color": "yellow",
          "line": {
           "color": "black",
           "width": 1
          },
          "size": 40,
          "symbol": "square"
         },
         "mode": "markers+text",
         "text": "Sc",
         "type": "scatter",
         "x": [
          3
         ],
         "y": [
          4
         ]
        },
        {
         "hoverinfo": "text",
         "hovertext": "Name: Titanium<br>Atomic Number: 22",
         "marker": {
          "color": "yellow",
          "line": {
           "color": "black",
           "width": 1
          },
          "size": 40,
          "symbol": "square"
         },
         "mode": "markers+text",
         "text": "Ti",
         "type": "scatter",
         "x": [
          4
         ],
         "y": [
          4
         ]
        },
        {
         "hoverinfo": "text",
         "hovertext": "Name: Vanadium<br>Atomic Number: 23",
         "marker": {
          "color": "yellow",
          "line": {
           "color": "black",
           "width": 1
          },
          "size": 40,
          "symbol": "square"
         },
         "mode": "markers+text",
         "text": "V",
         "type": "scatter",
         "x": [
          5
         ],
         "y": [
          4
         ]
        },
        {
         "hoverinfo": "text",
         "hovertext": "Name: Chromium<br>Atomic Number: 24",
         "marker": {
          "color": "yellow",
          "line": {
           "color": "black",
           "width": 1
          },
          "size": 40,
          "symbol": "square"
         },
         "mode": "markers+text",
         "text": "Cr",
         "type": "scatter",
         "x": [
          6
         ],
         "y": [
          4
         ]
        },
        {
         "hoverinfo": "text",
         "hovertext": "Name: Manganese<br>Atomic Number: 25",
         "marker": {
          "color": "yellow",
          "line": {
           "color": "black",
           "width": 1
          },
          "size": 40,
          "symbol": "square"
         },
         "mode": "markers+text",
         "text": "Mn",
         "type": "scatter",
         "x": [
          7
         ],
         "y": [
          4
         ]
        },
        {
         "hoverinfo": "text",
         "hovertext": "Name: Iron<br>Atomic Number: 26",
         "marker": {
          "color": "yellow",
          "line": {
           "color": "black",
           "width": 1
          },
          "size": 40,
          "symbol": "square"
         },
         "mode": "markers+text",
         "text": "Fe",
         "type": "scatter",
         "x": [
          8
         ],
         "y": [
          4
         ]
        },
        {
         "hoverinfo": "text",
         "hovertext": "Name: Cobalt<br>Atomic Number: 27",
         "marker": {
          "color": "yellow",
          "line": {
           "color": "black",
           "width": 1
          },
          "size": 40,
          "symbol": "square"
         },
         "mode": "markers+text",
         "text": "Co",
         "type": "scatter",
         "x": [
          9
         ],
         "y": [
          4
         ]
        },
        {
         "hoverinfo": "text",
         "hovertext": "Name: Nickel<br>Atomic Number: 28",
         "marker": {
          "color": "yellow",
          "line": {
           "color": "black",
           "width": 1
          },
          "size": 40,
          "symbol": "square"
         },
         "mode": "markers+text",
         "text": "Ni",
         "type": "scatter",
         "x": [
          10
         ],
         "y": [
          4
         ]
        },
        {
         "hoverinfo": "text",
         "hovertext": "Name: Copper<br>Atomic Number: 29",
         "marker": {
          "color": "yellow",
          "line": {
           "color": "black",
           "width": 1
          },
          "size": 40,
          "symbol": "square"
         },
         "mode": "markers+text",
         "text": "Cu",
         "type": "scatter",
         "x": [
          11
         ],
         "y": [
          4
         ]
        },
        {
         "hoverinfo": "text",
         "hovertext": "Name: Zinc<br>Atomic Number: 30",
         "marker": {
          "color": "yellow",
          "line": {
           "color": "black",
           "width": 1
          },
          "size": 40,
          "symbol": "square"
         },
         "mode": "markers+text",
         "text": "Zn",
         "type": "scatter",
         "x": [
          12
         ],
         "y": [
          4
         ]
        },
        {
         "hoverinfo": "text",
         "hovertext": "Name: Gallium<br>Atomic Number: 31",
         "marker": {
          "color": "yellow",
          "line": {
           "color": "black",
           "width": 1
          },
          "size": 40,
          "symbol": "square"
         },
         "mode": "markers+text",
         "text": "Ga",
         "type": "scatter",
         "x": [
          13
         ],
         "y": [
          4
         ]
        },
        {
         "hoverinfo": "text",
         "hovertext": "Name: Germanium<br>Atomic Number: 32",
         "marker": {
          "color": "lightgrey",
          "line": {
           "color": "black",
           "width": 1
          },
          "size": 40,
          "symbol": "square"
         },
         "mode": "markers+text",
         "text": "Ge",
         "type": "scatter",
         "x": [
          14
         ],
         "y": [
          4
         ]
        },
        {
         "hoverinfo": "text",
         "hovertext": "Name: Arsenic<br>Atomic Number: 33",
         "marker": {
          "color": "lightgrey",
          "line": {
           "color": "black",
           "width": 1
          },
          "size": 40,
          "symbol": "square"
         },
         "mode": "markers+text",
         "text": "As",
         "type": "scatter",
         "x": [
          15
         ],
         "y": [
          4
         ]
        },
        {
         "hoverinfo": "text",
         "hovertext": "Name: Selenium<br>Atomic Number: 34",
         "marker": {
          "color": "purple",
          "line": {
           "color": "black",
           "width": 1
          },
          "size": 40,
          "symbol": "square"
         },
         "mode": "markers+text",
         "text": "Se",
         "type": "scatter",
         "x": [
          16
         ],
         "y": [
          4
         ]
        },
        {
         "hoverinfo": "text",
         "hovertext": "Name: Bromine<br>Atomic Number: 35",
         "marker": {
          "color": "purple",
          "line": {
           "color": "black",
           "width": 1
          },
          "size": 40,
          "symbol": "square"
         },
         "mode": "markers+text",
         "text": "Br",
         "type": "scatter",
         "x": [
          17
         ],
         "y": [
          4
         ]
        },
        {
         "hoverinfo": "text",
         "hovertext": "Name: Krypton<br>Atomic Number: 36",
         "marker": {
          "color": "lightgreen",
          "line": {
           "color": "black",
           "width": 1
          },
          "size": 40,
          "symbol": "square"
         },
         "mode": "markers+text",
         "text": "Kr",
         "type": "scatter",
         "x": [
          18
         ],
         "y": [
          4
         ]
        },
        {
         "hoverinfo": "text",
         "hovertext": "Name: Rubidium<br>Atomic Number: 37",
         "marker": {
          "color": "pink",
          "line": {
           "color": "black",
           "width": 1
          },
          "size": 40,
          "symbol": "square"
         },
         "mode": "markers+text",
         "text": "Rb",
         "type": "scatter",
         "x": [
          1
         ],
         "y": [
          5
         ]
        },
        {
         "hoverinfo": "text",
         "hovertext": "Name: Strontium<br>Atomic Number: 38",
         "marker": {
          "color": "orange",
          "line": {
           "color": "black",
           "width": 1
          },
          "size": 40,
          "symbol": "square"
         },
         "mode": "markers+text",
         "text": "Sr",
         "type": "scatter",
         "x": [
          2
         ],
         "y": [
          5
         ]
        },
        {
         "hoverinfo": "text",
         "hovertext": "Name: Yttrium<br>Atomic Number: 39",
         "marker": {
          "color": "yellow",
          "line": {
           "color": "black",
           "width": 1
          },
          "size": 40,
          "symbol": "square"
         },
         "mode": "markers+text",
         "text": "Y",
         "type": "scatter",
         "x": [
          3
         ],
         "y": [
          5
         ]
        },
        {
         "hoverinfo": "text",
         "hovertext": "Name: Zirconium<br>Atomic Number: 40",
         "marker": {
          "color": "yellow",
          "line": {
           "color": "black",
           "width": 1
          },
          "size": 40,
          "symbol": "square"
         },
         "mode": "markers+text",
         "text": "Zr",
         "type": "scatter",
         "x": [
          4
         ],
         "y": [
          5
         ]
        },
        {
         "hoverinfo": "text",
         "hovertext": "Name: Niobium<br>Atomic Number: 41",
         "marker": {
          "color": "yellow",
          "line": {
           "color": "black",
           "width": 1
          },
          "size": 40,
          "symbol": "square"
         },
         "mode": "markers+text",
         "text": "Nb",
         "type": "scatter",
         "x": [
          5
         ],
         "y": [
          5
         ]
        },
        {
         "hoverinfo": "text",
         "hovertext": "Name: Molybdenum<br>Atomic Number: 42",
         "marker": {
          "color": "yellow",
          "line": {
           "color": "black",
           "width": 1
          },
          "size": 40,
          "symbol": "square"
         },
         "mode": "markers+text",
         "text": "Mo",
         "type": "scatter",
         "x": [
          6
         ],
         "y": [
          5
         ]
        },
        {
         "hoverinfo": "text",
         "hovertext": "Name: Technetium<br>Atomic Number: 43",
         "marker": {
          "color": "yellow",
          "line": {
           "color": "black",
           "width": 1
          },
          "size": 40,
          "symbol": "square"
         },
         "mode": "markers+text",
         "text": "Tc",
         "type": "scatter",
         "x": [
          7
         ],
         "y": [
          5
         ]
        },
        {
         "hoverinfo": "text",
         "hovertext": "Name: Ruthenium<br>Atomic Number: 44",
         "marker": {
          "color": "yellow",
          "line": {
           "color": "black",
           "width": 1
          },
          "size": 40,
          "symbol": "square"
         },
         "mode": "markers+text",
         "text": "Ru",
         "type": "scatter",
         "x": [
          8
         ],
         "y": [
          5
         ]
        },
        {
         "hoverinfo": "text",
         "hovertext": "Name: Rhodium<br>Atomic Number: 45",
         "marker": {
          "color": "yellow",
          "line": {
           "color": "black",
           "width": 1
          },
          "size": 40,
          "symbol": "square"
         },
         "mode": "markers+text",
         "text": "Rh",
         "type": "scatter",
         "x": [
          9
         ],
         "y": [
          5
         ]
        },
        {
         "hoverinfo": "text",
         "hovertext": "Name: Palladium<br>Atomic Number: 46",
         "marker": {
          "color": "yellow",
          "line": {
           "color": "black",
           "width": 1
          },
          "size": 40,
          "symbol": "square"
         },
         "mode": "markers+text",
         "text": "Pd",
         "type": "scatter",
         "x": [
          10
         ],
         "y": [
          5
         ]
        },
        {
         "hoverinfo": "text",
         "hovertext": "Name: Silver<br>Atomic Number: 47",
         "marker": {
          "color": "yellow",
          "line": {
           "color": "black",
           "width": 1
          },
          "size": 40,
          "symbol": "square"
         },
         "mode": "markers+text",
         "text": "Ag",
         "type": "scatter",
         "x": [
          11
         ],
         "y": [
          5
         ]
        },
        {
         "hoverinfo": "text",
         "hovertext": "Name: Cadmium<br>Atomic Number: 48",
         "marker": {
          "color": "yellow",
          "line": {
           "color": "black",
           "width": 1
          },
          "size": 40,
          "symbol": "square"
         },
         "mode": "markers+text",
         "text": "Cd",
         "type": "scatter",
         "x": [
          12
         ],
         "y": [
          5
         ]
        },
        {
         "hoverinfo": "text",
         "hovertext": "Name: Indium<br>Atomic Number: 49",
         "marker": {
          "color": "yellow",
          "line": {
           "color": "black",
           "width": 1
          },
          "size": 40,
          "symbol": "square"
         },
         "mode": "markers+text",
         "text": "In",
         "type": "scatter",
         "x": [
          13
         ],
         "y": [
          5
         ]
        },
        {
         "hoverinfo": "text",
         "hovertext": "Name: Tin<br>Atomic Number: 50",
         "marker": {
          "color": "yellow",
          "line": {
           "color": "black",
           "width": 1
          },
          "size": 40,
          "symbol": "square"
         },
         "mode": "markers+text",
         "text": "Sn",
         "type": "scatter",
         "x": [
          14
         ],
         "y": [
          5
         ]
        },
        {
         "hoverinfo": "text",
         "hovertext": "Name: Antimony<br>Atomic Number: 51",
         "marker": {
          "color": "lightgrey",
          "line": {
           "color": "black",
           "width": 1
          },
          "size": 40,
          "symbol": "square"
         },
         "mode": "markers+text",
         "text": "Sb",
         "type": "scatter",
         "x": [
          15
         ],
         "y": [
          5
         ]
        },
        {
         "hoverinfo": "text",
         "hovertext": "Name: Tellurium<br>Atomic Number: 52",
         "marker": {
          "color": "purple",
          "line": {
           "color": "black",
           "width": 1
          },
          "size": 40,
          "symbol": "square"
         },
         "mode": "markers+text",
         "text": "Te",
         "type": "scatter",
         "x": [
          16
         ],
         "y": [
          5
         ]
        },
        {
         "hoverinfo": "text",
         "hovertext": "Name: Iodine<br>Atomic Number: 53",
         "marker": {
          "color": "purple",
          "line": {
           "color": "black",
           "width": 1
          },
          "size": 40,
          "symbol": "square"
         },
         "mode": "markers+text",
         "text": "I",
         "type": "scatter",
         "x": [
          17
         ],
         "y": [
          5
         ]
        },
        {
         "hoverinfo": "text",
         "hovertext": "Name: Xenon<br>Atomic Number: 54",
         "marker": {
          "color": "lightgreen",
          "line": {
           "color": "black",
           "width": 1
          },
          "size": 40,
          "symbol": "square"
         },
         "mode": "markers+text",
         "text": "Xe",
         "type": "scatter",
         "x": [
          18
         ],
         "y": [
          5
         ]
        },
        {
         "hoverinfo": "text",
         "hovertext": "Name: Cesium<br>Atomic Number: 55",
         "marker": {
          "color": "pink",
          "line": {
           "color": "black",
           "width": 1
          },
          "size": 40,
          "symbol": "square"
         },
         "mode": "markers+text",
         "text": "Cs",
         "type": "scatter",
         "x": [
          1
         ],
         "y": [
          6
         ]
        },
        {
         "hoverinfo": "text",
         "hovertext": "Name: Barium<br>Atomic Number: 56",
         "marker": {
          "color": "orange",
          "line": {
           "color": "black",
           "width": 1
          },
          "size": 40,
          "symbol": "square"
         },
         "mode": "markers+text",
         "text": "Ba",
         "type": "scatter",
         "x": [
          2
         ],
         "y": [
          6
         ]
        },
        {
         "hoverinfo": "text",
         "hovertext": "Name: Lanthanum<br>Atomic Number: 57",
         "marker": {
          "color": "lightcoral",
          "line": {
           "color": "black",
           "width": 1
          },
          "size": 40,
          "symbol": "square"
         },
         "mode": "markers+text",
         "text": "La",
         "type": "scatter",
         "x": [
          3
         ],
         "y": [
          9
         ]
        },
        {
         "hoverinfo": "text",
         "hovertext": "Name: Cerium<br>Atomic Number: 58",
         "marker": {
          "color": "lightcoral",
          "line": {
           "color": "black",
           "width": 1
          },
          "size": 40,
          "symbol": "square"
         },
         "mode": "markers+text",
         "text": "Ce",
         "type": "scatter",
         "x": [
          4
         ],
         "y": [
          9
         ]
        },
        {
         "hoverinfo": "text",
         "hovertext": "Name: Praseodymium<br>Atomic Number: 59",
         "marker": {
          "color": "lightcoral",
          "line": {
           "color": "black",
           "width": 1
          },
          "size": 40,
          "symbol": "square"
         },
         "mode": "markers+text",
         "text": "Pr",
         "type": "scatter",
         "x": [
          5
         ],
         "y": [
          9
         ]
        },
        {
         "hoverinfo": "text",
         "hovertext": "Name: Neodymium<br>Atomic Number: 60",
         "marker": {
          "color": "lightcoral",
          "line": {
           "color": "black",
           "width": 1
          },
          "size": 40,
          "symbol": "square"
         },
         "mode": "markers+text",
         "text": "Nd",
         "type": "scatter",
         "x": [
          6
         ],
         "y": [
          9
         ]
        },
        {
         "hoverinfo": "text",
         "hovertext": "Name: Promethium<br>Atomic Number: 61",
         "marker": {
          "color": "lightcoral",
          "line": {
           "color": "black",
           "width": 1
          },
          "size": 40,
          "symbol": "square"
         },
         "mode": "markers+text",
         "text": "Pm",
         "type": "scatter",
         "x": [
          7
         ],
         "y": [
          9
         ]
        },
        {
         "hoverinfo": "text",
         "hovertext": "Name: Samarium<br>Atomic Number: 62",
         "marker": {
          "color": "lightcoral",
          "line": {
           "color": "black",
           "width": 1
          },
          "size": 40,
          "symbol": "square"
         },
         "mode": "markers+text",
         "text": "Sm",
         "type": "scatter",
         "x": [
          8
         ],
         "y": [
          9
         ]
        },
        {
         "hoverinfo": "text",
         "hovertext": "Name: Europium<br>Atomic Number: 63",
         "marker": {
          "color": "lightcoral",
          "line": {
           "color": "black",
           "width": 1
          },
          "size": 40,
          "symbol": "square"
         },
         "mode": "markers+text",
         "text": "Eu",
         "type": "scatter",
         "x": [
          9
         ],
         "y": [
          9
         ]
        },
        {
         "hoverinfo": "text",
         "hovertext": "Name: Gadolinium<br>Atomic Number: 64",
         "marker": {
          "color": "lightcoral",
          "line": {
           "color": "black",
           "width": 1
          },
          "size": 40,
          "symbol": "square"
         },
         "mode": "markers+text",
         "text": "Gd",
         "type": "scatter",
         "x": [
          10
         ],
         "y": [
          9
         ]
        },
        {
         "hoverinfo": "text",
         "hovertext": "Name: Terbium<br>Atomic Number: 65",
         "marker": {
          "color": "lightcoral",
          "line": {
           "color": "black",
           "width": 1
          },
          "size": 40,
          "symbol": "square"
         },
         "mode": "markers+text",
         "text": "Tb",
         "type": "scatter",
         "x": [
          11
         ],
         "y": [
          9
         ]
        },
        {
         "hoverinfo": "text",
         "hovertext": "Name: Dysprosium<br>Atomic Number: 66",
         "marker": {
          "color": "lightcoral",
          "line": {
           "color": "black",
           "width": 1
          },
          "size": 40,
          "symbol": "square"
         },
         "mode": "markers+text",
         "text": "Dy",
         "type": "scatter",
         "x": [
          12
         ],
         "y": [
          9
         ]
        },
        {
         "hoverinfo": "text",
         "hovertext": "Name: Holmium<br>Atomic Number: 67",
         "marker": {
          "color": "lightcoral",
          "line": {
           "color": "black",
           "width": 1
          },
          "size": 40,
          "symbol": "square"
         },
         "mode": "markers+text",
         "text": "Ho",
         "type": "scatter",
         "x": [
          13
         ],
         "y": [
          9
         ]
        },
        {
         "hoverinfo": "text",
         "hovertext": "Name: Erbium<br>Atomic Number: 68",
         "marker": {
          "color": "lightcoral",
          "line": {
           "color": "black",
           "width": 1
          },
          "size": 40,
          "symbol": "square"
         },
         "mode": "markers+text",
         "text": "Er",
         "type": "scatter",
         "x": [
          14
         ],
         "y": [
          9
         ]
        },
        {
         "hoverinfo": "text",
         "hovertext": "Name: Thulium<br>Atomic Number: 69",
         "marker": {
          "color": "lightcoral",
          "line": {
           "color": "black",
           "width": 1
          },
          "size": 40,
          "symbol": "square"
         },
         "mode": "markers+text",
         "text": "Tm",
         "type": "scatter",
         "x": [
          15
         ],
         "y": [
          9
         ]
        },
        {
         "hoverinfo": "text",
         "hovertext": "Name: Ytterbium<br>Atomic Number: 70",
         "marker": {
          "color": "lightcoral",
          "line": {
           "color": "black",
           "width": 1
          },
          "size": 40,
          "symbol": "square"
         },
         "mode": "markers+text",
         "text": "Yb",
         "type": "scatter",
         "x": [
          16
         ],
         "y": [
          9
         ]
        },
        {
         "hoverinfo": "text",
         "hovertext": "Name: Lutetium<br>Atomic Number: 71",
         "marker": {
          "color": "lightcoral",
          "line": {
           "color": "black",
           "width": 1
          },
          "size": 40,
          "symbol": "square"
         },
         "mode": "markers+text",
         "text": "Lu",
         "type": "scatter",
         "x": [
          17
         ],
         "y": [
          9
         ]
        },
        {
         "hoverinfo": "text",
         "hovertext": "Name: Hafnium<br>Atomic Number: 72",
         "marker": {
          "color": "yellow",
          "line": {
           "color": "black",
           "width": 1
          },
          "size": 40,
          "symbol": "square"
         },
         "mode": "markers+text",
         "text": "Hf",
         "type": "scatter",
         "x": [
          4
         ],
         "y": [
          6
         ]
        },
        {
         "hoverinfo": "text",
         "hovertext": "Name: Tantalum<br>Atomic Number: 73",
         "marker": {
          "color": "yellow",
          "line": {
           "color": "black",
           "width": 1
          },
          "size": 40,
          "symbol": "square"
         },
         "mode": "markers+text",
         "text": "Ta",
         "type": "scatter",
         "x": [
          5
         ],
         "y": [
          6
         ]
        },
        {
         "hoverinfo": "text",
         "hovertext": "Name: Tungsten<br>Atomic Number: 74",
         "marker": {
          "color": "yellow",
          "line": {
           "color": "black",
           "width": 1
          },
          "size": 40,
          "symbol": "square"
         },
         "mode": "markers+text",
         "text": "W",
         "type": "scatter",
         "x": [
          6
         ],
         "y": [
          6
         ]
        },
        {
         "hoverinfo": "text",
         "hovertext": "Name: Rhenium<br>Atomic Number: 75",
         "marker": {
          "color": "yellow",
          "line": {
           "color": "black",
           "width": 1
          },
          "size": 40,
          "symbol": "square"
         },
         "mode": "markers+text",
         "text": "Re",
         "type": "scatter",
         "x": [
          7
         ],
         "y": [
          6
         ]
        },
        {
         "hoverinfo": "text",
         "hovertext": "Name: Osmium<br>Atomic Number: 76",
         "marker": {
          "color": "yellow",
          "line": {
           "color": "black",
           "width": 1
          },
          "size": 40,
          "symbol": "square"
         },
         "mode": "markers+text",
         "text": "Os",
         "type": "scatter",
         "x": [
          8
         ],
         "y": [
          6
         ]
        },
        {
         "hoverinfo": "text",
         "hovertext": "Name: Iridium<br>Atomic Number: 77",
         "marker": {
          "color": "yellow",
          "line": {
           "color": "black",
           "width": 1
          },
          "size": 40,
          "symbol": "square"
         },
         "mode": "markers+text",
         "text": "Ir",
         "type": "scatter",
         "x": [
          9
         ],
         "y": [
          6
         ]
        },
        {
         "hoverinfo": "text",
         "hovertext": "Name: Platinum<br>Atomic Number: 78",
         "marker": {
          "color": "yellow",
          "line": {
           "color": "black",
           "width": 1
          },
          "size": 40,
          "symbol": "square"
         },
         "mode": "markers+text",
         "text": "Pt",
         "type": "scatter",
         "x": [
          10
         ],
         "y": [
          6
         ]
        },
        {
         "hoverinfo": "text",
         "hovertext": "Name: Gold<br>Atomic Number: 79",
         "marker": {
          "color": "yellow",
          "line": {
           "color": "black",
           "width": 1
          },
          "size": 40,
          "symbol": "square"
         },
         "mode": "markers+text",
         "text": "Au",
         "type": "scatter",
         "x": [
          11
         ],
         "y": [
          6
         ]
        },
        {
         "hoverinfo": "text",
         "hovertext": "Name: Mercury<br>Atomic Number: 80",
         "marker": {
          "color": "yellow",
          "line": {
           "color": "black",
           "width": 1
          },
          "size": 40,
          "symbol": "square"
         },
         "mode": "markers+text",
         "text": "Hg",
         "type": "scatter",
         "x": [
          12
         ],
         "y": [
          6
         ]
        },
        {
         "hoverinfo": "text",
         "hovertext": "Name: Thallium<br>Atomic Number: 81",
         "marker": {
          "color": "yellow",
          "line": {
           "color": "black",
           "width": 1
          },
          "size": 40,
          "symbol": "square"
         },
         "mode": "markers+text",
         "text": "Tl",
         "type": "scatter",
         "x": [
          13
         ],
         "y": [
          6
         ]
        },
        {
         "hoverinfo": "text",
         "hovertext": "Name: Lead<br>Atomic Number: 82",
         "marker": {
          "color": "yellow",
          "line": {
           "color": "black",
           "width": 1
          },
          "size": 40,
          "symbol": "square"
         },
         "mode": "markers+text",
         "text": "Pb",
         "type": "scatter",
         "x": [
          14
         ],
         "y": [
          6
         ]
        },
        {
         "hoverinfo": "text",
         "hovertext": "Name: Bismuth<br>Atomic Number: 83",
         "marker": {
          "color": "yellow",
          "line": {
           "color": "black",
           "width": 1
          },
          "size": 40,
          "symbol": "square"
         },
         "mode": "markers+text",
         "text": "Bi",
         "type": "scatter",
         "x": [
          15
         ],
         "y": [
          6
         ]
        },
        {
         "hoverinfo": "text",
         "hovertext": "Name: Polonium<br>Atomic Number: 84",
         "marker": {
          "color": "purple",
          "line": {
           "color": "black",
           "width": 1
          },
          "size": 40,
          "symbol": "square"
         },
         "mode": "markers+text",
         "text": "Po",
         "type": "scatter",
         "x": [
          16
         ],
         "y": [
          6
         ]
        },
        {
         "hoverinfo": "text",
         "hovertext": "Name: Astatine<br>Atomic Number: 85",
         "marker": {
          "color": "purple",
          "line": {
           "color": "black",
           "width": 1
          },
          "size": 40,
          "symbol": "square"
         },
         "mode": "markers+text",
         "text": "At",
         "type": "scatter",
         "x": [
          17
         ],
         "y": [
          6
         ]
        },
        {
         "hoverinfo": "text",
         "hovertext": "Name: Radon<br>Atomic Number: 86",
         "marker": {
          "color": "lightgreen",
          "line": {
           "color": "black",
           "width": 1
          },
          "size": 40,
          "symbol": "square"
         },
         "mode": "markers+text",
         "text": "Rn",
         "type": "scatter",
         "x": [
          18
         ],
         "y": [
          6
         ]
        },
        {
         "hoverinfo": "text",
         "hovertext": "Name: Francium<br>Atomic Number: 87",
         "marker": {
          "color": "pink",
          "line": {
           "color": "black",
           "width": 1
          },
          "size": 40,
          "symbol": "square"
         },
         "mode": "markers+text",
         "text": "Fr",
         "type": "scatter",
         "x": [
          1
         ],
         "y": [
          7
         ]
        },
        {
         "hoverinfo": "text",
         "hovertext": "Name: Radium<br>Atomic Number: 88",
         "marker": {
          "color": "orange",
          "line": {
           "color": "black",
           "width": 1
          },
          "size": 40,
          "symbol": "square"
         },
         "mode": "markers+text",
         "text": "Ra",
         "type": "scatter",
         "x": [
          2
         ],
         "y": [
          7
         ]
        },
        {
         "hoverinfo": "text",
         "hovertext": "Name: Actinium<br>Atomic Number: 89",
         "marker": {
          "color": "lightgray",
          "line": {
           "color": "black",
           "width": 1
          },
          "size": 40,
          "symbol": "square"
         },
         "mode": "markers+text",
         "text": "Ac",
         "type": "scatter",
         "x": [
          3
         ],
         "y": [
          10
         ]
        },
        {
         "hoverinfo": "text",
         "hovertext": "Name: Thorium<br>Atomic Number: 90",
         "marker": {
          "color": "lightgray",
          "line": {
           "color": "black",
           "width": 1
          },
          "size": 40,
          "symbol": "square"
         },
         "mode": "markers+text",
         "text": "Th",
         "type": "scatter",
         "x": [
          4
         ],
         "y": [
          10
         ]
        },
        {
         "hoverinfo": "text",
         "hovertext": "Name: Protactinium<br>Atomic Number: 91",
         "marker": {
          "color": "lightgray",
          "line": {
           "color": "black",
           "width": 1
          },
          "size": 40,
          "symbol": "square"
         },
         "mode": "markers+text",
         "text": "Pa",
         "type": "scatter",
         "x": [
          5
         ],
         "y": [
          10
         ]
        },
        {
         "hoverinfo": "text",
         "hovertext": "Name: Uranium<br>Atomic Number: 92",
         "marker": {
          "color": "lightgray",
          "line": {
           "color": "black",
           "width": 1
          },
          "size": 40,
          "symbol": "square"
         },
         "mode": "markers+text",
         "text": "U",
         "type": "scatter",
         "x": [
          6
         ],
         "y": [
          10
         ]
        },
        {
         "hoverinfo": "text",
         "hovertext": "Name: Neptunium<br>Atomic Number: 93",
         "marker": {
          "color": "grey",
          "line": {
           "color": "black",
           "width": 1
          },
          "size": 40,
          "symbol": "square"
         },
         "mode": "markers+text",
         "text": "Np",
         "type": "scatter",
         "x": [
          7
         ],
         "y": [
          10
         ]
        },
        {
         "hoverinfo": "text",
         "hovertext": "Name: Plutonium<br>Atomic Number: 94",
         "marker": {
          "color": "grey",
          "line": {
           "color": "black",
           "width": 1
          },
          "size": 40,
          "symbol": "square"
         },
         "mode": "markers+text",
         "text": "Pu",
         "type": "scatter",
         "x": [
          8
         ],
         "y": [
          10
         ]
        },
        {
         "hoverinfo": "text",
         "hovertext": "Name: Americium<br>Atomic Number: 95",
         "marker": {
          "color": "grey",
          "line": {
           "color": "black",
           "width": 1
          },
          "size": 40,
          "symbol": "square"
         },
         "mode": "markers+text",
         "text": "Am",
         "type": "scatter",
         "x": [
          9
         ],
         "y": [
          10
         ]
        },
        {
         "hoverinfo": "text",
         "hovertext": "Name: Curium<br>Atomic Number: 96",
         "marker": {
          "color": "grey",
          "line": {
           "color": "black",
           "width": 1
          },
          "size": 40,
          "symbol": "square"
         },
         "mode": "markers+text",
         "text": "Cm",
         "type": "scatter",
         "x": [
          10
         ],
         "y": [
          10
         ]
        },
        {
         "hoverinfo": "text",
         "hovertext": "Name: Berkelium<br>Atomic Number: 97",
         "marker": {
          "color": "grey",
          "line": {
           "color": "black",
           "width": 1
          },
          "size": 40,
          "symbol": "square"
         },
         "mode": "markers+text",
         "text": "Bk",
         "type": "scatter",
         "x": [
          11
         ],
         "y": [
          10
         ]
        },
        {
         "hoverinfo": "text",
         "hovertext": "Name: Californium<br>Atomic Number: 98",
         "marker": {
          "color": "grey",
          "line": {
           "color": "black",
           "width": 1
          },
          "size": 40,
          "symbol": "square"
         },
         "mode": "markers+text",
         "text": "Cf",
         "type": "scatter",
         "x": [
          12
         ],
         "y": [
          10
         ]
        },
        {
         "hoverinfo": "text",
         "hovertext": "Name: Einsteinium<br>Atomic Number: 99",
         "marker": {
          "color": "grey",
          "line": {
           "color": "black",
           "width": 1
          },
          "size": 40,
          "symbol": "square"
         },
         "mode": "markers+text",
         "text": "Es",
         "type": "scatter",
         "x": [
          13
         ],
         "y": [
          10
         ]
        },
        {
         "hoverinfo": "text",
         "hovertext": "Name: Fermium<br>Atomic Number: 100",
         "marker": {
          "color": "grey",
          "line": {
           "color": "black",
           "width": 1
          },
          "size": 40,
          "symbol": "square"
         },
         "mode": "markers+text",
         "text": "Fm",
         "type": "scatter",
         "x": [
          14
         ],
         "y": [
          10
         ]
        },
        {
         "hoverinfo": "text",
         "hovertext": "Name: Mendelevium<br>Atomic Number: 101",
         "marker": {
          "color": "grey",
          "line": {
           "color": "black",
           "width": 1
          },
          "size": 40,
          "symbol": "square"
         },
         "mode": "markers+text",
         "text": "Md",
         "type": "scatter",
         "x": [
          15
         ],
         "y": [
          10
         ]
        },
        {
         "hoverinfo": "text",
         "hovertext": "Name: Nobelium<br>Atomic Number: 102",
         "marker": {
          "color": "grey",
          "line": {
           "color": "black",
           "width": 1
          },
          "size": 40,
          "symbol": "square"
         },
         "mode": "markers+text",
         "text": "No",
         "type": "scatter",
         "x": [
          16
         ],
         "y": [
          10
         ]
        },
        {
         "hoverinfo": "text",
         "hovertext": "Name: Lawrencium<br>Atomic Number: 103",
         "marker": {
          "color": "grey",
          "line": {
           "color": "black",
           "width": 1
          },
          "size": 40,
          "symbol": "square"
         },
         "mode": "markers+text",
         "text": "Lr",
         "type": "scatter",
         "x": [
          17
         ],
         "y": [
          10
         ]
        },
        {
         "hoverinfo": "text",
         "hovertext": "Name: Rutherfordium<br>Atomic Number: 104",
         "marker": {
          "color": "grey",
          "line": {
           "color": "black",
           "width": 1
          },
          "size": 40,
          "symbol": "square"
         },
         "mode": "markers+text",
         "text": "Rf",
         "type": "scatter",
         "x": [
          4
         ],
         "y": [
          7
         ]
        },
        {
         "hoverinfo": "text",
         "hovertext": "Name: Dubnium<br>Atomic Number: 105",
         "marker": {
          "color": "grey",
          "line": {
           "color": "black",
           "width": 1
          },
          "size": 40,
          "symbol": "square"
         },
         "mode": "markers+text",
         "text": "Db",
         "type": "scatter",
         "x": [
          5
         ],
         "y": [
          7
         ]
        },
        {
         "hoverinfo": "text",
         "hovertext": "Name: Seaborgium<br>Atomic Number: 106",
         "marker": {
          "color": "grey",
          "line": {
           "color": "black",
           "width": 1
          },
          "size": 40,
          "symbol": "square"
         },
         "mode": "markers+text",
         "text": "Sg",
         "type": "scatter",
         "x": [
          6
         ],
         "y": [
          7
         ]
        },
        {
         "hoverinfo": "text",
         "hovertext": "Name: Bohrium<br>Atomic Number: 107",
         "marker": {
          "color": "grey",
          "line": {
           "color": "black",
           "width": 1
          },
          "size": 40,
          "symbol": "square"
         },
         "mode": "markers+text",
         "text": "Bh",
         "type": "scatter",
         "x": [
          7
         ],
         "y": [
          7
         ]
        },
        {
         "hoverinfo": "text",
         "hovertext": "Name: Hassium<br>Atomic Number: 108",
         "marker": {
          "color": "grey",
          "line": {
           "color": "black",
           "width": 1
          },
          "size": 40,
          "symbol": "square"
         },
         "mode": "markers+text",
         "text": "Hs",
         "type": "scatter",
         "x": [
          8
         ],
         "y": [
          7
         ]
        },
        {
         "hoverinfo": "text",
         "hovertext": "Name: Meitnerium<br>Atomic Number: 109",
         "marker": {
          "color": "grey",
          "line": {
           "color": "black",
           "width": 1
          },
          "size": 40,
          "symbol": "square"
         },
         "mode": "markers+text",
         "text": "Mt",
         "type": "scatter",
         "x": [
          9
         ],
         "y": [
          7
         ]
        },
        {
         "hoverinfo": "text",
         "hovertext": "Name: Darmstadtium<br>Atomic Number: 110",
         "marker": {
          "color": "grey",
          "line": {
           "color": "black",
           "width": 1
          },
          "size": 40,
          "symbol": "square"
         },
         "mode": "markers+text",
         "text": "Ds",
         "type": "scatter",
         "x": [
          10
         ],
         "y": [
          7
         ]
        },
        {
         "hoverinfo": "text",
         "hovertext": "Name: Roentgenium<br>Atomic Number: 111",
         "marker": {
          "color": "grey",
          "line": {
           "color": "black",
           "width": 1
          },
          "size": 40,
          "symbol": "square"
         },
         "mode": "markers+text",
         "text": "Rg",
         "type": "scatter",
         "x": [
          11
         ],
         "y": [
          7
         ]
        },
        {
         "hoverinfo": "text",
         "hovertext": "Name: Copernicium<br>Atomic Number: 112",
         "marker": {
          "color": "grey",
          "line": {
           "color": "black",
           "width": 1
          },
          "size": 40,
          "symbol": "square"
         },
         "mode": "markers+text",
         "text": "Cn",
         "type": "scatter",
         "x": [
          12
         ],
         "y": [
          7
         ]
        },
        {
         "hoverinfo": "text",
         "hovertext": "Name: Nihonium<br>Atomic Number: 113",
         "marker": {
          "color": "grey",
          "line": {
           "color": "black",
           "width": 1
          },
          "size": 40,
          "symbol": "square"
         },
         "mode": "markers+text",
         "text": "Nh",
         "type": "scatter",
         "x": [
          13
         ],
         "y": [
          7
         ]
        },
        {
         "hoverinfo": "text",
         "hovertext": "Name: Flerovium<br>Atomic Number: 114",
         "marker": {
          "color": "grey",
          "line": {
           "color": "black",
           "width": 1
          },
          "size": 40,
          "symbol": "square"
         },
         "mode": "markers+text",
         "text": "Fl",
         "type": "scatter",
         "x": [
          14
         ],
         "y": [
          7
         ]
        },
        {
         "hoverinfo": "text",
         "hovertext": "Name: Moscovium<br>Atomic Number: 115",
         "marker": {
          "color": "grey",
          "line": {
           "color": "black",
           "width": 1
          },
          "size": 40,
          "symbol": "square"
         },
         "mode": "markers+text",
         "text": "Mc",
         "type": "scatter",
         "x": [
          15
         ],
         "y": [
          7
         ]
        },
        {
         "hoverinfo": "text",
         "hovertext": "Name: Livermorium<br>Atomic Number: 116",
         "marker": {
          "color": "grey",
          "line": {
           "color": "black",
           "width": 1
          },
          "size": 40,
          "symbol": "square"
         },
         "mode": "markers+text",
         "text": "Lv",
         "type": "scatter",
         "x": [
          16
         ],
         "y": [
          7
         ]
        },
        {
         "hoverinfo": "text",
         "hovertext": "Name: Tennessine<br>Atomic Number: 117",
         "marker": {
          "color": "grey",
          "line": {
           "color": "black",
           "width": 1
          },
          "size": 40,
          "symbol": "square"
         },
         "mode": "markers+text",
         "text": "Ts",
         "type": "scatter",
         "x": [
          17
         ],
         "y": [
          7
         ]
        },
        {
         "hoverinfo": "text",
         "hovertext": "Name: Oganesson<br>Atomic Number: 118",
         "marker": {
          "color": "grey",
          "line": {
           "color": "black",
           "width": 1
          },
          "size": 40,
          "symbol": "square"
         },
         "mode": "markers+text",
         "text": "Og",
         "type": "scatter",
         "x": [
          18
         ],
         "y": [
          7
         ]
        }
       ],
       "layout": {
        "height": 800,
        "plot_bgcolor": "white",
        "showlegend": false,
        "template": {
         "data": {
          "bar": [
           {
            "error_x": {
             "color": "#2a3f5f"
            },
            "error_y": {
             "color": "#2a3f5f"
            },
            "marker": {
             "line": {
              "color": "#E5ECF6",
              "width": 0.5
             },
             "pattern": {
              "fillmode": "overlay",
              "size": 10,
              "solidity": 0.2
             }
            },
            "type": "bar"
           }
          ],
          "barpolar": [
           {
            "marker": {
             "line": {
              "color": "#E5ECF6",
              "width": 0.5
             },
             "pattern": {
              "fillmode": "overlay",
              "size": 10,
              "solidity": 0.2
             }
            },
            "type": "barpolar"
           }
          ],
          "carpet": [
           {
            "aaxis": {
             "endlinecolor": "#2a3f5f",
             "gridcolor": "white",
             "linecolor": "white",
             "minorgridcolor": "white",
             "startlinecolor": "#2a3f5f"
            },
            "baxis": {
             "endlinecolor": "#2a3f5f",
             "gridcolor": "white",
             "linecolor": "white",
             "minorgridcolor": "white",
             "startlinecolor": "#2a3f5f"
            },
            "type": "carpet"
           }
          ],
          "choropleth": [
           {
            "colorbar": {
             "outlinewidth": 0,
             "ticks": ""
            },
            "type": "choropleth"
           }
          ],
          "contour": [
           {
            "colorbar": {
             "outlinewidth": 0,
             "ticks": ""
            },
            "colorscale": [
             [
              0,
              "#0d0887"
             ],
             [
              0.1111111111111111,
              "#46039f"
             ],
             [
              0.2222222222222222,
              "#7201a8"
             ],
             [
              0.3333333333333333,
              "#9c179e"
             ],
             [
              0.4444444444444444,
              "#bd3786"
             ],
             [
              0.5555555555555556,
              "#d8576b"
             ],
             [
              0.6666666666666666,
              "#ed7953"
             ],
             [
              0.7777777777777778,
              "#fb9f3a"
             ],
             [
              0.8888888888888888,
              "#fdca26"
             ],
             [
              1,
              "#f0f921"
             ]
            ],
            "type": "contour"
           }
          ],
          "contourcarpet": [
           {
            "colorbar": {
             "outlinewidth": 0,
             "ticks": ""
            },
            "type": "contourcarpet"
           }
          ],
          "heatmap": [
           {
            "colorbar": {
             "outlinewidth": 0,
             "ticks": ""
            },
            "colorscale": [
             [
              0,
              "#0d0887"
             ],
             [
              0.1111111111111111,
              "#46039f"
             ],
             [
              0.2222222222222222,
              "#7201a8"
             ],
             [
              0.3333333333333333,
              "#9c179e"
             ],
             [
              0.4444444444444444,
              "#bd3786"
             ],
             [
              0.5555555555555556,
              "#d8576b"
             ],
             [
              0.6666666666666666,
              "#ed7953"
             ],
             [
              0.7777777777777778,
              "#fb9f3a"
             ],
             [
              0.8888888888888888,
              "#fdca26"
             ],
             [
              1,
              "#f0f921"
             ]
            ],
            "type": "heatmap"
           }
          ],
          "heatmapgl": [
           {
            "colorbar": {
             "outlinewidth": 0,
             "ticks": ""
            },
            "colorscale": [
             [
              0,
              "#0d0887"
             ],
             [
              0.1111111111111111,
              "#46039f"
             ],
             [
              0.2222222222222222,
              "#7201a8"
             ],
             [
              0.3333333333333333,
              "#9c179e"
             ],
             [
              0.4444444444444444,
              "#bd3786"
             ],
             [
              0.5555555555555556,
              "#d8576b"
             ],
             [
              0.6666666666666666,
              "#ed7953"
             ],
             [
              0.7777777777777778,
              "#fb9f3a"
             ],
             [
              0.8888888888888888,
              "#fdca26"
             ],
             [
              1,
              "#f0f921"
             ]
            ],
            "type": "heatmapgl"
           }
          ],
          "histogram": [
           {
            "marker": {
             "pattern": {
              "fillmode": "overlay",
              "size": 10,
              "solidity": 0.2
             }
            },
            "type": "histogram"
           }
          ],
          "histogram2d": [
           {
            "colorbar": {
             "outlinewidth": 0,
             "ticks": ""
            },
            "colorscale": [
             [
              0,
              "#0d0887"
             ],
             [
              0.1111111111111111,
              "#46039f"
             ],
             [
              0.2222222222222222,
              "#7201a8"
             ],
             [
              0.3333333333333333,
              "#9c179e"
             ],
             [
              0.4444444444444444,
              "#bd3786"
             ],
             [
              0.5555555555555556,
              "#d8576b"
             ],
             [
              0.6666666666666666,
              "#ed7953"
             ],
             [
              0.7777777777777778,
              "#fb9f3a"
             ],
             [
              0.8888888888888888,
              "#fdca26"
             ],
             [
              1,
              "#f0f921"
             ]
            ],
            "type": "histogram2d"
           }
          ],
          "histogram2dcontour": [
           {
            "colorbar": {
             "outlinewidth": 0,
             "ticks": ""
            },
            "colorscale": [
             [
              0,
              "#0d0887"
             ],
             [
              0.1111111111111111,
              "#46039f"
             ],
             [
              0.2222222222222222,
              "#7201a8"
             ],
             [
              0.3333333333333333,
              "#9c179e"
             ],
             [
              0.4444444444444444,
              "#bd3786"
             ],
             [
              0.5555555555555556,
              "#d8576b"
             ],
             [
              0.6666666666666666,
              "#ed7953"
             ],
             [
              0.7777777777777778,
              "#fb9f3a"
             ],
             [
              0.8888888888888888,
              "#fdca26"
             ],
             [
              1,
              "#f0f921"
             ]
            ],
            "type": "histogram2dcontour"
           }
          ],
          "mesh3d": [
           {
            "colorbar": {
             "outlinewidth": 0,
             "ticks": ""
            },
            "type": "mesh3d"
           }
          ],
          "parcoords": [
           {
            "line": {
             "colorbar": {
              "outlinewidth": 0,
              "ticks": ""
             }
            },
            "type": "parcoords"
           }
          ],
          "pie": [
           {
            "automargin": true,
            "type": "pie"
           }
          ],
          "scatter": [
           {
            "fillpattern": {
             "fillmode": "overlay",
             "size": 10,
             "solidity": 0.2
            },
            "type": "scatter"
           }
          ],
          "scatter3d": [
           {
            "line": {
             "colorbar": {
              "outlinewidth": 0,
              "ticks": ""
             }
            },
            "marker": {
             "colorbar": {
              "outlinewidth": 0,
              "ticks": ""
             }
            },
            "type": "scatter3d"
           }
          ],
          "scattercarpet": [
           {
            "marker": {
             "colorbar": {
              "outlinewidth": 0,
              "ticks": ""
             }
            },
            "type": "scattercarpet"
           }
          ],
          "scattergeo": [
           {
            "marker": {
             "colorbar": {
              "outlinewidth": 0,
              "ticks": ""
             }
            },
            "type": "scattergeo"
           }
          ],
          "scattergl": [
           {
            "marker": {
             "colorbar": {
              "outlinewidth": 0,
              "ticks": ""
             }
            },
            "type": "scattergl"
           }
          ],
          "scattermapbox": [
           {
            "marker": {
             "colorbar": {
              "outlinewidth": 0,
              "ticks": ""
             }
            },
            "type": "scattermapbox"
           }
          ],
          "scatterpolar": [
           {
            "marker": {
             "colorbar": {
              "outlinewidth": 0,
              "ticks": ""
             }
            },
            "type": "scatterpolar"
           }
          ],
          "scatterpolargl": [
           {
            "marker": {
             "colorbar": {
              "outlinewidth": 0,
              "ticks": ""
             }
            },
            "type": "scatterpolargl"
           }
          ],
          "scatterternary": [
           {
            "marker": {
             "colorbar": {
              "outlinewidth": 0,
              "ticks": ""
             }
            },
            "type": "scatterternary"
           }
          ],
          "surface": [
           {
            "colorbar": {
             "outlinewidth": 0,
             "ticks": ""
            },
            "colorscale": [
             [
              0,
              "#0d0887"
             ],
             [
              0.1111111111111111,
              "#46039f"
             ],
             [
              0.2222222222222222,
              "#7201a8"
             ],
             [
              0.3333333333333333,
              "#9c179e"
             ],
             [
              0.4444444444444444,
              "#bd3786"
             ],
             [
              0.5555555555555556,
              "#d8576b"
             ],
             [
              0.6666666666666666,
              "#ed7953"
             ],
             [
              0.7777777777777778,
              "#fb9f3a"
             ],
             [
              0.8888888888888888,
              "#fdca26"
             ],
             [
              1,
              "#f0f921"
             ]
            ],
            "type": "surface"
           }
          ],
          "table": [
           {
            "cells": {
             "fill": {
              "color": "#EBF0F8"
             },
             "line": {
              "color": "white"
             }
            },
            "header": {
             "fill": {
              "color": "#C8D4E3"
             },
             "line": {
              "color": "white"
             }
            },
            "type": "table"
           }
          ]
         },
         "layout": {
          "annotationdefaults": {
           "arrowcolor": "#2a3f5f",
           "arrowhead": 0,
           "arrowwidth": 1
          },
          "autotypenumbers": "strict",
          "coloraxis": {
           "colorbar": {
            "outlinewidth": 0,
            "ticks": ""
           }
          },
          "colorscale": {
           "diverging": [
            [
             0,
             "#8e0152"
            ],
            [
             0.1,
             "#c51b7d"
            ],
            [
             0.2,
             "#de77ae"
            ],
            [
             0.3,
             "#f1b6da"
            ],
            [
             0.4,
             "#fde0ef"
            ],
            [
             0.5,
             "#f7f7f7"
            ],
            [
             0.6,
             "#e6f5d0"
            ],
            [
             0.7,
             "#b8e186"
            ],
            [
             0.8,
             "#7fbc41"
            ],
            [
             0.9,
             "#4d9221"
            ],
            [
             1,
             "#276419"
            ]
           ],
           "sequential": [
            [
             0,
             "#0d0887"
            ],
            [
             0.1111111111111111,
             "#46039f"
            ],
            [
             0.2222222222222222,
             "#7201a8"
            ],
            [
             0.3333333333333333,
             "#9c179e"
            ],
            [
             0.4444444444444444,
             "#bd3786"
            ],
            [
             0.5555555555555556,
             "#d8576b"
            ],
            [
             0.6666666666666666,
             "#ed7953"
            ],
            [
             0.7777777777777778,
             "#fb9f3a"
            ],
            [
             0.8888888888888888,
             "#fdca26"
            ],
            [
             1,
             "#f0f921"
            ]
           ],
           "sequentialminus": [
            [
             0,
             "#0d0887"
            ],
            [
             0.1111111111111111,
             "#46039f"
            ],
            [
             0.2222222222222222,
             "#7201a8"
            ],
            [
             0.3333333333333333,
             "#9c179e"
            ],
            [
             0.4444444444444444,
             "#bd3786"
            ],
            [
             0.5555555555555556,
             "#d8576b"
            ],
            [
             0.6666666666666666,
             "#ed7953"
            ],
            [
             0.7777777777777778,
             "#fb9f3a"
            ],
            [
             0.8888888888888888,
             "#fdca26"
            ],
            [
             1,
             "#f0f921"
            ]
           ]
          },
          "colorway": [
           "#636efa",
           "#EF553B",
           "#00cc96",
           "#ab63fa",
           "#FFA15A",
           "#19d3f3",
           "#FF6692",
           "#B6E880",
           "#FF97FF",
           "#FECB52"
          ],
          "font": {
           "color": "#2a3f5f"
          },
          "geo": {
           "bgcolor": "white",
           "lakecolor": "white",
           "landcolor": "#E5ECF6",
           "showlakes": true,
           "showland": true,
           "subunitcolor": "white"
          },
          "hoverlabel": {
           "align": "left"
          },
          "hovermode": "closest",
          "mapbox": {
           "style": "light"
          },
          "paper_bgcolor": "white",
          "plot_bgcolor": "#E5ECF6",
          "polar": {
           "angularaxis": {
            "gridcolor": "white",
            "linecolor": "white",
            "ticks": ""
           },
           "bgcolor": "#E5ECF6",
           "radialaxis": {
            "gridcolor": "white",
            "linecolor": "white",
            "ticks": ""
           }
          },
          "scene": {
           "xaxis": {
            "backgroundcolor": "#E5ECF6",
            "gridcolor": "white",
            "gridwidth": 2,
            "linecolor": "white",
            "showbackground": true,
            "ticks": "",
            "zerolinecolor": "white"
           },
           "yaxis": {
            "backgroundcolor": "#E5ECF6",
            "gridcolor": "white",
            "gridwidth": 2,
            "linecolor": "white",
            "showbackground": true,
            "ticks": "",
            "zerolinecolor": "white"
           },
           "zaxis": {
            "backgroundcolor": "#E5ECF6",
            "gridcolor": "white",
            "gridwidth": 2,
            "linecolor": "white",
            "showbackground": true,
            "ticks": "",
            "zerolinecolor": "white"
           }
          },
          "shapedefaults": {
           "line": {
            "color": "#2a3f5f"
           }
          },
          "ternary": {
           "aaxis": {
            "gridcolor": "white",
            "linecolor": "white",
            "ticks": ""
           },
           "baxis": {
            "gridcolor": "white",
            "linecolor": "white",
            "ticks": ""
           },
           "bgcolor": "#E5ECF6",
           "caxis": {
            "gridcolor": "white",
            "linecolor": "white",
            "ticks": ""
           }
          },
          "title": {
           "x": 0.05
          },
          "xaxis": {
           "automargin": true,
           "gridcolor": "white",
           "linecolor": "white",
           "ticks": "",
           "title": {
            "standoff": 15
           },
           "zerolinecolor": "white",
           "zerolinewidth": 2
          },
          "yaxis": {
           "automargin": true,
           "gridcolor": "white",
           "linecolor": "white",
           "ticks": "",
           "title": {
            "standoff": 15
           },
           "zerolinecolor": "white",
           "zerolinewidth": 2
          }
         }
        },
        "title": {
         "text": "Interactive Periodic Table"
        },
        "width": 1200,
        "xaxis": {
         "autorange": true,
         "dtick": 1,
         "range": [
          -0.47742663656884865,
          19.47742663656885
         ],
         "title": {
          "text": "Group"
         },
         "type": "linear"
        },
        "yaxis": {
         "autorange": true,
         "dtick": 1,
         "range": [
          10.992125984251969,
          0.007874015748031482
         ],
         "title": {
          "text": "Period"
         },
         "type": "linear"
        }
       }
      },
      "image/png": "[encoded data removed]",
      "text/html": [
       "<div>                            <div id=\"5f246db9-998a-4374-9339-b0a5bacfa9cc\" class=\"plotly-graph-div\" style=\"height:800px; width:1200px;\"></div>            <script type=\"text/javascript\">                require([\"plotly\"], function(Plotly) {                    window.PLOTLYENV=window.PLOTLYENV || {};                                    if (document.getElementById(\"5f246db9-998a-4374-9339-b0a5bacfa9cc\")) {                    Plotly.newPlot(                        \"5f246db9-998a-4374-9339-b0a5bacfa9cc\",                        [{\"hoverinfo\":\"text\",\"hovertext\":\"Name: Hydrogen\\u003cbr\\u003eAtomic Number: 1\",\"marker\":{\"color\":\"lightgrey\",\"line\":{\"color\":\"black\",\"width\":1},\"size\":40,\"symbol\":\"square\"},\"mode\":\"markers+text\",\"text\":\"H\",\"x\":[1],\"y\":[1],\"type\":\"scatter\"},{\"hoverinfo\":\"text\",\"hovertext\":\"Name: Deuterium\\u003cbr\\u003eAtomic Number: 1\",\"marker\":{\"color\":\"lightgrey\",\"line\":{\"color\":\"black\",\"width\":1},\"size\":40,\"symbol\":\"square\"},\"mode\":\"markers+text\",\"text\":\"H\",\"x\":[1],\"y\":[1],\"type\":\"scatter\"},{\"hoverinfo\":\"text\",\"hovertext\":\"Name: Tritium\\u003cbr\\u003eAtomic Number: 1\",\"marker\":{\"color\":\"lightgrey\",\"line\":{\"color\":\"black\",\"width\":1},\"size\":40,\"symbol\":\"square\"},\"mode\":\"markers+text\",\"text\":\"H\",\"x\":[1],\"y\":[1],\"type\":\"scatter\"},{\"hoverinfo\":\"text\",\"hovertext\":\"Name: Helium\\u003cbr\\u003eAtomic Number: 2\",\"marker\":{\"color\":\"lightgreen\",\"line\":{\"color\":\"black\",\"width\":1},\"size\":40,\"symbol\":\"square\"},\"mode\":\"markers+text\",\"text\":\"He\",\"x\":[18],\"y\":[1],\"type\":\"scatter\"},{\"hoverinfo\":\"text\",\"hovertext\":\"Name: Lithium\\u003cbr\\u003eAtomic Number: 3\",\"marker\":{\"color\":\"pink\",\"line\":{\"color\":\"black\",\"width\":1},\"size\":40,\"symbol\":\"square\"},\"mode\":\"markers+text\",\"text\":\"Li\",\"x\":[1],\"y\":[2],\"type\":\"scatter\"},{\"hoverinfo\":\"text\",\"hovertext\":\"Name: Beryllium\\u003cbr\\u003eAtomic Number: 4\",\"marker\":{\"color\":\"orange\",\"line\":{\"color\":\"black\",\"width\":1},\"size\":40,\"symbol\":\"square\"},\"mode\":\"markers+text\",\"text\":\"Be\",\"x\":[2],\"y\":[2],\"type\":\"scatter\"},{\"hoverinfo\":\"text\",\"hovertext\":\"Name: Boron\\u003cbr\\u003eAtomic Number: 5\",\"marker\":{\"color\":\"lightgrey\",\"line\":{\"color\":\"black\",\"width\":1},\"size\":40,\"symbol\":\"square\"},\"mode\":\"markers+text\",\"text\":\"B\",\"x\":[13],\"y\":[2],\"type\":\"scatter\"},{\"hoverinfo\":\"text\",\"hovertext\":\"Name: Carbon\\u003cbr\\u003eAtomic Number: 6\",\"marker\":{\"color\":\"lightgrey\",\"line\":{\"color\":\"black\",\"width\":1},\"size\":40,\"symbol\":\"square\"},\"mode\":\"markers+text\",\"text\":\"C\",\"x\":[14],\"y\":[2],\"type\":\"scatter\"},{\"hoverinfo\":\"text\",\"hovertext\":\"Name: Nitrogen\\u003cbr\\u003eAtomic Number: 7\",\"marker\":{\"color\":\"lightgrey\",\"line\":{\"color\":\"black\",\"width\":1},\"size\":40,\"symbol\":\"square\"},\"mode\":\"markers+text\",\"text\":\"N\",\"x\":[15],\"y\":[2],\"type\":\"scatter\"},{\"hoverinfo\":\"text\",\"hovertext\":\"Name: Oxygen\\u003cbr\\u003eAtomic Number: 8\",\"marker\":{\"color\":\"purple\",\"line\":{\"color\":\"black\",\"width\":1},\"size\":40,\"symbol\":\"square\"},\"mode\":\"markers+text\",\"text\":\"O\",\"x\":[16],\"y\":[2],\"type\":\"scatter\"},{\"hoverinfo\":\"text\",\"hovertext\":\"Name: Fluorine\\u003cbr\\u003eAtomic Number: 9\",\"marker\":{\"color\":\"purple\",\"line\":{\"color\":\"black\",\"width\":1},\"size\":40,\"symbol\":\"square\"},\"mode\":\"markers+text\",\"text\":\"F\",\"x\":[17],\"y\":[2],\"type\":\"scatter\"},{\"hoverinfo\":\"text\",\"hovertext\":\"Name: Neon\\u003cbr\\u003eAtomic Number: 10\",\"marker\":{\"color\":\"lightgreen\",\"line\":{\"color\":\"black\",\"width\":1},\"size\":40,\"symbol\":\"square\"},\"mode\":\"markers+text\",\"text\":\"Ne\",\"x\":[18],\"y\":[2],\"type\":\"scatter\"},{\"hoverinfo\":\"text\",\"hovertext\":\"Name: Sodium\\u003cbr\\u003eAtomic Number: 11\",\"marker\":{\"color\":\"pink\",\"line\":{\"color\":\"black\",\"width\":1},\"size\":40,\"symbol\":\"square\"},\"mode\":\"markers+text\",\"text\":\"Na\",\"x\":[1],\"y\":[3],\"type\":\"scatter\"},{\"hoverinfo\":\"text\",\"hovertext\":\"Name: Magnesium\\u003cbr\\u003eAtomic Number: 12\",\"marker\":{\"color\":\"orange\",\"line\":{\"color\":\"black\",\"width\":1},\"size\":40,\"symbol\":\"square\"},\"mode\":\"markers+text\",\"text\":\"Mg\",\"x\":[2],\"y\":[3],\"type\":\"scatter\"},{\"hoverinfo\":\"text\",\"hovertext\":\"Name: Aluminum\\u003cbr\\u003eAtomic Number: 13\",\"marker\":{\"color\":\"yellow\",\"line\":{\"color\":\"black\",\"width\":1},\"size\":40,\"symbol\":\"square\"},\"mode\":\"markers+text\",\"text\":\"Al\",\"x\":[13],\"y\":[3],\"type\":\"scatter\"},{\"hoverinfo\":\"text\",\"hovertext\":\"Name: Silicon\\u003cbr\\u003eAtomic Number: 14\",\"marker\":{\"color\":\"lightgrey\",\"line\":{\"color\":\"black\",\"width\":1},\"size\":40,\"symbol\":\"square\"},\"mode\":\"markers+text\",\"text\":\"Si\",\"x\":[14],\"y\":[3],\"type\":\"scatter\"},{\"hoverinfo\":\"text\",\"hovertext\":\"Name: Phosphorus\\u003cbr\\u003eAtomic Number: 15\",\"marker\":{\"color\":\"lightgrey\",\"line\":{\"color\":\"black\",\"width\":1},\"size\":40,\"symbol\":\"square\"},\"mode\":\"markers+text\",\"text\":\"P\",\"x\":[15],\"y\":[3],\"type\":\"scatter\"},{\"hoverinfo\":\"text\",\"hovertext\":\"Name: Sulfur\\u003cbr\\u003eAtomic Number: 16\",\"marker\":{\"color\":\"purple\",\"line\":{\"color\":\"black\",\"width\":1},\"size\":40,\"symbol\":\"square\"},\"mode\":\"markers+text\",\"text\":\"S\",\"x\":[16],\"y\":[3],\"type\":\"scatter\"},{\"hoverinfo\":\"text\",\"hovertext\":\"Name: Chlorine\\u003cbr\\u003eAtomic Number: 17\",\"marker\":{\"color\":\"purple\",\"line\":{\"color\":\"black\",\"width\":1},\"size\":40,\"symbol\":\"square\"},\"mode\":\"markers+text\",\"text\":\"Cl\",\"x\":[17],\"y\":[3],\"type\":\"scatter\"},{\"hoverinfo\":\"text\",\"hovertext\":\"Name: Argon\\u003cbr\\u003eAtomic Number: 18\",\"marker\":{\"color\":\"lightgreen\",\"line\":{\"color\":\"black\",\"width\":1},\"size\":40,\"symbol\":\"square\"},\"mode\":\"markers+text\",\"text\":\"Ar\",\"x\":[18],\"y\":[3],\"type\":\"scatter\"},{\"hoverinfo\":\"text\",\"hovertext\":\"Name: Potassium\\u003cbr\\u003eAtomic Number: 19\",\"marker\":{\"color\":\"pink\",\"line\":{\"color\":\"black\",\"width\":1},\"size\":40,\"symbol\":\"square\"},\"mode\":\"markers+text\",\"text\":\"K\",\"x\":[1],\"y\":[4],\"type\":\"scatter\"},{\"hoverinfo\":\"text\",\"hovertext\":\"Name: Calcium\\u003cbr\\u003eAtomic Number: 20\",\"marker\":{\"color\":\"orange\",\"line\":{\"color\":\"black\",\"width\":1},\"size\":40,\"symbol\":\"square\"},\"mode\":\"markers+text\",\"text\":\"Ca\",\"x\":[2],\"y\":[4],\"type\":\"scatter\"},{\"hoverinfo\":\"text\",\"hovertext\":\"Name: Scandium\\u003cbr\\u003eAtomic Number: 21\",\"marker\":{\"color\":\"yellow\",\"line\":{\"color\":\"black\",\"width\":1},\"size\":40,\"symbol\":\"square\"},\"mode\":\"markers+text\",\"text\":\"Sc\",\"x\":[3],\"y\":[4],\"type\":\"scatter\"},{\"hoverinfo\":\"text\",\"hovertext\":\"Name: Titanium\\u003cbr\\u003eAtomic Number: 22\",\"marker\":{\"color\":\"yellow\",\"line\":{\"color\":\"black\",\"width\":1},\"size\":40,\"symbol\":\"square\"},\"mode\":\"markers+text\",\"text\":\"Ti\",\"x\":[4],\"y\":[4],\"type\":\"scatter\"},{\"hoverinfo\":\"text\",\"hovertext\":\"Name: Vanadium\\u003cbr\\u003eAtomic Number: 23\",\"marker\":{\"color\":\"yellow\",\"line\":{\"color\":\"black\",\"width\":1},\"size\":40,\"symbol\":\"square\"},\"mode\":\"markers+text\",\"text\":\"V\",\"x\":[5],\"y\":[4],\"type\":\"scatter\"},{\"hoverinfo\":\"text\",\"hovertext\":\"Name: Chromium\\u003cbr\\u003eAtomic Number: 24\",\"marker\":{\"color\":\"yellow\",\"line\":{\"color\":\"black\",\"width\":1},\"size\":40,\"symbol\":\"square\"},\"mode\":\"markers+text\",\"text\":\"Cr\",\"x\":[6],\"y\":[4],\"type\":\"scatter\"},{\"hoverinfo\":\"text\",\"hovertext\":\"Name: Manganese\\u003cbr\\u003eAtomic Number: 25\",\"marker\":{\"color\":\"yellow\",\"line\":{\"color\":\"black\",\"width\":1},\"size\":40,\"symbol\":\"square\"},\"mode\":\"markers+text\",\"text\":\"Mn\",\"x\":[7],\"y\":[4],\"type\":\"scatter\"},{\"hoverinfo\":\"text\",\"hovertext\":\"Name: Iron\\u003cbr\\u003eAtomic Number: 26\",\"marker\":{\"color\":\"yellow\",\"line\":{\"color\":\"black\",\"width\":1},\"size\":40,\"symbol\":\"square\"},\"mode\":\"markers+text\",\"text\":\"Fe\",\"x\":[8],\"y\":[4],\"type\":\"scatter\"},{\"hoverinfo\":\"text\",\"hovertext\":\"Name: Cobalt\\u003cbr\\u003eAtomic Number: 27\",\"marker\":{\"color\":\"yellow\",\"line\":{\"color\":\"black\",\"width\":1},\"size\":40,\"symbol\":\"square\"},\"mode\":\"markers+text\",\"text\":\"Co\",\"x\":[9],\"y\":[4],\"type\":\"scatter\"},{\"hoverinfo\":\"text\",\"hovertext\":\"Name: Nickel\\u003cbr\\u003eAtomic Number: 28\",\"marker\":{\"color\":\"yellow\",\"line\":{\"color\":\"black\",\"width\":1},\"size\":40,\"symbol\":\"square\"},\"mode\":\"markers+text\",\"text\":\"Ni\",\"x\":[10],\"y\":[4],\"type\":\"scatter\"},{\"hoverinfo\":\"text\",\"hovertext\":\"Name: Copper\\u003cbr\\u003eAtomic Number: 29\",\"marker\":{\"color\":\"yellow\",\"line\":{\"color\":\"black\",\"width\":1},\"size\":40,\"symbol\":\"square\"},\"mode\":\"markers+text\",\"text\":\"Cu\",\"x\":[11],\"y\":[4],\"type\":\"scatter\"},{\"hoverinfo\":\"text\",\"hovertext\":\"Name: Zinc\\u003cbr\\u003eAtomic Number: 30\",\"marker\":{\"color\":\"yellow\",\"line\":{\"color\":\"black\",\"width\":1},\"size\":40,\"symbol\":\"square\"},\"mode\":\"markers+text\",\"text\":\"Zn\",\"x\":[12],\"y\":[4],\"type\":\"scatter\"},{\"hoverinfo\":\"text\",\"hovertext\":\"Name: Gallium\\u003cbr\\u003eAtomic Number: 31\",\"marker\":{\"color\":\"yellow\",\"line\":{\"color\":\"black\",\"width\":1},\"size\":40,\"symbol\":\"square\"},\"mode\":\"markers+text\",\"text\":\"Ga\",\"x\":[13],\"y\":[4],\"type\":\"scatter\"},{\"hoverinfo\":\"text\",\"hovertext\":\"Name: Germanium\\u003cbr\\u003eAtomic Number: 32\",\"marker\":{\"color\":\"lightgrey\",\"line\":{\"color\":\"black\",\"width\":1},\"size\":40,\"symbol\":\"square\"},\"mode\":\"markers+text\",\"text\":\"Ge\",\"x\":[14],\"y\":[4],\"type\":\"scatter\"},{\"hoverinfo\":\"text\",\"hovertext\":\"Name: Arsenic\\u003cbr\\u003eAtomic Number: 33\",\"marker\":{\"color\":\"lightgrey\",\"line\":{\"color\":\"black\",\"width\":1},\"size\":40,\"symbol\":\"square\"},\"mode\":\"markers+text\",\"text\":\"As\",\"x\":[15],\"y\":[4],\"type\":\"scatter\"},{\"hoverinfo\":\"text\",\"hovertext\":\"Name: Selenium\\u003cbr\\u003eAtomic Number: 34\",\"marker\":{\"color\":\"purple\",\"line\":{\"color\":\"black\",\"width\":1},\"size\":40,\"symbol\":\"square\"},\"mode\":\"markers+text\",\"text\":\"Se\",\"x\":[16],\"y\":[4],\"type\":\"scatter\"},{\"hoverinfo\":\"text\",\"hovertext\":\"Name: Bromine\\u003cbr\\u003eAtomic Number: 35\",\"marker\":{\"color\":\"purple\",\"line\":{\"color\":\"black\",\"width\":1},\"size\":40,\"symbol\":\"square\"},\"mode\":\"markers+text\",\"text\":\"Br\",\"x\":[17],\"y\":[4],\"type\":\"scatter\"},{\"hoverinfo\":\"text\",\"hovertext\":\"Name: Krypton\\u003cbr\\u003eAtomic Number: 36\",\"marker\":{\"color\":\"lightgreen\",\"line\":{\"color\":\"black\",\"width\":1},\"size\":40,\"symbol\":\"square\"},\"mode\":\"markers+text\",\"text\":\"Kr\",\"x\":[18],\"y\":[4],\"type\":\"scatter\"},{\"hoverinfo\":\"text\",\"hovertext\":\"Name: Rubidium\\u003cbr\\u003eAtomic Number: 37\",\"marker\":{\"color\":\"pink\",\"line\":{\"color\":\"black\",\"width\":1},\"size\":40,\"symbol\":\"square\"},\"mode\":\"markers+text\",\"text\":\"Rb\",\"x\":[1],\"y\":[5],\"type\":\"scatter\"},{\"hoverinfo\":\"text\",\"hovertext\":\"Name: Strontium\\u003cbr\\u003eAtomic Number: 38\",\"marker\":{\"color\":\"orange\",\"line\":{\"color\":\"black\",\"width\":1},\"size\":40,\"symbol\":\"square\"},\"mode\":\"markers+text\",\"text\":\"Sr\",\"x\":[2],\"y\":[5],\"type\":\"scatter\"},{\"hoverinfo\":\"text\",\"hovertext\":\"Name: Yttrium\\u003cbr\\u003eAtomic Number: 39\",\"marker\":{\"color\":\"yellow\",\"line\":{\"color\":\"black\",\"width\":1},\"size\":40,\"symbol\":\"square\"},\"mode\":\"markers+text\",\"text\":\"Y\",\"x\":[3],\"y\":[5],\"type\":\"scatter\"},{\"hoverinfo\":\"text\",\"hovertext\":\"Name: Zirconium\\u003cbr\\u003eAtomic Number: 40\",\"marker\":{\"color\":\"yellow\",\"line\":{\"color\":\"black\",\"width\":1},\"size\":40,\"symbol\":\"square\"},\"mode\":\"markers+text\",\"text\":\"Zr\",\"x\":[4],\"y\":[5],\"type\":\"scatter\"},{\"hoverinfo\":\"text\",\"hovertext\":\"Name: Niobium\\u003cbr\\u003eAtomic Number: 41\",\"marker\":{\"color\":\"yellow\",\"line\":{\"color\":\"black\",\"width\":1},\"size\":40,\"symbol\":\"square\"},\"mode\":\"markers+text\",\"text\":\"Nb\",\"x\":[5],\"y\":[5],\"type\":\"scatter\"},{\"hoverinfo\":\"text\",\"hovertext\":\"Name: Molybdenum\\u003cbr\\u003eAtomic Number: 42\",\"marker\":{\"color\":\"yellow\",\"line\":{\"color\":\"black\",\"width\":1},\"size\":40,\"symbol\":\"square\"},\"mode\":\"markers+text\",\"text\":\"Mo\",\"x\":[6],\"y\":[5],\"type\":\"scatter\"},{\"hoverinfo\":\"text\",\"hovertext\":\"Name: Technetium\\u003cbr\\u003eAtomic Number: 43\",\"marker\":{\"color\":\"yellow\",\"line\":{\"color\":\"black\",\"width\":1},\"size\":40,\"symbol\":\"square\"},\"mode\":\"markers+text\",\"text\":\"Tc\",\"x\":[7],\"y\":[5],\"type\":\"scatter\"},{\"hoverinfo\":\"text\",\"hovertext\":\"Name: Ruthenium\\u003cbr\\u003eAtomic Number: 44\",\"marker\":{\"color\":\"yellow\",\"line\":{\"color\":\"black\",\"width\":1},\"size\":40,\"symbol\":\"square\"},\"mode\":\"markers+text\",\"text\":\"Ru\",\"x\":[8],\"y\":[5],\"type\":\"scatter\"},{\"hoverinfo\":\"text\",\"hovertext\":\"Name: Rhodium\\u003cbr\\u003eAtomic Number: 45\",\"marker\":{\"color\":\"yellow\",\"line\":{\"color\":\"black\",\"width\":1},\"size\":40,\"symbol\":\"square\"},\"mode\":\"markers+text\",\"text\":\"Rh\",\"x\":[9],\"y\":[5],\"type\":\"scatter\"},{\"hoverinfo\":\"text\",\"hovertext\":\"Name: Palladium\\u003cbr\\u003eAtomic Number: 46\",\"marker\":{\"color\":\"yellow\",\"line\":{\"color\":\"black\",\"width\":1},\"size\":40,\"symbol\":\"square\"},\"mode\":\"markers+text\",\"text\":\"Pd\",\"x\":[10],\"y\":[5],\"type\":\"scatter\"},{\"hoverinfo\":\"text\",\"hovertext\":\"Name: Silver\\u003cbr\\u003eAtomic Number: 47\",\"marker\":{\"color\":\"yellow\",\"line\":{\"color\":\"black\",\"width\":1},\"size\":40,\"symbol\":\"square\"},\"mode\":\"markers+text\",\"text\":\"Ag\",\"x\":[11],\"y\":[5],\"type\":\"scatter\"},{\"hoverinfo\":\"text\",\"hovertext\":\"Name: Cadmium\\u003cbr\\u003eAtomic Number: 48\",\"marker\":{\"color\":\"yellow\",\"line\":{\"color\":\"black\",\"width\":1},\"size\":40,\"symbol\":\"square\"},\"mode\":\"markers+text\",\"text\":\"Cd\",\"x\":[12],\"y\":[5],\"type\":\"scatter\"},{\"hoverinfo\":\"text\",\"hovertext\":\"Name: Indium\\u003cbr\\u003eAtomic Number: 49\",\"marker\":{\"color\":\"yellow\",\"line\":{\"color\":\"black\",\"width\":1},\"size\":40,\"symbol\":\"square\"},\"mode\":\"markers+text\",\"text\":\"In\",\"x\":[13],\"y\":[5],\"type\":\"scatter\"},{\"hoverinfo\":\"text\",\"hovertext\":\"Name: Tin\\u003cbr\\u003eAtomic Number: 50\",\"marker\":{\"color\":\"yellow\",\"line\":{\"color\":\"black\",\"width\":1},\"size\":40,\"symbol\":\"square\"},\"mode\":\"markers+text\",\"text\":\"Sn\",\"x\":[14],\"y\":[5],\"type\":\"scatter\"},{\"hoverinfo\":\"text\",\"hovertext\":\"Name: Antimony\\u003cbr\\u003eAtomic Number: 51\",\"marker\":{\"color\":\"lightgrey\",\"line\":{\"color\":\"black\",\"width\":1},\"size\":40,\"symbol\":\"square\"},\"mode\":\"markers+text\",\"text\":\"Sb\",\"x\":[15],\"y\":[5],\"type\":\"scatter\"},{\"hoverinfo\":\"text\",\"hovertext\":\"Name: Tellurium\\u003cbr\\u003eAtomic Number: 52\",\"marker\":{\"color\":\"purple\",\"line\":{\"color\":\"black\",\"width\":1},\"size\":40,\"symbol\":\"square\"},\"mode\":\"markers+text\",\"text\":\"Te\",\"x\":[16],\"y\":[5],\"type\":\"scatter\"},{\"hoverinfo\":\"text\",\"hovertext\":\"Name: Iodine\\u003cbr\\u003eAtomic Number: 53\",\"marker\":{\"color\":\"purple\",\"line\":{\"color\":\"black\",\"width\":1},\"size\":40,\"symbol\":\"square\"},\"mode\":\"markers+text\",\"text\":\"I\",\"x\":[17],\"y\":[5],\"type\":\"scatter\"},{\"hoverinfo\":\"text\",\"hovertext\":\"Name: Xenon\\u003cbr\\u003eAtomic Number: 54\",\"marker\":{\"color\":\"lightgreen\",\"line\":{\"color\":\"black\",\"width\":1},\"size\":40,\"symbol\":\"square\"},\"mode\":\"markers+text\",\"text\":\"Xe\",\"x\":[18],\"y\":[5],\"type\":\"scatter\"},{\"hoverinfo\":\"text\",\"hovertext\":\"Name: Cesium\\u003cbr\\u003eAtomic Number: 55\",\"marker\":{\"color\":\"pink\",\"line\":{\"color\":\"black\",\"width\":1},\"size\":40,\"symbol\":\"square\"},\"mode\":\"markers+text\",\"text\":\"Cs\",\"x\":[1],\"y\":[6],\"type\":\"scatter\"},{\"hoverinfo\":\"text\",\"hovertext\":\"Name: Barium\\u003cbr\\u003eAtomic Number: 56\",\"marker\":{\"color\":\"orange\",\"line\":{\"color\":\"black\",\"width\":1},\"size\":40,\"symbol\":\"square\"},\"mode\":\"markers+text\",\"text\":\"Ba\",\"x\":[2],\"y\":[6],\"type\":\"scatter\"},{\"hoverinfo\":\"text\",\"hovertext\":\"Name: Lanthanum\\u003cbr\\u003eAtomic Number: 57\",\"marker\":{\"color\":\"lightcoral\",\"line\":{\"color\":\"black\",\"width\":1},\"size\":40,\"symbol\":\"square\"},\"mode\":\"markers+text\",\"text\":\"La\",\"x\":[3],\"y\":[9],\"type\":\"scatter\"},{\"hoverinfo\":\"text\",\"hovertext\":\"Name: Cerium\\u003cbr\\u003eAtomic Number: 58\",\"marker\":{\"color\":\"lightcoral\",\"line\":{\"color\":\"black\",\"width\":1},\"size\":40,\"symbol\":\"square\"},\"mode\":\"markers+text\",\"text\":\"Ce\",\"x\":[4],\"y\":[9],\"type\":\"scatter\"},{\"hoverinfo\":\"text\",\"hovertext\":\"Name: Praseodymium\\u003cbr\\u003eAtomic Number: 59\",\"marker\":{\"color\":\"lightcoral\",\"line\":{\"color\":\"black\",\"width\":1},\"size\":40,\"symbol\":\"square\"},\"mode\":\"markers+text\",\"text\":\"Pr\",\"x\":[5],\"y\":[9],\"type\":\"scatter\"},{\"hoverinfo\":\"text\",\"hovertext\":\"Name: Neodymium\\u003cbr\\u003eAtomic Number: 60\",\"marker\":{\"color\":\"lightcoral\",\"line\":{\"color\":\"black\",\"width\":1},\"size\":40,\"symbol\":\"square\"},\"mode\":\"markers+text\",\"text\":\"Nd\",\"x\":[6],\"y\":[9],\"type\":\"scatter\"},{\"hoverinfo\":\"text\",\"hovertext\":\"Name: Promethium\\u003cbr\\u003eAtomic Number: 61\",\"marker\":{\"color\":\"lightcoral\",\"line\":{\"color\":\"black\",\"width\":1},\"size\":40,\"symbol\":\"square\"},\"mode\":\"markers+text\",\"text\":\"Pm\",\"x\":[7],\"y\":[9],\"type\":\"scatter\"},{\"hoverinfo\":\"text\",\"hovertext\":\"Name: Samarium\\u003cbr\\u003eAtomic Number: 62\",\"marker\":{\"color\":\"lightcoral\",\"line\":{\"color\":\"black\",\"width\":1},\"size\":40,\"symbol\":\"square\"},\"mode\":\"markers+text\",\"text\":\"Sm\",\"x\":[8],\"y\":[9],\"type\":\"scatter\"},{\"hoverinfo\":\"text\",\"hovertext\":\"Name: Europium\\u003cbr\\u003eAtomic Number: 63\",\"marker\":{\"color\":\"lightcoral\",\"line\":{\"color\":\"black\",\"width\":1},\"size\":40,\"symbol\":\"square\"},\"mode\":\"markers+text\",\"text\":\"Eu\",\"x\":[9],\"y\":[9],\"type\":\"scatter\"},{\"hoverinfo\":\"text\",\"hovertext\":\"Name: Gadolinium\\u003cbr\\u003eAtomic Number: 64\",\"marker\":{\"color\":\"lightcoral\",\"line\":{\"color\":\"black\",\"width\":1},\"size\":40,\"symbol\":\"square\"},\"mode\":\"markers+text\",\"text\":\"Gd\",\"x\":[10],\"y\":[9],\"type\":\"scatter\"},{\"hoverinfo\":\"text\",\"hovertext\":\"Name: Terbium\\u003cbr\\u003eAtomic Number: 65\",\"marker\":{\"color\":\"lightcoral\",\"line\":{\"color\":\"black\",\"width\":1},\"size\":40,\"symbol\":\"square\"},\"mode\":\"markers+text\",\"text\":\"Tb\",\"x\":[11],\"y\":[9],\"type\":\"scatter\"},{\"hoverinfo\":\"text\",\"hovertext\":\"Name: Dysprosium\\u003cbr\\u003eAtomic Number: 66\",\"marker\":{\"color\":\"lightcoral\",\"line\":{\"color\":\"black\",\"width\":1},\"size\":40,\"symbol\":\"square\"},\"mode\":\"markers+text\",\"text\":\"Dy\",\"x\":[12],\"y\":[9],\"type\":\"scatter\"},{\"hoverinfo\":\"text\",\"hovertext\":\"Name: Holmium\\u003cbr\\u003eAtomic Number: 67\",\"marker\":{\"color\":\"lightcoral\",\"line\":{\"color\":\"black\",\"width\":1},\"size\":40,\"symbol\":\"square\"},\"mode\":\"markers+text\",\"text\":\"Ho\",\"x\":[13],\"y\":[9],\"type\":\"scatter\"},{\"hoverinfo\":\"text\",\"hovertext\":\"Name: Erbium\\u003cbr\\u003eAtomic Number: 68\",\"marker\":{\"color\":\"lightcoral\",\"line\":{\"color\":\"black\",\"width\":1},\"size\":40,\"symbol\":\"square\"},\"mode\":\"markers+text\",\"text\":\"Er\",\"x\":[14],\"y\":[9],\"type\":\"scatter\"},{\"hoverinfo\":\"text\",\"hovertext\":\"Name: Thulium\\u003cbr\\u003eAtomic Number: 69\",\"marker\":{\"color\":\"lightcoral\",\"line\":{\"color\":\"black\",\"width\":1},\"size\":40,\"symbol\":\"square\"},\"mode\":\"markers+text\",\"text\":\"Tm\",\"x\":[15],\"y\":[9],\"type\":\"scatter\"},{\"hoverinfo\":\"text\",\"hovertext\":\"Name: Ytterbium\\u003cbr\\u003eAtomic Number: 70\",\"marker\":{\"color\":\"lightcoral\",\"line\":{\"color\":\"black\",\"width\":1},\"size\":40,\"symbol\":\"square\"},\"mode\":\"markers+text\",\"text\":\"Yb\",\"x\":[16],\"y\":[9],\"type\":\"scatter\"},{\"hoverinfo\":\"text\",\"hovertext\":\"Name: Lutetium\\u003cbr\\u003eAtomic Number: 71\",\"marker\":{\"color\":\"lightcoral\",\"line\":{\"color\":\"black\",\"width\":1},\"size\":40,\"symbol\":\"square\"},\"mode\":\"markers+text\",\"text\":\"Lu\",\"x\":[17],\"y\":[9],\"type\":\"scatter\"},{\"hoverinfo\":\"text\",\"hovertext\":\"Name: Hafnium\\u003cbr\\u003eAtomic Number: 72\",\"marker\":{\"color\":\"yellow\",\"line\":{\"color\":\"black\",\"width\":1},\"size\":40,\"symbol\":\"square\"},\"mode\":\"markers+text\",\"text\":\"Hf\",\"x\":[4],\"y\":[6],\"type\":\"scatter\"},{\"hoverinfo\":\"text\",\"hovertext\":\"Name: Tantalum\\u003cbr\\u003eAtomic Number: 73\",\"marker\":{\"color\":\"yellow\",\"line\":{\"color\":\"black\",\"width\":1},\"size\":40,\"symbol\":\"square\"},\"mode\":\"markers+text\",\"text\":\"Ta\",\"x\":[5],\"y\":[6],\"type\":\"scatter\"},{\"hoverinfo\":\"text\",\"hovertext\":\"Name: Tungsten\\u003cbr\\u003eAtomic Number: 74\",\"marker\":{\"color\":\"yellow\",\"line\":{\"color\":\"black\",\"width\":1},\"size\":40,\"symbol\":\"square\"},\"mode\":\"markers+text\",\"text\":\"W\",\"x\":[6],\"y\":[6],\"type\":\"scatter\"},{\"hoverinfo\":\"text\",\"hovertext\":\"Name: Rhenium\\u003cbr\\u003eAtomic Number: 75\",\"marker\":{\"color\":\"yellow\",\"line\":{\"color\":\"black\",\"width\":1},\"size\":40,\"symbol\":\"square\"},\"mode\":\"markers+text\",\"text\":\"Re\",\"x\":[7],\"y\":[6],\"type\":\"scatter\"},{\"hoverinfo\":\"text\",\"hovertext\":\"Name: Osmium\\u003cbr\\u003eAtomic Number: 76\",\"marker\":{\"color\":\"yellow\",\"line\":{\"color\":\"black\",\"width\":1},\"size\":40,\"symbol\":\"square\"},\"mode\":\"markers+text\",\"text\":\"Os\",\"x\":[8],\"y\":[6],\"type\":\"scatter\"},{\"hoverinfo\":\"text\",\"hovertext\":\"Name: Iridium\\u003cbr\\u003eAtomic Number: 77\",\"marker\":{\"color\":\"yellow\",\"line\":{\"color\":\"black\",\"width\":1},\"size\":40,\"symbol\":\"square\"},\"mode\":\"markers+text\",\"text\":\"Ir\",\"x\":[9],\"y\":[6],\"type\":\"scatter\"},{\"hoverinfo\":\"text\",\"hovertext\":\"Name: Platinum\\u003cbr\\u003eAtomic Number: 78\",\"marker\":{\"color\":\"yellow\",\"line\":{\"color\":\"black\",\"width\":1},\"size\":40,\"symbol\":\"square\"},\"mode\":\"markers+text\",\"text\":\"Pt\",\"x\":[10],\"y\":[6],\"type\":\"scatter\"},{\"hoverinfo\":\"text\",\"hovertext\":\"Name: Gold\\u003cbr\\u003eAtomic Number: 79\",\"marker\":{\"color\":\"yellow\",\"line\":{\"color\":\"black\",\"width\":1},\"size\":40,\"symbol\":\"square\"},\"mode\":\"markers+text\",\"text\":\"Au\",\"x\":[11],\"y\":[6],\"type\":\"scatter\"},{\"hoverinfo\":\"text\",\"hovertext\":\"Name: Mercury\\u003cbr\\u003eAtomic Number: 80\",\"marker\":{\"color\":\"yellow\",\"line\":{\"color\":\"black\",\"width\":1},\"size\":40,\"symbol\":\"square\"},\"mode\":\"markers+text\",\"text\":\"Hg\",\"x\":[12],\"y\":[6],\"type\":\"scatter\"},{\"hoverinfo\":\"text\",\"hovertext\":\"Name: Thallium\\u003cbr\\u003eAtomic Number: 81\",\"marker\":{\"color\":\"yellow\",\"line\":{\"color\":\"black\",\"width\":1},\"size\":40,\"symbol\":\"square\"},\"mode\":\"markers+text\",\"text\":\"Tl\",\"x\":[13],\"y\":[6],\"type\":\"scatter\"},{\"hoverinfo\":\"text\",\"hovertext\":\"Name: Lead\\u003cbr\\u003eAtomic Number: 82\",\"marker\":{\"color\":\"yellow\",\"line\":{\"color\":\"black\",\"width\":1},\"size\":40,\"symbol\":\"square\"},\"mode\":\"markers+text\",\"text\":\"Pb\",\"x\":[14],\"y\":[6],\"type\":\"scatter\"},{\"hoverinfo\":\"text\",\"hovertext\":\"Name: Bismuth\\u003cbr\\u003eAtomic Number: 83\",\"marker\":{\"color\":\"yellow\",\"line\":{\"color\":\"black\",\"width\":1},\"size\":40,\"symbol\":\"square\"},\"mode\":\"markers+text\",\"text\":\"Bi\",\"x\":[15],\"y\":[6],\"type\":\"scatter\"},{\"hoverinfo\":\"text\",\"hovertext\":\"Name: Polonium\\u003cbr\\u003eAtomic Number: 84\",\"marker\":{\"color\":\"purple\",\"line\":{\"color\":\"black\",\"width\":1},\"size\":40,\"symbol\":\"square\"},\"mode\":\"markers+text\",\"text\":\"Po\",\"x\":[16],\"y\":[6],\"type\":\"scatter\"},{\"hoverinfo\":\"text\",\"hovertext\":\"Name: Astatine\\u003cbr\\u003eAtomic Number: 85\",\"marker\":{\"color\":\"purple\",\"line\":{\"color\":\"black\",\"width\":1},\"size\":40,\"symbol\":\"square\"},\"mode\":\"markers+text\",\"text\":\"At\",\"x\":[17],\"y\":[6],\"type\":\"scatter\"},{\"hoverinfo\":\"text\",\"hovertext\":\"Name: Radon\\u003cbr\\u003eAtomic Number: 86\",\"marker\":{\"color\":\"lightgreen\",\"line\":{\"color\":\"black\",\"width\":1},\"size\":40,\"symbol\":\"square\"},\"mode\":\"markers+text\",\"text\":\"Rn\",\"x\":[18],\"y\":[6],\"type\":\"scatter\"},{\"hoverinfo\":\"text\",\"hovertext\":\"Name: Francium\\u003cbr\\u003eAtomic Number: 87\",\"marker\":{\"color\":\"pink\",\"line\":{\"color\":\"black\",\"width\":1},\"size\":40,\"symbol\":\"square\"},\"mode\":\"markers+text\",\"text\":\"Fr\",\"x\":[1],\"y\":[7],\"type\":\"scatter\"},{\"hoverinfo\":\"text\",\"hovertext\":\"Name: Radium\\u003cbr\\u003eAtomic Number: 88\",\"marker\":{\"color\":\"orange\",\"line\":{\"color\":\"black\",\"width\":1},\"size\":40,\"symbol\":\"square\"},\"mode\":\"markers+text\",\"text\":\"Ra\",\"x\":[2],\"y\":[7],\"type\":\"scatter\"},{\"hoverinfo\":\"text\",\"hovertext\":\"Name: Actinium\\u003cbr\\u003eAtomic Number: 89\",\"marker\":{\"color\":\"lightgray\",\"line\":{\"color\":\"black\",\"width\":1},\"size\":40,\"symbol\":\"square\"},\"mode\":\"markers+text\",\"text\":\"Ac\",\"x\":[3],\"y\":[10],\"type\":\"scatter\"},{\"hoverinfo\":\"text\",\"hovertext\":\"Name: Thorium\\u003cbr\\u003eAtomic Number: 90\",\"marker\":{\"color\":\"lightgray\",\"line\":{\"color\":\"black\",\"width\":1},\"size\":40,\"symbol\":\"square\"},\"mode\":\"markers+text\",\"text\":\"Th\",\"x\":[4],\"y\":[10],\"type\":\"scatter\"},{\"hoverinfo\":\"text\",\"hovertext\":\"Name: Protactinium\\u003cbr\\u003eAtomic Number: 91\",\"marker\":{\"color\":\"lightgray\",\"line\":{\"color\":\"black\",\"width\":1},\"size\":40,\"symbol\":\"square\"},\"mode\":\"markers+text\",\"text\":\"Pa\",\"x\":[5],\"y\":[10],\"type\":\"scatter\"},{\"hoverinfo\":\"text\",\"hovertext\":\"Name: Uranium\\u003cbr\\u003eAtomic Number: 92\",\"marker\":{\"color\":\"lightgray\",\"line\":{\"color\":\"black\",\"width\":1},\"size\":40,\"symbol\":\"square\"},\"mode\":\"markers+text\",\"text\":\"U\",\"x\":[6],\"y\":[10],\"type\":\"scatter\"},{\"hoverinfo\":\"text\",\"hovertext\":\"Name: Neptunium\\u003cbr\\u003eAtomic Number: 93\",\"marker\":{\"color\":\"grey\",\"line\":{\"color\":\"black\",\"width\":1},\"size\":40,\"symbol\":\"square\"},\"mode\":\"markers+text\",\"text\":\"Np\",\"x\":[7],\"y\":[10],\"type\":\"scatter\"},{\"hoverinfo\":\"text\",\"hovertext\":\"Name: Plutonium\\u003cbr\\u003eAtomic Number: 94\",\"marker\":{\"color\":\"grey\",\"line\":{\"color\":\"black\",\"width\":1},\"size\":40,\"symbol\":\"square\"},\"mode\":\"markers+text\",\"text\":\"Pu\",\"x\":[8],\"y\":[10],\"type\":\"scatter\"},{\"hoverinfo\":\"text\",\"hovertext\":\"Name: Americium\\u003cbr\\u003eAtomic Number: 95\",\"marker\":{\"color\":\"grey\",\"line\":{\"color\":\"black\",\"width\":1},\"size\":40,\"symbol\":\"square\"},\"mode\":\"markers+text\",\"text\":\"Am\",\"x\":[9],\"y\":[10],\"type\":\"scatter\"},{\"hoverinfo\":\"text\",\"hovertext\":\"Name: Curium\\u003cbr\\u003eAtomic Number: 96\",\"marker\":{\"color\":\"grey\",\"line\":{\"color\":\"black\",\"width\":1},\"size\":40,\"symbol\":\"square\"},\"mode\":\"markers+text\",\"text\":\"Cm\",\"x\":[10],\"y\":[10],\"type\":\"scatter\"},{\"hoverinfo\":\"text\",\"hovertext\":\"Name: Berkelium\\u003cbr\\u003eAtomic Number: 97\",\"marker\":{\"color\":\"grey\",\"line\":{\"color\":\"black\",\"width\":1},\"size\":40,\"symbol\":\"square\"},\"mode\":\"markers+text\",\"text\":\"Bk\",\"x\":[11],\"y\":[10],\"type\":\"scatter\"},{\"hoverinfo\":\"text\",\"hovertext\":\"Name: Californium\\u003cbr\\u003eAtomic Number: 98\",\"marker\":{\"color\":\"grey\",\"line\":{\"color\":\"black\",\"width\":1},\"size\":40,\"symbol\":\"square\"},\"mode\":\"markers+text\",\"text\":\"Cf\",\"x\":[12],\"y\":[10],\"type\":\"scatter\"},{\"hoverinfo\":\"text\",\"hovertext\":\"Name: Einsteinium\\u003cbr\\u003eAtomic Number: 99\",\"marker\":{\"color\":\"grey\",\"line\":{\"color\":\"black\",\"width\":1},\"size\":40,\"symbol\":\"square\"},\"mode\":\"markers+text\",\"text\":\"Es\",\"x\":[13],\"y\":[10],\"type\":\"scatter\"},{\"hoverinfo\":\"text\",\"hovertext\":\"Name: Fermium\\u003cbr\\u003eAtomic Number: 100\",\"marker\":{\"color\":\"grey\",\"line\":{\"color\":\"black\",\"width\":1},\"size\":40,\"symbol\":\"square\"},\"mode\":\"markers+text\",\"text\":\"Fm\",\"x\":[14],\"y\":[10],\"type\":\"scatter\"},{\"hoverinfo\":\"text\",\"hovertext\":\"Name: Mendelevium\\u003cbr\\u003eAtomic Number: 101\",\"marker\":{\"color\":\"grey\",\"line\":{\"color\":\"black\",\"width\":1},\"size\":40,\"symbol\":\"square\"},\"mode\":\"markers+text\",\"text\":\"Md\",\"x\":[15],\"y\":[10],\"type\":\"scatter\"},{\"hoverinfo\":\"text\",\"hovertext\":\"Name: Nobelium\\u003cbr\\u003eAtomic Number: 102\",\"marker\":{\"color\":\"grey\",\"line\":{\"color\":\"black\",\"width\":1},\"size\":40,\"symbol\":\"square\"},\"mode\":\"markers+text\",\"text\":\"No\",\"x\":[16],\"y\":[10],\"type\":\"scatter\"},{\"hoverinfo\":\"text\",\"hovertext\":\"Name: Lawrencium\\u003cbr\\u003eAtomic Number: 103\",\"marker\":{\"color\":\"grey\",\"line\":{\"color\":\"black\",\"width\":1},\"size\":40,\"symbol\":\"square\"},\"mode\":\"markers+text\",\"text\":\"Lr\",\"x\":[17],\"y\":[10],\"type\":\"scatter\"},{\"hoverinfo\":\"text\",\"hovertext\":\"Name: Rutherfordium\\u003cbr\\u003eAtomic Number: 104\",\"marker\":{\"color\":\"grey\",\"line\":{\"color\":\"black\",\"width\":1},\"size\":40,\"symbol\":\"square\"},\"mode\":\"markers+text\",\"text\":\"Rf\",\"x\":[4],\"y\":[7],\"type\":\"scatter\"},{\"hoverinfo\":\"text\",\"hovertext\":\"Name: Dubnium\\u003cbr\\u003eAtomic Number: 105\",\"marker\":{\"color\":\"grey\",\"line\":{\"color\":\"black\",\"width\":1},\"size\":40,\"symbol\":\"square\"},\"mode\":\"markers+text\",\"text\":\"Db\",\"x\":[5],\"y\":[7],\"type\":\"scatter\"},{\"hoverinfo\":\"text\",\"hovertext\":\"Name: Seaborgium\\u003cbr\\u003eAtomic Number: 106\",\"marker\":{\"color\":\"grey\",\"line\":{\"color\":\"black\",\"width\":1},\"size\":40,\"symbol\":\"square\"},\"mode\":\"markers+text\",\"text\":\"Sg\",\"x\":[6],\"y\":[7],\"type\":\"scatter\"},{\"hoverinfo\":\"text\",\"hovertext\":\"Name: Bohrium\\u003cbr\\u003eAtomic Number: 107\",\"marker\":{\"color\":\"grey\",\"line\":{\"color\":\"black\",\"width\":1},\"size\":40,\"symbol\":\"square\"},\"mode\":\"markers+text\",\"text\":\"Bh\",\"x\":[7],\"y\":[7],\"type\":\"scatter\"},{\"hoverinfo\":\"text\",\"hovertext\":\"Name: Hassium\\u003cbr\\u003eAtomic Number: 108\",\"marker\":{\"color\":\"grey\",\"line\":{\"color\":\"black\",\"width\":1},\"size\":40,\"symbol\":\"square\"},\"mode\":\"markers+text\",\"text\":\"Hs\",\"x\":[8],\"y\":[7],\"type\":\"scatter\"},{\"hoverinfo\":\"text\",\"hovertext\":\"Name: Meitnerium\\u003cbr\\u003eAtomic Number: 109\",\"marker\":{\"color\":\"grey\",\"line\":{\"color\":\"black\",\"width\":1},\"size\":40,\"symbol\":\"square\"},\"mode\":\"markers+text\",\"text\":\"Mt\",\"x\":[9],\"y\":[7],\"type\":\"scatter\"},{\"hoverinfo\":\"text\",\"hovertext\":\"Name: Darmstadtium\\u003cbr\\u003eAtomic Number: 110\",\"marker\":{\"color\":\"grey\",\"line\":{\"color\":\"black\",\"width\":1},\"size\":40,\"symbol\":\"square\"},\"mode\":\"markers+text\",\"text\":\"Ds\",\"x\":[10],\"y\":[7],\"type\":\"scatter\"},{\"hoverinfo\":\"text\",\"hovertext\":\"Name: Roentgenium\\u003cbr\\u003eAtomic Number: 111\",\"marker\":{\"color\":\"grey\",\"line\":{\"color\":\"black\",\"width\":1},\"size\":40,\"symbol\":\"square\"},\"mode\":\"markers+text\",\"text\":\"Rg\",\"x\":[11],\"y\":[7],\"type\":\"scatter\"},{\"hoverinfo\":\"text\",\"hovertext\":\"Name: Copernicium\\u003cbr\\u003eAtomic Number: 112\",\"marker\":{\"color\":\"grey\",\"line\":{\"color\":\"black\",\"width\":1},\"size\":40,\"symbol\":\"square\"},\"mode\":\"markers+text\",\"text\":\"Cn\",\"x\":[12],\"y\":[7],\"type\":\"scatter\"},{\"hoverinfo\":\"text\",\"hovertext\":\"Name: Nihonium\\u003cbr\\u003eAtomic Number: 113\",\"marker\":{\"color\":\"grey\",\"line\":{\"color\":\"black\",\"width\":1},\"size\":40,\"symbol\":\"square\"},\"mode\":\"markers+text\",\"text\":\"Nh\",\"x\":[13],\"y\":[7],\"type\":\"scatter\"},{\"hoverinfo\":\"text\",\"hovertext\":\"Name: Flerovium\\u003cbr\\u003eAtomic Number: 114\",\"marker\":{\"color\":\"grey\",\"line\":{\"color\":\"black\",\"width\":1},\"size\":40,\"symbol\":\"square\"},\"mode\":\"markers+text\",\"text\":\"Fl\",\"x\":[14],\"y\":[7],\"type\":\"scatter\"},{\"hoverinfo\":\"text\",\"hovertext\":\"Name: Moscovium\\u003cbr\\u003eAtomic Number: 115\",\"marker\":{\"color\":\"grey\",\"line\":{\"color\":\"black\",\"width\":1},\"size\":40,\"symbol\":\"square\"},\"mode\":\"markers+text\",\"text\":\"Mc\",\"x\":[15],\"y\":[7],\"type\":\"scatter\"},{\"hoverinfo\":\"text\",\"hovertext\":\"Name: Livermorium\\u003cbr\\u003eAtomic Number: 116\",\"marker\":{\"color\":\"grey\",\"line\":{\"color\":\"black\",\"width\":1},\"size\":40,\"symbol\":\"square\"},\"mode\":\"markers+text\",\"text\":\"Lv\",\"x\":[16],\"y\":[7],\"type\":\"scatter\"},{\"hoverinfo\":\"text\",\"hovertext\":\"Name: Tennessine\\u003cbr\\u003eAtomic Number: 117\",\"marker\":{\"color\":\"grey\",\"line\":{\"color\":\"black\",\"width\":1},\"size\":40,\"symbol\":\"square\"},\"mode\":\"markers+text\",\"text\":\"Ts\",\"x\":[17],\"y\":[7],\"type\":\"scatter\"},{\"hoverinfo\":\"text\",\"hovertext\":\"Name: Oganesson\\u003cbr\\u003eAtomic Number: 118\",\"marker\":{\"color\":\"grey\",\"line\":{\"color\":\"black\",\"width\":1},\"size\":40,\"symbol\":\"square\"},\"mode\":\"markers+text\",\"text\":\"Og\",\"x\":[18],\"y\":[7],\"type\":\"scatter\"}],                        {\"template\":{\"data\":{\"histogram2dcontour\":[{\"type\":\"histogram2dcontour\",\"colorbar\":{\"outlinewidth\":0,\"ticks\":\"\"},\"colorscale\":[[0.0,\"#0d0887\"],[0.1111111111111111,\"#46039f\"],[0.2222222222222222,\"#7201a8\"],[0.3333333333333333,\"#9c179e\"],[0.4444444444444444,\"#bd3786\"],[0.5555555555555556,\"#d8576b\"],[0.6666666666666666,\"#ed7953\"],[0.7777777777777778,\"#fb9f3a\"],[0.8888888888888888,\"#fdca26\"],[1.0,\"#f0f921\"]]}],\"choropleth\":[{\"type\":\"choropleth\",\"colorbar\":{\"outlinewidth\":0,\"ticks\":\"\"}}],\"histogram2d\":[{\"type\":\"histogram2d\",\"colorbar\":{\"outlinewidth\":0,\"ticks\":\"\"},\"colorscale\":[[0.0,\"#0d0887\"],[0.1111111111111111,\"#46039f\"],[0.2222222222222222,\"#7201a8\"],[0.3333333333333333,\"#9c179e\"],[0.4444444444444444,\"#bd3786\"],[0.5555555555555556,\"#d8576b\"],[0.6666666666666666,\"#ed7953\"],[0.7777777777777778,\"#fb9f3a\"],[0.8888888888888888,\"#fdca26\"],[1.0,\"#f0f921\"]]}],\"heatmap\":[{\"type\":\"heatmap\",\"colorbar\":{\"outlinewidth\":0,\"ticks\":\"\"},\"colorscale\":[[0.0,\"#0d0887\"],[0.1111111111111111,\"#46039f\"],[0.2222222222222222,\"#7201a8\"],[0.3333333333333333,\"#9c179e\"],[0.4444444444444444,\"#bd3786\"],[0.5555555555555556,\"#d8576b\"],[0.6666666666666666,\"#ed7953\"],[0.7777777777777778,\"#fb9f3a\"],[0.8888888888888888,\"#fdca26\"],[1.0,\"#f0f921\"]]}],\"heatmapgl\":[{\"type\":\"heatmapgl\",\"colorbar\":{\"outlinewidth\":0,\"ticks\":\"\"},\"colorscale\":[[0.0,\"#0d0887\"],[0.1111111111111111,\"#46039f\"],[0.2222222222222222,\"#7201a8\"],[0.3333333333333333,\"#9c179e\"],[0.4444444444444444,\"#bd3786\"],[0.5555555555555556,\"#d8576b\"],[0.6666666666666666,\"#ed7953\"],[0.7777777777777778,\"#fb9f3a\"],[0.8888888888888888,\"#fdca26\"],[1.0,\"#f0f921\"]]}],\"contourcarpet\":[{\"type\":\"contourcarpet\",\"colorbar\":{\"outlinewidth\":0,\"ticks\":\"\"}}],\"contour\":[{\"type\":\"contour\",\"colorbar\":{\"outlinewidth\":0,\"ticks\":\"\"},\"colorscale\":[[0.0,\"#0d0887\"],[0.1111111111111111,\"#46039f\"],[0.2222222222222222,\"#7201a8\"],[0.3333333333333333,\"#9c179e\"],[0.4444444444444444,\"#bd3786\"],[0.5555555555555556,\"#d8576b\"],[0.6666666666666666,\"#ed7953\"],[0.7777777777777778,\"#fb9f3a\"],[0.8888888888888888,\"#fdca26\"],[1.0,\"#f0f921\"]]}],\"surface\":[{\"type\":\"surface\",\"colorbar\":{\"outlinewidth\":0,\"ticks\":\"\"},\"colorscale\":[[0.0,\"#0d0887\"],[0.1111111111111111,\"#46039f\"],[0.2222222222222222,\"#7201a8\"],[0.3333333333333333,\"#9c179e\"],[0.4444444444444444,\"#bd3786\"],[0.5555555555555556,\"#d8576b\"],[0.6666666666666666,\"#ed7953\"],[0.7777777777777778,\"#fb9f3a\"],[0.8888888888888888,\"#fdca26\"],[1.0,\"#f0f921\"]]}],\"mesh3d\":[{\"type\":\"mesh3d\",\"colorbar\":{\"outlinewidth\":0,\"ticks\":\"\"}}],\"scatter\":[{\"fillpattern\":{\"fillmode\":\"overlay\",\"size\":10,\"solidity\":0.2},\"type\":\"scatter\"}],\"parcoords\":[{\"type\":\"parcoords\",\"line\":{\"colorbar\":{\"outlinewidth\":0,\"ticks\":\"\"}}}],\"scatterpolargl\":[{\"type\":\"scatterpolargl\",\"marker\":{\"colorbar\":{\"outlinewidth\":0,\"ticks\":\"\"}}}],\"bar\":[{\"error_x\":{\"color\":\"#2a3f5f\"},\"error_y\":{\"color\":\"#2a3f5f\"},\"marker\":{\"line\":{\"color\":\"#E5ECF6\",\"width\":0.5},\"pattern\":{\"fillmode\":\"overlay\",\"size\":10,\"solidity\":0.2}},\"type\":\"bar\"}],\"scattergeo\":[{\"type\":\"scattergeo\",\"marker\":{\"colorbar\":{\"outlinewidth\":0,\"ticks\":\"\"}}}],\"scatterpolar\":[{\"type\":\"scatterpolar\",\"marker\":{\"colorbar\":{\"outlinewidth\":0,\"ticks\":\"\"}}}],\"histogram\":[{\"marker\":{\"pattern\":{\"fillmode\":\"overlay\",\"size\":10,\"solidity\":0.2}},\"type\":\"histogram\"}],\"scattergl\":[{\"type\":\"scattergl\",\"marker\":{\"colorbar\":{\"outlinewidth\":0,\"ticks\":\"\"}}}],\"scatter3d\":[{\"type\":\"scatter3d\",\"line\":{\"colorbar\":{\"outlinewidth\":0,\"ticks\":\"\"}},\"marker\":{\"colorbar\":{\"outlinewidth\":0,\"ticks\":\"\"}}}],\"scattermapbox\":[{\"type\":\"scattermapbox\",\"marker\":{\"colorbar\":{\"outlinewidth\":0,\"ticks\":\"\"}}}],\"scatterternary\":[{\"type\":\"scatterternary\",\"marker\":{\"colorbar\":{\"outlinewidth\":0,\"ticks\":\"\"}}}],\"scattercarpet\":[{\"type\":\"scattercarpet\",\"marker\":{\"colorbar\":{\"outlinewidth\":0,\"ticks\":\"\"}}}],\"carpet\":[{\"aaxis\":{\"endlinecolor\":\"#2a3f5f\",\"gridcolor\":\"white\",\"linecolor\":\"white\",\"minorgridcolor\":\"white\",\"startlinecolor\":\"#2a3f5f\"},\"baxis\":{\"endlinecolor\":\"#2a3f5f\",\"gridcolor\":\"white\",\"linecolor\":\"white\",\"minorgridcolor\":\"white\",\"startlinecolor\":\"#2a3f5f\"},\"type\":\"carpet\"}],\"table\":[{\"cells\":{\"fill\":{\"color\":\"#EBF0F8\"},\"line\":{\"color\":\"white\"}},\"header\":{\"fill\":{\"color\":\"#C8D4E3\"},\"line\":{\"color\":\"white\"}},\"type\":\"table\"}],\"barpolar\":[{\"marker\":{\"line\":{\"color\":\"#E5ECF6\",\"width\":0.5},\"pattern\":{\"fillmode\":\"overlay\",\"size\":10,\"solidity\":0.2}},\"type\":\"barpolar\"}],\"pie\":[{\"automargin\":true,\"type\":\"pie\"}]},\"layout\":{\"autotypenumbers\":\"strict\",\"colorway\":[\"#636efa\",\"#EF553B\",\"#00cc96\",\"#ab63fa\",\"#FFA15A\",\"#19d3f3\",\"#FF6692\",\"#B6E880\",\"#FF97FF\",\"#FECB52\"],\"font\":{\"color\":\"#2a3f5f\"},\"hovermode\":\"closest\",\"hoverlabel\":{\"align\":\"left\"},\"paper_bgcolor\":\"white\",\"plot_bgcolor\":\"#E5ECF6\",\"polar\":{\"bgcolor\":\"#E5ECF6\",\"angularaxis\":{\"gridcolor\":\"white\",\"linecolor\":\"white\",\"ticks\":\"\"},\"radialaxis\":{\"gridcolor\":\"white\",\"linecolor\":\"white\",\"ticks\":\"\"}},\"ternary\":{\"bgcolor\":\"#E5ECF6\",\"aaxis\":{\"gridcolor\":\"white\",\"linecolor\":\"white\",\"ticks\":\"\"},\"baxis\":{\"gridcolor\":\"white\",\"linecolor\":\"white\",\"ticks\":\"\"},\"caxis\":{\"gridcolor\":\"white\",\"linecolor\":\"white\",\"ticks\":\"\"}},\"coloraxis\":{\"colorbar\":{\"outlinewidth\":0,\"ticks\":\"\"}},\"colorscale\":{\"sequential\":[[0.0,\"#0d0887\"],[0.1111111111111111,\"#46039f\"],[0.2222222222222222,\"#7201a8\"],[0.3333333333333333,\"#9c179e\"],[0.4444444444444444,\"#bd3786\"],[0.5555555555555556,\"#d8576b\"],[0.6666666666666666,\"#ed7953\"],[0.7777777777777778,\"#fb9f3a\"],[0.8888888888888888,\"#fdca26\"],[1.0,\"#f0f921\"]],\"sequentialminus\":[[0.0,\"#0d0887\"],[0.1111111111111111,\"#46039f\"],[0.2222222222222222,\"#7201a8\"],[0.3333333333333333,\"#9c179e\"],[0.4444444444444444,\"#bd3786\"],[0.5555555555555556,\"#d8576b\"],[0.6666666666666666,\"#ed7953\"],[0.7777777777777778,\"#fb9f3a\"],[0.8888888888888888,\"#fdca26\"],[1.0,\"#f0f921\"]],\"diverging\":[[0,\"#8e0152\"],[0.1,\"#c51b7d\"],[0.2,\"#de77ae\"],[0.3,\"#f1b6da\"],[0.4,\"#fde0ef\"],[0.5,\"#f7f7f7\"],[0.6,\"#e6f5d0\"],[0.7,\"#b8e186\"],[0.8,\"#7fbc41\"],[0.9,\"#4d9221\"],[1,\"#276419\"]]},\"xaxis\":{\"gridcolor\":\"white\",\"linecolor\":\"white\",\"ticks\":\"\",\"title\":{\"standoff\":15},\"zerolinecolor\":\"white\",\"automargin\":true,\"zerolinewidth\":2},\"yaxis\":{\"gridcolor\":\"white\",\"linecolor\":\"white\",\"ticks\":\"\",\"title\":{\"standoff\":15},\"zerolinecolor\":\"white\",\"automargin\":true,\"zerolinewidth\":2},\"scene\":{\"xaxis\":{\"backgroundcolor\":\"#E5ECF6\",\"gridcolor\":\"white\",\"linecolor\":\"white\",\"showbackground\":true,\"ticks\":\"\",\"zerolinecolor\":\"white\",\"gridwidth\":2},\"yaxis\":{\"backgroundcolor\":\"#E5ECF6\",\"gridcolor\":\"white\",\"linecolor\":\"white\",\"showbackground\":true,\"ticks\":\"\",\"zerolinecolor\":\"white\",\"gridwidth\":2},\"zaxis\":{\"backgroundcolor\":\"#E5ECF6\",\"gridcolor\":\"white\",\"linecolor\":\"white\",\"showbackground\":true,\"ticks\":\"\",\"zerolinecolor\":\"white\",\"gridwidth\":2}},\"shapedefaults\":{\"line\":{\"color\":\"#2a3f5f\"}},\"annotationdefaults\":{\"arrowcolor\":\"#2a3f5f\",\"arrowhead\":0,\"arrowwidth\":1},\"geo\":{\"bgcolor\":\"white\",\"landcolor\":\"#E5ECF6\",\"subunitcolor\":\"white\",\"showland\":true,\"showlakes\":true,\"lakecolor\":\"white\"},\"title\":{\"x\":0.05},\"mapbox\":{\"style\":\"light\"}}},\"xaxis\":{\"title\":{\"text\":\"Group\"},\"dtick\":1},\"yaxis\":{\"title\":{\"text\":\"Period\"},\"dtick\":1,\"autorange\":\"reversed\"},\"title\":{\"text\":\"Interactive Periodic Table\"},\"showlegend\":false,\"plot_bgcolor\":\"white\",\"width\":1200,\"height\":800},                        {\"responsive\": true}                    ).then(function(){\n",
       "                            \n",
       "var gd = document.getElementById('5f246db9-998a-4374-9339-b0a5bacfa9cc');\n",
       "var x = new MutationObserver(function (mutations, observer) {{\n",
       "        var display = window.getComputedStyle(gd).display;\n",
       "        if (!display || display === 'none') {{\n",
       "            console.log([gd, 'removed!']);\n",
       "            Plotly.purge(gd);\n",
       "            observer.disconnect();\n",
       "        }}\n",
       "}});\n",
       "\n",
       "// Listen for the removal of the full notebook cells\n",
       "var notebookContainer = gd.closest('#notebook-container');\n",
       "if (notebookContainer) {{\n",
       "    x.observe(notebookContainer, {childList: true});\n",
       "}}\n",
       "\n",
       "// Listen for the clearing of the current output cell\n",
       "var outputEl = gd.closest('.output');\n",
       "if (outputEl) {{\n",
       "    x.observe(outputEl, {childList: true});\n",
       "}}\n",
       "\n",
       "                        })                };                });            </script>        </div>"
      ]
     },
     "metadata": {},
     "output_type": "display_data"
    }
   ],
   "source": [
    "# Define color mapping for categories\n",
    "category_colors = {\n",
    "    \"metalloid\": \"lightblue\",\n",
    "    \"noble_gas\": \"lightgreen\",\n",
    "    \"alkali\": \"pink\",\n",
    "    \"alkaline\": \"orange\",\n",
    "    \"metal\": \"yellow\",\n",
    "    \"chalcogen\": \"purple\",\n",
    "    \"halogen\": \"purple\",\n",
    "    \"actinoid\": \"lightgray\",\n",
    "    \"lanthanoid\": \"lightcoral\",\n",
    "    'transuranic': \"grey\",\n",
    "    \"\": \"lightgrey\"\n",
    "}\n",
    "\n",
    "# Create hover text for each element\n",
    "df[\"HoverText\"] = df.apply(\n",
    "    lambda row: f\"Name: {row['Name']}<br>Atomic Number: {row['AtomicNumber']}\",\n",
    "    axis=1\n",
    ")\n",
    "\n",
    "# Create the plot\n",
    "fig = go.Figure()\n",
    "\n",
    "for _, row in df.iterrows():\n",
    "    fig.add_trace(\n",
    "        go.Scatter(\n",
    "            x=[row[\"Group\"]],\n",
    "            y=[row[\"Period\"]],\n",
    "            mode=\"markers+text\",\n",
    "            marker=dict(\n",
    "                symbol='square',\n",
    "                size=40,\n",
    "                color=category_colors[row[\"Category\"]],\n",
    "                line=dict(color=\"black\", width=1)\n",
    "            ),\n",
    "            text=row[\"Symbol\"],\n",
    "            #textposition=\"center\",\n",
    "            hovertext=row[\"HoverText\"],\n",
    "            hoverinfo=\"text\"\n",
    "        )\n",
    "    )\n",
    "\n",
    "# Update layout\n",
    "fig.update_layout(\n",
    "    title=\"Interactive Periodic Table\",\n",
    "    xaxis=dict(title=\"Group\", dtick=1),\n",
    "    yaxis=dict(title=\"Period\", dtick=1, autorange=\"reversed\"),\n",
    "    showlegend=False,\n",
    "    plot_bgcolor=\"white\",\n",
    "    width=1200,\n",
    "    height=800,\n",
    ")\n",
    "\n",
    "# Show the plot\n",
    "fig.show()"
   ]
  },
  {
   "cell_type": "code",
   "execution_count": 61,
   "id": "1ea76030-b425-4667-9021-1d21d4917ac9",
   "metadata": {},
   "outputs": [
    {
     "data": {
      "text/plain": [
       "False"
      ]
     },
     "execution_count": 61,
     "metadata": {},
     "output_type": "execute_result"
    }
   ],
   "source": [
    "Element.P.is_"
   ]
  },
  {
   "cell_type": "code",
   "execution_count": 25,
   "id": "7ec7632d-8ce2-4238-86bf-663760e3b4ff",
   "metadata": {},
   "outputs": [
    {
     "name": "stdout",
     "output_type": "stream",
     "text": [
      "    Symbol Name  AtomicNumber  Group  Period                       HoverText\n",
      "0        H    H             1      1       1     Name: H<br>Atomic Number: 1\n",
      "1        H    D             1      1       1     Name: D<br>Atomic Number: 1\n",
      "2        H    T             1      1       1     Name: T<br>Atomic Number: 1\n",
      "3       He   He             2     18       1    Name: He<br>Atomic Number: 2\n",
      "4       Li   Li             3      1       2    Name: Li<br>Atomic Number: 3\n",
      "5       Be   Be             4      2       2    Name: Be<br>Atomic Number: 4\n",
      "6        B    B             5     13       2     Name: B<br>Atomic Number: 5\n",
      "7        C    C             6     14       2     Name: C<br>Atomic Number: 6\n",
      "8        N    N             7     15       2     Name: N<br>Atomic Number: 7\n",
      "9        O    O             8     16       2     Name: O<br>Atomic Number: 8\n",
      "10       F    F             9     17       2     Name: F<br>Atomic Number: 9\n",
      "11      Ne   Ne            10     18       2   Name: Ne<br>Atomic Number: 10\n",
      "12      Na   Na            11      1       3   Name: Na<br>Atomic Number: 11\n",
      "13      Mg   Mg            12      2       3   Name: Mg<br>Atomic Number: 12\n",
      "14      Al   Al            13     13       3   Name: Al<br>Atomic Number: 13\n",
      "15      Si   Si            14     14       3   Name: Si<br>Atomic Number: 14\n",
      "16       P    P            15     15       3    Name: P<br>Atomic Number: 15\n",
      "17       S    S            16     16       3    Name: S<br>Atomic Number: 16\n",
      "18      Cl   Cl            17     17       3   Name: Cl<br>Atomic Number: 17\n",
      "19      Ar   Ar            18     18       3   Name: Ar<br>Atomic Number: 18\n",
      "20       K    K            19      1       4    Name: K<br>Atomic Number: 19\n",
      "21      Ca   Ca            20      2       4   Name: Ca<br>Atomic Number: 20\n",
      "22      Sc   Sc            21      3       4   Name: Sc<br>Atomic Number: 21\n",
      "23      Ti   Ti            22      4       4   Name: Ti<br>Atomic Number: 22\n",
      "24       V    V            23      5       4    Name: V<br>Atomic Number: 23\n",
      "25      Cr   Cr            24      6       4   Name: Cr<br>Atomic Number: 24\n",
      "26      Mn   Mn            25      7       4   Name: Mn<br>Atomic Number: 25\n",
      "27      Fe   Fe            26      8       4   Name: Fe<br>Atomic Number: 26\n",
      "28      Co   Co            27      9       4   Name: Co<br>Atomic Number: 27\n",
      "29      Ni   Ni            28     10       4   Name: Ni<br>Atomic Number: 28\n",
      "30      Cu   Cu            29     11       4   Name: Cu<br>Atomic Number: 29\n",
      "31      Zn   Zn            30     12       4   Name: Zn<br>Atomic Number: 30\n",
      "32      Ga   Ga            31     13       4   Name: Ga<br>Atomic Number: 31\n",
      "33      Ge   Ge            32     14       4   Name: Ge<br>Atomic Number: 32\n",
      "34      As   As            33     15       4   Name: As<br>Atomic Number: 33\n",
      "35      Se   Se            34     16       4   Name: Se<br>Atomic Number: 34\n",
      "36      Br   Br            35     17       4   Name: Br<br>Atomic Number: 35\n",
      "37      Kr   Kr            36     18       4   Name: Kr<br>Atomic Number: 36\n",
      "38      Rb   Rb            37      1       5   Name: Rb<br>Atomic Number: 37\n",
      "39      Sr   Sr            38      2       5   Name: Sr<br>Atomic Number: 38\n",
      "40       Y    Y            39      3       5    Name: Y<br>Atomic Number: 39\n",
      "41      Zr   Zr            40      4       5   Name: Zr<br>Atomic Number: 40\n",
      "42      Nb   Nb            41      5       5   Name: Nb<br>Atomic Number: 41\n",
      "43      Mo   Mo            42      6       5   Name: Mo<br>Atomic Number: 42\n",
      "44      Tc   Tc            43      7       5   Name: Tc<br>Atomic Number: 43\n",
      "45      Ru   Ru            44      8       5   Name: Ru<br>Atomic Number: 44\n",
      "46      Rh   Rh            45      9       5   Name: Rh<br>Atomic Number: 45\n",
      "47      Pd   Pd            46     10       5   Name: Pd<br>Atomic Number: 46\n",
      "48      Ag   Ag            47     11       5   Name: Ag<br>Atomic Number: 47\n",
      "49      Cd   Cd            48     12       5   Name: Cd<br>Atomic Number: 48\n",
      "50      In   In            49     13       5   Name: In<br>Atomic Number: 49\n",
      "51      Sn   Sn            50     14       5   Name: Sn<br>Atomic Number: 50\n",
      "52      Sb   Sb            51     15       5   Name: Sb<br>Atomic Number: 51\n",
      "53      Te   Te            52     16       5   Name: Te<br>Atomic Number: 52\n",
      "54       I    I            53     17       5    Name: I<br>Atomic Number: 53\n",
      "55      Xe   Xe            54     18       5   Name: Xe<br>Atomic Number: 54\n",
      "56      Cs   Cs            55      1       6   Name: Cs<br>Atomic Number: 55\n",
      "57      Ba   Ba            56      2       6   Name: Ba<br>Atomic Number: 56\n",
      "58      La   La            57      3       6   Name: La<br>Atomic Number: 57\n",
      "59      Ce   Ce            58      3       6   Name: Ce<br>Atomic Number: 58\n",
      "60      Pr   Pr            59      3       6   Name: Pr<br>Atomic Number: 59\n",
      "61      Nd   Nd            60      3       6   Name: Nd<br>Atomic Number: 60\n",
      "62      Pm   Pm            61      3       6   Name: Pm<br>Atomic Number: 61\n",
      "63      Sm   Sm            62      3       6   Name: Sm<br>Atomic Number: 62\n",
      "64      Eu   Eu            63      3       6   Name: Eu<br>Atomic Number: 63\n",
      "65      Gd   Gd            64      3       6   Name: Gd<br>Atomic Number: 64\n",
      "66      Tb   Tb            65      3       6   Name: Tb<br>Atomic Number: 65\n",
      "67      Dy   Dy            66      3       6   Name: Dy<br>Atomic Number: 66\n",
      "68      Ho   Ho            67      3       6   Name: Ho<br>Atomic Number: 67\n",
      "69      Er   Er            68      3       6   Name: Er<br>Atomic Number: 68\n",
      "70      Tm   Tm            69      3       6   Name: Tm<br>Atomic Number: 69\n",
      "71      Yb   Yb            70      3       6   Name: Yb<br>Atomic Number: 70\n",
      "72      Lu   Lu            71      3       6   Name: Lu<br>Atomic Number: 71\n",
      "73      Hf   Hf            72      4       6   Name: Hf<br>Atomic Number: 72\n",
      "74      Ta   Ta            73      5       6   Name: Ta<br>Atomic Number: 73\n",
      "75       W    W            74      6       6    Name: W<br>Atomic Number: 74\n",
      "76      Re   Re            75      7       6   Name: Re<br>Atomic Number: 75\n",
      "77      Os   Os            76      8       6   Name: Os<br>Atomic Number: 76\n",
      "78      Ir   Ir            77      9       6   Name: Ir<br>Atomic Number: 77\n",
      "79      Pt   Pt            78     10       6   Name: Pt<br>Atomic Number: 78\n",
      "80      Au   Au            79     11       6   Name: Au<br>Atomic Number: 79\n",
      "81      Hg   Hg            80     12       6   Name: Hg<br>Atomic Number: 80\n",
      "82      Tl   Tl            81     13       6   Name: Tl<br>Atomic Number: 81\n",
      "83      Pb   Pb            82     14       6   Name: Pb<br>Atomic Number: 82\n",
      "84      Bi   Bi            83     15       6   Name: Bi<br>Atomic Number: 83\n",
      "85      Po   Po            84     16       6   Name: Po<br>Atomic Number: 84\n",
      "86      At   At            85     17       6   Name: At<br>Atomic Number: 85\n",
      "87      Rn   Rn            86     18       6   Name: Rn<br>Atomic Number: 86\n",
      "88      Fr   Fr            87      1       7   Name: Fr<br>Atomic Number: 87\n",
      "89      Ra   Ra            88      2       7   Name: Ra<br>Atomic Number: 88\n",
      "90      Ac   Ac            89      3       7   Name: Ac<br>Atomic Number: 89\n",
      "91      Th   Th            90      3       7   Name: Th<br>Atomic Number: 90\n",
      "92      Pa   Pa            91      3       7   Name: Pa<br>Atomic Number: 91\n",
      "93       U    U            92      3       7    Name: U<br>Atomic Number: 92\n",
      "94      Np   Np            93      3       7   Name: Np<br>Atomic Number: 93\n",
      "95      Pu   Pu            94      3       7   Name: Pu<br>Atomic Number: 94\n",
      "96      Am   Am            95      3       7   Name: Am<br>Atomic Number: 95\n",
      "97      Cm   Cm            96      3       7   Name: Cm<br>Atomic Number: 96\n",
      "98      Bk   Bk            97      3       7   Name: Bk<br>Atomic Number: 97\n",
      "99      Cf   Cf            98      3       7   Name: Cf<br>Atomic Number: 98\n",
      "100     Es   Es            99      3       7   Name: Es<br>Atomic Number: 99\n",
      "101     Fm   Fm           100      3       7  Name: Fm<br>Atomic Number: 100\n",
      "102     Md   Md           101      3       7  Name: Md<br>Atomic Number: 101\n",
      "103     No   No           102      3       7  Name: No<br>Atomic Number: 102\n",
      "104     Lr   Lr           103      3       7  Name: Lr<br>Atomic Number: 103\n",
      "105     Rf   Rf           104      4       7  Name: Rf<br>Atomic Number: 104\n",
      "106     Db   Db           105      5       7  Name: Db<br>Atomic Number: 105\n",
      "107     Sg   Sg           106      6       7  Name: Sg<br>Atomic Number: 106\n",
      "108     Bh   Bh           107      7       7  Name: Bh<br>Atomic Number: 107\n",
      "109     Hs   Hs           108      8       7  Name: Hs<br>Atomic Number: 108\n",
      "110     Mt   Mt           109      9       7  Name: Mt<br>Atomic Number: 109\n",
      "111     Ds   Ds           110     10       7  Name: Ds<br>Atomic Number: 110\n",
      "112     Rg   Rg           111     11       7  Name: Rg<br>Atomic Number: 111\n",
      "113     Cn   Cn           112     12       7  Name: Cn<br>Atomic Number: 112\n",
      "114     Nh   Nh           113     13       7  Name: Nh<br>Atomic Number: 113\n",
      "115     Fl   Fl           114     14       7  Name: Fl<br>Atomic Number: 114\n",
      "116     Mc   Mc           115     15       7  Name: Mc<br>Atomic Number: 115\n",
      "117     Lv   Lv           116     16       7  Name: Lv<br>Atomic Number: 116\n",
      "118     Ts   Ts           117     17       7  Name: Ts<br>Atomic Number: 117\n",
      "119     Og   Og           118     18       7  Name: Og<br>Atomic Number: 118\n"
     ]
    }
   ],
   "source": [
    "print(df.to_string())"
   ]
  },
  {
   "cell_type": "code",
   "execution_count": null,
   "id": "5d4f41c0-7e17-4035-8279-eb163138bcda",
   "metadata": {},
   "outputs": [],
   "source": []
  }
 ],
 "metadata": {
  "kernelspec": {
   "display_name": "Python 3 (ipykernel)",
   "language": "python",
   "name": "python3"
  },
  "language_info": {
   "codemirror_mode": {
    "name": "ipython",
    "version": 3
   },
   "file_extension": ".py",
   "mimetype": "text/x-python",
   "name": "python",
   "nbconvert_exporter": "python",
   "pygments_lexer": "ipython3",
   "version": "3.11.5"
  }
 },
 "nbformat": 4,
 "nbformat_minor": 5
}
