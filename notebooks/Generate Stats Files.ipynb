{
 "cells": [
  {
   "cell_type": "markdown",
   "id": "0",
   "metadata": {},
   "source": [
    "This notebook is used to generate a small stats datafile for display on the front end."
   ]
  },
  {
   "cell_type": "code",
   "execution_count": null,
   "id": "1",
   "metadata": {},
   "outputs": [],
   "source": [
    "from __future__ import annotations\n",
    "\n",
    "import numpy as np\n",
    "\n",
    "from matpes.db import MatPESDB"
   ]
  },
  {
   "cell_type": "code",
   "execution_count": null,
   "id": "2",
   "metadata": {},
   "outputs": [
    {
     "name": "stdout",
     "output_type": "stream",
     "text": [
      "Index(['elements', 'chemsys', 'cohesive_energy_per_atom', 'nsites',\n",
      "       'nelements', 'abs_forces'],\n",
      "      dtype='object')\n",
      "Index(['elements', 'chemsys', 'cohesive_energy_per_atom', 'nsites',\n",
      "       'nelements', 'abs_forces'],\n",
      "      dtype='object')\n"
     ]
    }
   ],
   "source": [
    "matpes = MatPESDB()\n",
    "\n",
    "for f in [\"pbe\", \"r2scan\"]:\n",
    "    df = matpes.get_df(f)\n",
    "    df[\"abs_forces\"] = df[\"forces\"].map(lambda a: np.linalg.norm(a, axis=1))\n",
    "    df = df.drop([\"matpes_id\", \"bandgap\", \"energy\", \"forces\", \"formation_energy_per_atom\", \"formula_pretty\"], axis=1)\n",
    "    df.to_pickle(f\"../pages/{f}_stats.pkl\")\n",
    "    print(df.columns)"
   ]
  },
  {
   "cell_type": "code",
   "execution_count": null,
   "id": "3",
   "metadata": {},
   "outputs": [
    {
     "data": {
      "text/html": [
       "<div>\n",
       "<style scoped>\n",
       "    .dataframe tbody tr th:only-of-type {\n",
       "        vertical-align: middle;\n",
       "    }\n",
       "\n",
       "    .dataframe tbody tr th {\n",
       "        vertical-align: top;\n",
       "    }\n",
       "\n",
       "    .dataframe thead th {\n",
       "        text-align: right;\n",
       "    }\n",
       "</style>\n",
       "<table border=\"1\" class=\"dataframe\">\n",
       "  <thead>\n",
       "    <tr style=\"text-align: right;\">\n",
       "      <th></th>\n",
       "      <th>elements</th>\n",
       "      <th>chemsys</th>\n",
       "      <th>cohesive_energy_per_atom</th>\n",
       "      <th>nsites</th>\n",
       "      <th>nelements</th>\n",
       "      <th>abs_forces</th>\n",
       "    </tr>\n",
       "  </thead>\n",
       "  <tbody>\n",
       "    <tr>\n",
       "      <th>0</th>\n",
       "      <td>[N, Zn]</td>\n",
       "      <td>N-Zn</td>\n",
       "      <td>-2.481338</td>\n",
       "      <td>2</td>\n",
       "      <td>2</td>\n",
       "      <td>[0.6342174031154766, 0.6342174031154766]</td>\n",
       "    </tr>\n",
       "    <tr>\n",
       "      <th>1</th>\n",
       "      <td>[Ti, Y]</td>\n",
       "      <td>Ti-Y</td>\n",
       "      <td>-4.083879</td>\n",
       "      <td>2</td>\n",
       "      <td>2</td>\n",
       "      <td>[0.6752115490473339, 0.6752115490473339]</td>\n",
       "    </tr>\n",
       "    <tr>\n",
       "      <th>2</th>\n",
       "      <td>[N, Zn]</td>\n",
       "      <td>N-Zn</td>\n",
       "      <td>-1.544997</td>\n",
       "      <td>2</td>\n",
       "      <td>2</td>\n",
       "      <td>[0.7046487634925044, 0.7046487634925044]</td>\n",
       "    </tr>\n",
       "    <tr>\n",
       "      <th>3</th>\n",
       "      <td>[N, Zn]</td>\n",
       "      <td>N-Zn</td>\n",
       "      <td>-2.220572</td>\n",
       "      <td>2</td>\n",
       "      <td>2</td>\n",
       "      <td>[2.3106321813065724, 2.3106321813065724]</td>\n",
       "    </tr>\n",
       "    <tr>\n",
       "      <th>4</th>\n",
       "      <td>[N, Zn]</td>\n",
       "      <td>N-Zn</td>\n",
       "      <td>-2.130760</td>\n",
       "      <td>2</td>\n",
       "      <td>2</td>\n",
       "      <td>[1.82873774801284, 1.82873774801284]</td>\n",
       "    </tr>\n",
       "  </tbody>\n",
       "</table>\n",
       "</div>"
      ],
      "text/plain": [
       "  elements chemsys  cohesive_energy_per_atom  nsites  nelements  \\\n",
       "0  [N, Zn]    N-Zn                 -2.481338       2          2   \n",
       "1  [Ti, Y]    Ti-Y                 -4.083879       2          2   \n",
       "2  [N, Zn]    N-Zn                 -1.544997       2          2   \n",
       "3  [N, Zn]    N-Zn                 -2.220572       2          2   \n",
       "4  [N, Zn]    N-Zn                 -2.130760       2          2   \n",
       "\n",
       "                                 abs_forces  \n",
       "0  [0.6342174031154766, 0.6342174031154766]  \n",
       "1  [0.6752115490473339, 0.6752115490473339]  \n",
       "2  [0.7046487634925044, 0.7046487634925044]  \n",
       "3  [2.3106321813065724, 2.3106321813065724]  \n",
       "4      [1.82873774801284, 1.82873774801284]  "
      ]
     },
     "execution_count": null,
     "metadata": {},
     "output_type": "execute_result"
    }
   ],
   "source": [
    "df.head()"
   ]
  }
 ],
 "metadata": {
  "kernelspec": {
   "display_name": "Python 3 (ipykernel)",
   "language": "python",
   "name": "python3"
  },
  "language_info": {
   "codemirror_mode": {
    "name": "ipython",
    "version": 3
   },
   "file_extension": ".py",
   "mimetype": "text/x-python",
   "name": "python",
   "nbconvert_exporter": "python",
   "pygments_lexer": "ipython3",
   "version": "3.11.10"
  }
 },
 "nbformat": 4,
 "nbformat_minor": 5
}
