{
 "cells": [
  {
   "cell_type": "markdown",
   "id": "0",
   "metadata": {},
   "source": [
    "This notebook is used to demonstrate the training of TensorNet on MatPES-PBE dataset"
   ]
  },
  {
   "cell_type": "code",
   "execution_count": null,
   "id": "1",
   "metadata": {},
   "outputs": [],
   "source": [
    "from __future__ import annotations\n",
    "\n",
    "import collections\n",
    "import itertools\n",
    "import json\n",
    "import os\n",
    "\n",
    "import numpy as np\n",
    "import json\n",
    "import torch\n",
    "from pymatgen.core import Structure\n",
    "\n",
    "import matgl\n",
    "from matgl.graph.data import MGLDataset, MGLDataLoader, collate_fn_pes\n",
    "from matgl.models import TensorNet\n",
    "from matgl.layers import AtomRef\n",
    "from dgl.data.utils import split_dataset\n",
    "from matgl.config import DEFAULT_ELEMENTS\n",
    "from matgl.utils.training import PotentialLightningModule, xavier_init\n",
    "from matgl.ext.pymatgen import Structure2Graph\n",
    "from torch.optim.lr_scheduler import CosineAnnealingLR\n",
    "import lightning as pl\n",
    "from lightning.pytorch.loggers import CSVLogger\n",
    "from lightning.pytorch.callbacks.early_stopping import EarlyStopping\n",
    "from lightning.pytorch.callbacks import ModelCheckpoint\n",
    "from ase.stress import voigt_6_to_full_3x3_stress\n",
    "from functools import partial"
   ]
  },
  {
   "cell_type": "code",
   "execution_count": null,
   "id": "2",
   "metadata": {},
   "outputs": [],
   "source": [
    "# define the isolated atom energies for PBE\n",
    "isolated_energies_pbe = {'Ac': -0.24210133, 'Ag': -0.19840574, 'Al': -0.21672837, 'Ar': -0.0235315, 'As': -1.70136472, 'Au': -0.18479218, 'B': -0.2911712, 'Ba': -1.35978407, 'Be': -0.04262353, 'Bi': -1.32462383, 'Br': -0.22687512, 'C': -1.26281801, 'Ca': -0.02596217, 'Cd': -0.01374787, 'Ce': -1.43642821, 'Cl': -0.25828681, 'Co': -1.66614587, 'Cr': -5.44620624, 'Cs': -0.13452777, 'Cu': -0.23745594, 'Dy': -5.51640166, 'Er': -3.03880565, 'Eu': -9.48606277, 'F': -0.43794547, 'Fe': -3.30583367, 'Ga': -0.19854295, 'Gd': -8.11540027, 'Ge': -0.77924665, 'H': -1.11723232, 'He': -0.00045595, 'Hf': -3.49292389, 'Hg': -0.0105212, 'Ho': -4.30111439, 'I': -0.18858477, 'In': -0.19672488, 'Ir': -1.42793567, 'K': -0.17827125, 'Kr': -0.02265396, 'La': -0.62794477, 'Li': -0.29734917, 'Lu': -0.25255978, 'Mg': -0.00994627, 'Mn': -5.14592659, 'Mo': -4.60213279, 'N': -3.12555634, 'Na': -0.22858276, 'Nb': -2.53481909, 'Nd': -3.6389801, 'Ne': -0.01216023, 'Ni': -0.28412403, 'Np': -7.30273499, 'O': -1.54690765, 'Os': -2.88280809, 'P': -1.88719667, 'Pa': -2.03239022, 'Pb': -0.63069886, 'Pd': -1.47521138, 'Pm': -5.08859903, 'Pr': -2.12706895, 'Pt': -0.50244445, 'Pu': -10.39244586, 'Rb': -0.16194042, 'Re': -4.63436797, 'Rh': -1.44016062, 'Ru': -1.68884293, 'S': -0.89091719, 'Sb': -1.4302063, 'Sc': -2.12966897, 'Se': -0.78345919, 'Si': -0.82583191, 'Sm': -6.9970228, 'Sn': -0.67963499, 'Sr': -0.02823145, 'Ta': -3.5659314, 'Tb': -6.45686224, 'Tc': -3.40289704, 'Te': -0.6573123, 'Th': -1.04419147, 'Ti': -2.40532262, 'Tl': -0.17939998, 'Tm': -2.10513872, 'U': -4.6443113, 'V': -3.61232779, 'W': -4.57101127, 'Xe': -0.01020284, 'Y': -2.25679622, 'Yb': -1.84040717, 'Zn': -0.01098351, 'Zr': -2.23742918}\n",
    "# read the MatPES database using json\n",
    "with open(\"MatPES-PBE-2025.1.json\") as f:\n",
    "    data = json.load(f)\n",
    "# initialize the lists for storing structures with energies, forces, and optional stresses \n",
    "structures = []\n",
    "energies = []\n",
    "forces = []\n",
    "stresses = []\n",
    "for i in range(len(data)):\n",
    "    structures.append(Structure.from_dict(data[i]['structure']))\n",
    "    energies.append(data[i]['energy'])\n",
    "    forces.append(data[i]['forces'])\n",
    "    stresses.append(voigt_6_to_full_3x3_stress(np.array(data[i]['stress']))*-0.1)\n",
    "stresses = [stress.tolist() for stress in stresses]"
   ]
  },
  {
   "cell_type": "code",
   "execution_count": null,
   "id": "d0b969ce-4436-4a83-a897-91e1c317c768",
   "metadata": {},
   "outputs": [],
   "source": [
    "# define the graph converter for periodic systems\n",
    "element_types = DEFAULT_ELEMENTS\n",
    "cry_graph = Structure2Graph(element_types=element_types, cutoff=5.0)\n"
   ]
  },
  {
   "cell_type": "code",
   "execution_count": null,
   "id": "cac0d813-3f52-4ce9-9931-93f9d92f63ac",
   "metadata": {},
   "outputs": [],
   "source": [
    "# save all PES properties into a dictionary\n",
    "labels = {}\n",
    "labels[\"energies\"] = energies\n",
    "labels[\"forces\"] = forces\n",
    "labels[\"stresses\"] = stresses\n",
    "\n",
    "dataset = MGLDataset(structures=structures, converter=cry_graph, labels=labels)"
   ]
  },
  {
   "cell_type": "code",
   "execution_count": null,
   "id": "bd2e9d73-2d67-4ea7-b344-05900f10d168",
   "metadata": {},
   "outputs": [],
   "source": [
    "# splitting the dataset into training, validation and test\n",
    "training_set, validation_set, test_set = split_dataset(dataset, [0.9, 0.05, 0.05], random_state=42, shuffle=True)\n",
    "# define the proper collate function for MGLDataLoader\n",
    "collate_fn = partial(collate_fn_pes, include_line_graph=False, include_stress=True)\n",
    "# initialize dataloader for training and validation \n",
    "train_loader, val_loader = MGLDataLoader(\n",
    "    train_data=training_set,\n",
    "    val_data=validation_set,\n",
    "    collate_fn=collate_fn,\n",
    "    batch_size=32,\n",
    "    num_workers=0,\n",
    ")"
   ]
  },
  {
   "cell_type": "code",
   "execution_count": null,
   "id": "55e05af0-4240-4aa7-abab-060cb33adc48",
   "metadata": {},
   "outputs": [],
   "source": [
    "# initialize TensorNet architecture\n",
    "model = TensorNet(\n",
    "    element_types=element_types,\n",
    "    is_intensive=False,\n",
    "    rbf_type=\"SphericalBessel\",\n",
    "    use_smooth=True,\n",
    "    units=128,\n",
    ")"
   ]
  },
  {
   "cell_type": "code",
   "execution_count": null,
   "id": "07285c36-6398-406a-8a11-8efb9c22b347",
   "metadata": {},
   "outputs": [],
   "source": [
    "# calculate scaling factor for training\n",
    "train_graphs = []\n",
    "energies = []\n",
    "forces = []\n",
    "for (g, lat, attrs, lbs) in training_set:\n",
    "    train_graphs.append(g)\n",
    "    energies.append(lbs[\"energies\"])\n",
    "    forces.append(lbs['forces'])\n",
    "forces = torch.concatenate(forces)\n",
    "rms_forces = torch.sqrt(torch.mean(torch.sum(forces**2, dim=1)))\n",
    "# weight initialization\n",
    "xavier_init(model)\n",
    "# setup the optimizer and scheduler\n",
    "optimizer = torch.optim.AdamW(model.parameters(), lr=1.0e-3, weight_decay=1.0e-5, amsgrad=True)\n",
    "scheduler = CosineAnnealingLR(optimizer, T_max=1000 * 10, eta_min=1.0e-2 * 1.0e-3)"
   ]
  },
  {
   "cell_type": "code",
   "execution_count": null,
   "id": "8bc94f49-b818-4d8e-95ea-a86109955142",
   "metadata": {},
   "outputs": [],
   "source": [
    "# setup element_refs\n",
    "energies_offsets = np.array([isolated_energies_pbe[element] for element in DEFAULT_ELEMENTS])\n",
    "# initialize the potential lightning module\n",
    "lit_model = PotentialLightningModule(\n",
    "    model=model,\n",
    "    element_refs=energies_offsets,\n",
    "    data_std=rms_forces,\n",
    "    optimizer=optimizer,\n",
    "    scheduler=scheduler,\n",
    "    loss=\"l1_loss\",\n",
    "    stress_weight=0.1,\n",
    "    include_line_graph=False,\n",
    ")\n",
    "# setup loggers\n",
    "path = os.getcwd()\n",
    "logger = CSVLogger(save_dir=path)\n",
    "# setup checkpoints\n",
    "checkpoint_callback = ModelCheckpoint(\n",
    "    save_top_k=1,\n",
    "    monitor=\"val_Total_Loss\",\n",
    "    mode=\"min\",\n",
    "    filename=\"{epoch:04d}-best_model\",\n",
    ")\n",
    "# setup trainer\n",
    "trainer = pl.Trainer(\n",
    "    logger=logger,\n",
    "    callbacks=[EarlyStopping(monitor=\"val_Total_Loss\", mode=\"min\", patience=200), checkpoint_callback],\n",
    "    max_epochs=1000,\n",
    "    accelerator=\"cpu\", # you can use gpu instead \n",
    "    gradient_clip_val=2.0,\n",
    "    accumulate_grad_batches=4,\n",
    "    profiler=\"simple\",\n",
    ")\n",
    "# fit!\n",
    "trainer.fit(model=lit_model, train_dataloaders=train_loader, val_dataloaders=val_loader)\n"
   ]
  },
  {
   "cell_type": "code",
   "execution_count": null,
   "id": "55525d0c-8a67-4062-834b-3edccc53785a",
   "metadata": {},
   "outputs": [],
   "source": [
    "# save trained model\n",
    "model_export_path = \"./trained_model/\"\n",
    "lit_model.model.save(model_export_path)"
   ]
  },
  {
   "cell_type": "code",
   "execution_count": null,
   "id": "866731b5-4c01-4b75-b14c-c234c6aa3984",
   "metadata": {},
   "outputs": [],
   "source": [
    "# This code just performs cleanup for this notebook.\n",
    "shutil.rmtree(\"MGLDataset\")\n",
    "shutil.rmtree(\"trained_model\")"
   ]
  }
 ],
 "metadata": {
  "kernelspec": {
   "display_name": "Python 3 (ipykernel)",
   "language": "python",
   "name": "python3"
  },
  "language_info": {
   "codemirror_mode": {
    "name": "ipython",
    "version": 3
   },
   "file_extension": ".py",
   "mimetype": "text/x-python",
   "name": "python",
   "nbconvert_exporter": "python",
   "pygments_lexer": "ipython3",
   "version": "3.11.11"
  }
 },
 "nbformat": 4,
 "nbformat_minor": 5
}
