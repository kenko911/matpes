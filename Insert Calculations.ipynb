{
 "cells": [
  {
   "cell_type": "code",
   "execution_count": 1,
   "id": "1671fa59-c236-4401-8548-afaee3e85fcd",
   "metadata": {},
   "outputs": [],
   "source": [
    "from __future__ import annotations\n",
    "\n",
    "from monty.serialization import loadfn"
   ]
  },
  {
   "cell_type": "code",
   "execution_count": null,
   "id": "870765b8-719c-4405-b489-ba3f2733b10f",
   "metadata": {},
   "outputs": [],
   "source": [
    "from pymongo import MongoClient\n",
    "\n",
    "client = MongoClient()\n",
    "db = client[\"matpes\"]"
   ]
  },
  {
   "cell_type": "code",
   "execution_count": 19,
   "id": "df43bc4e-2ed5-415d-a980-a868c1b5f2e9",
   "metadata": {},
   "outputs": [],
   "source": [
    "# pbe = loadfn(\"2024_11_18_MatPES-20240214-r2SCAN-training-data.json.gz-training-data.json.gz\")"
   ]
  },
  {
   "cell_type": "code",
   "execution_count": 21,
   "id": "5e60c4e6-c868-4dc1-ac1e-ed25ceca96ba",
   "metadata": {},
   "outputs": [],
   "source": [
    "def make_db(functional):\n",
    "    raw = loadfn(f\"2024_11_18_MatPES-20240214-{functional}-training-data.json.gz\")\n",
    "    data = []\n",
    "    for k, v in raw.items():\n",
    "        d = {\"matpesid\": k} | v\n",
    "        comp = d[\"structure\"].composition\n",
    "        d[\"natoms\"] = len(d[\"structure\"])\n",
    "        d[\"elements\"] = list(comp.chemical_system_set)\n",
    "        d[\"nelements\"] = len(d[\"elements\"])\n",
    "        d[\"chemsys\"] = comp.chemical_system\n",
    "        d[\"formula\"] = comp.reduced_formula\n",
    "        d[\"composition\"] = {el.symbol: amt for el, amt in comp.items()}\n",
    "        d[\"structure\"] = d[\"structure\"].as_dict()\n",
    "        data.append(d)\n",
    "    collection = db[functional]\n",
    "    collection.delete_many({})\n",
    "    collection.insert_many(data)\n",
    "    for k in [\"natoms\", \"elements\", \"nelements\", \"chemsys\", \"formula\", \"matpesid\"]:\n",
    "        collection.create_index(k)"
   ]
  },
  {
   "cell_type": "code",
   "execution_count": 23,
   "id": "e7eb2367-d29b-4de2-91bb-489906689761",
   "metadata": {},
   "outputs": [],
   "source": [
    "make_db(\"PBE\")\n",
    "#make_db(\"r2SCAN\")"
   ]
  },
  {
   "cell_type": "code",
   "execution_count": null,
   "id": "d167bd6c-197a-4e95-9267-c7b10b0ad6ef",
   "metadata": {},
   "outputs": [],
   "source": []
  }
 ],
 "metadata": {
  "kernelspec": {
   "display_name": "Python 3 (ipykernel)",
   "language": "python",
   "name": "python3"
  },
  "language_info": {
   "codemirror_mode": {
    "name": "ipython",
    "version": 3
   },
   "file_extension": ".py",
   "mimetype": "text/x-python",
   "name": "python",
   "nbconvert_exporter": "python",
   "pygments_lexer": "ipython3",
   "version": "3.11.10"
  }
 },
 "nbformat": 4,
 "nbformat_minor": 5
}
